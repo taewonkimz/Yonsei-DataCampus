{
 "cells": [
  {
   "cell_type": "markdown",
   "metadata": {},
   "source": [
    "![kdata](../img/kdata-logo.png)\n",
    "\n",
    "# Python Basic Lecture01\n",
    "\n",
    "Date : 2019.07.01"
   ]
  },
  {
   "cell_type": "markdown",
   "metadata": {},
   "source": [
    "---\n",
    "\n",
    "## Computer\n",
    ": a machine that you can\n",
    "1. receive (받고), \n",
    "2. store (저장하고),\n",
    "3. transform (변환하고),\n",
    "4. and output (결과를 도출)\n",
    "\n",
    "=> data of all kinds\n",
    "\n",
    "### Computer System  \n",
    ": **HW(Hardware)** + **SW(Software)**  \n",
    "저장장치에 저장된 특정한 목적의 하나 또는 다수의 컴퓨터 프로그래밍\n",
    "\n",
    "### Computer Hardware\n",
    "- CPU\n",
    "- Memory\n",
    "- Storage\n",
    "- Input / Output Devices\n",
    "\n",
    "### Memory\n",
    "- Main memory stores programs, data, and results\n",
    "- Secondary storage retains data evec when the power to the drive is off \n",
    "- 1 byte : `256` ( $2^8$ ) bits\n",
    "\n",
    "### Computer Software\n",
    "- Computer Hardware\n",
    "- System Software ( OS )\n",
    "    - **macOS** / **Windows** / **Linux**\n",
    "- Application Software\n",
    "    - Python, Browser, Game\n",
    "    \n",
    "### Program Process\n",
    "program : 보조기억장치에 저장된 파일 => 이걸 메모리에 로드해둬야 쓸 수 있다\n",
    "\n",
    "### Can computer understand commands?\n",
    "`자연어(Natural Language)` 즉, 사람의 말로 해도 알아들을 수 있지 않을까?  \n",
    "자연어는 `규칙적이지 않기 때문에` 컴퓨터한테 이걸 알려주기 힘들기 때문이다.  \n",
    "그래서 우리는 기계가 알아들을 수 있는 `기계어(Machine Language)`로 바꿔줘야 컴퓨터가 알아들을 수 있다.\n",
    "\n",
    "### Processing High-Level Languages into Machine Languages\n",
    "\n",
    "#### 1. Compiler\n",
    "- 실행 전에 프로그램 언어를 모두 기계어로 번역해놓고 실행하는 방식\n",
    "- C/C++\n",
    "\n",
    "#### 2. Interpreters\n",
    "- 한줄씩 프로그램언어를 읽고 기계어로 번역하여 실행하는 방식\n",
    "- Java, Python\n",
    "\n",
    "### Flow of Information during Program Execution\n",
    "Input( Keyboard ) → Source Code → Memory → CPU → Memory → Output( Monitor )"
   ]
  },
  {
   "cell_type": "markdown",
   "metadata": {},
   "source": [
    "---\n",
    "## Python\n",
    ": 1990년 네덜란드 출신 프로그래머 귀도 반 로썸(Guido Van Rossum)가 발표한 프로그램언어\n",
    "\n",
    "\n",
    "### Python의 특징\n",
    "1. Simple : 엄청난 개발자 층을 가지게 했고, 수많은 라이브러리를 만들어냄\n",
    "2. Cross Platform : 다양한 OS에서 사용할 수 있음\n",
    "\n",
    "### Python 활용분야\n",
    "- Web Server\n",
    "    - Flask, django와 같은 웹프로그래밍\n",
    "- Crawling\n",
    "- Data Science → 우리가 집중해야할 부분\n",
    "    - Pandas, Sklearn, Numpy, SciPy\n",
    "- AI\n",
    "    - Machine Learning, Deep Learning\n",
    "\n",
    "### Install Python3 by Anaconda\n",
    "\n",
    "`macOS` version\n",
    "```\n",
    "https://www.anaconda.com/distribution/#macos\n",
    "```\n",
    "\n",
    "Alternatively, you can use `brew cask install anaconda` command line in Terminal.  \n",
    "Then you should add\n",
    "```\n",
    "export PATH=\"/usr/local/anaconda3/bin:$PATH\"\n",
    "```\n",
    "in your `.bashrc` or `.zshrc`."
   ]
  },
  {
   "cell_type": "markdown",
   "metadata": {},
   "source": [
    "---\n",
    "## Python Basic Grammar"
   ]
  },
  {
   "cell_type": "code",
   "execution_count": 2,
   "metadata": {
    "scrolled": true
   },
   "outputs": [
    {
     "name": "stdout",
     "output_type": "stream",
     "text": [
      "Hello World!\n"
     ]
    }
   ],
   "source": [
    "print('Hello World!') # 화면에 출력하라는 명령어"
   ]
  },
  {
   "cell_type": "code",
   "execution_count": 3,
   "metadata": {},
   "outputs": [
    {
     "name": "stdout",
     "output_type": "stream",
     "text": [
      "Hello World!\n"
     ]
    }
   ],
   "source": [
    "print(\"Hello World!\") # 작은 따옴표, 큰 따옴표 모두 가능"
   ]
  },
  {
   "cell_type": "markdown",
   "metadata": {},
   "source": [
    "print(Hello World) → 작은 따옴표나 큰 따옴표로 닫지 않으면 아래와 같은 **Syntax Error** 발생\n",
    "```\n",
    "  File \"<ipython-input-5-10cb182148e3>\", line 1\n",
    "    print(Hello World)\n",
    "                    ^\n",
    "SyntaxError: invalid syntax\n",
    "```"
   ]
  },
  {
   "cell_type": "code",
   "execution_count": 7,
   "metadata": {},
   "outputs": [
    {
     "name": "stdout",
     "output_type": "stream",
     "text": [
      "Hello World!\n"
     ]
    }
   ],
   "source": [
    "print('Hello '+'World!') # 문자열끼리 더할 수 있음"
   ]
  },
  {
   "cell_type": "code",
   "execution_count": 4,
   "metadata": {},
   "outputs": [
    {
     "name": "stdout",
     "output_type": "stream",
     "text": [
      "\n",
      "여러 줄 출력하고 싶으면\n",
      "이렇게 하면 됩니다.\n",
      "\n"
     ]
    }
   ],
   "source": [
    "print('''\n",
    "여러 줄 출력하고 싶으면\n",
    "이렇게 하면 됩니다.\n",
    "''')"
   ]
  },
  {
   "cell_type": "code",
   "execution_count": 11,
   "metadata": {},
   "outputs": [
    {
     "name": "stdout",
     "output_type": "stream",
     "text": [
      "20190701\n"
     ]
    }
   ],
   "source": [
    "a = input() # a의 값을 입력하는 함수"
   ]
  },
  {
   "cell_type": "code",
   "execution_count": 13,
   "metadata": {},
   "outputs": [
    {
     "name": "stdout",
     "output_type": "stream",
     "text": [
      "값을 입력하세요 : 20190701\n"
     ]
    }
   ],
   "source": [
    "b = input('값을 입력하세요 : ')"
   ]
  },
  {
   "cell_type": "markdown",
   "metadata": {},
   "source": [
    "파이썬에는 기본 제공 함수(Built-in 함수)가 있다. 이런 함수들은 언제 어디서나 사용(call)할 수 있다.\n",
    "![image.png](../img/python-built-in-functions.png)"
   ]
  }
 ],
 "metadata": {
  "kernelspec": {
   "display_name": "Python 3",
   "language": "python",
   "name": "python3"
  },
  "language_info": {
   "codemirror_mode": {
    "name": "ipython",
    "version": 3
   },
   "file_extension": ".py",
   "mimetype": "text/x-python",
   "name": "python",
   "nbconvert_exporter": "python",
   "pygments_lexer": "ipython3",
   "version": "3.6.8"
  }
 },
 "nbformat": 4,
 "nbformat_minor": 2
}
