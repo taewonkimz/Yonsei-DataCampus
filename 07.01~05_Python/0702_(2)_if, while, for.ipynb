{
 "cells": [
  {
   "cell_type": "markdown",
   "metadata": {},
   "source": [
    "![kdata](../img/kdata-logo.png)\n",
    "\n",
    "# Python Basic Lecture04 : 조건문, 반복문\n",
    "\n",
    "Date : 2019.07.02"
   ]
  },
  {
   "cell_type": "markdown",
   "metadata": {},
   "source": [
    "## 제어문\n",
    "- 프로그램은 명령문들의 모임\n",
    "- 명령문들은 순차적으로 실행 (top-down order)\n",
    "- 제어문\n",
    "    - 명령문 실행순서를 바꾸는 문장\n",
    "    - 제어문은 하나의 문장이 위치할 수 있는 곳 어디서나 작성 가능\n",
    "- if / else if / if-elif ... else\n",
    "- while / for\n",
    "- break / continue"
   ]
  },
  {
   "cell_type": "markdown",
   "metadata": {},
   "source": [
    "### 1. 조건문\n",
    "```python\n",
    "if condition1:\n",
    "    statement1\n",
    "    statement2\n",
    "    statement3\n",
    "# elif condition2:\n",
    "    # statement4\n",
    "else : \n",
    "    statement5\n",
    "```\n",
    "- 수식이 `True`인 경우, if block 실행, 아니면 else block 실행  \n",
    "- else 부분은 optional  \n",
    "- 들여쓰기(indent)"
   ]
  },
  {
   "cell_type": "code",
   "execution_count": 21,
   "metadata": {},
   "outputs": [
    {
     "name": "stdout",
     "output_type": "stream",
     "text": [
      "x : 4\n",
      "y : 5\n",
      "큰 수는 5입니다.\n"
     ]
    }
   ],
   "source": [
    "x = int(input(\"x : \"))\n",
    "y = int(input(\"y : \"))\n",
    "if x>y :\n",
    "    print('큰 수는 %d입니다.'%x)\n",
    "elif y>x:\n",
    "    print('큰 수는 %d입니다.'%y)\n",
    "else:\n",
    "    print('두 수가 같습니다.')"
   ]
  },
  {
   "cell_type": "code",
   "execution_count": 26,
   "metadata": {
    "scrolled": true
   },
   "outputs": [
    {
     "name": "stdout",
     "output_type": "stream",
     "text": [
      "3,4\n",
      "큰 수는 4입니다.\n"
     ]
    }
   ],
   "source": [
    "a,b = map(int,input().split(','))\n",
    "print('큰 수는 %d입니다.'%(a if a>b else b))"
   ]
  },
  {
   "cell_type": "markdown",
   "metadata": {},
   "source": [
    "```python\n",
    "if condi1:\n",
    "    state1\n",
    "if condi2: # elif로 하지 않고\n",
    "    state2\n",
    "else:\n",
    "    state3\n",
    "```\n",
    "와 같이 짜면 정말 이상해질수도 있다"
   ]
  },
  {
   "cell_type": "code",
   "execution_count": 28,
   "metadata": {},
   "outputs": [
    {
     "name": "stdout",
     "output_type": "stream",
     "text": [
      "3.14\n",
      "소수부분 :  0.14000000000000012\n"
     ]
    }
   ],
   "source": [
    "x = eval(input())\n",
    "if type(x)==float:\n",
    "    print('소수부분 : ',x-int(x))"
   ]
  },
  {
   "cell_type": "code",
   "execution_count": 37,
   "metadata": {},
   "outputs": [
    {
     "name": "stdout",
     "output_type": "stream",
     "text": [
      "93, 40\n",
      "FAIL\n"
     ]
    }
   ],
   "source": [
    "math, eng = eval(input())\n",
    "if math >= 90 and eng >= 90:\n",
    "    w = 'PASS'\n",
    "else:\n",
    "    w = 'FAIL'\n",
    "print(w)"
   ]
  },
  {
   "cell_type": "code",
   "execution_count": 41,
   "metadata": {},
   "outputs": [
    {
     "name": "stdout",
     "output_type": "stream",
     "text": [
      "57\n",
      "F\n"
     ]
    }
   ],
   "source": [
    "score = eval(input())\n",
    "if score >= 90:\n",
    "    print('A')\n",
    "elif score >=80 and  score < 90:\n",
    "    print('B')\n",
    "elif score >=70 and  score < 80:\n",
    "    print('C')\n",
    "elif score >=60 and  score < 70:\n",
    "    print('D')\n",
    "else:\n",
    "    print('F')"
   ]
  },
  {
   "cell_type": "code",
   "execution_count": 42,
   "metadata": {},
   "outputs": [
    {
     "name": "stdout",
     "output_type": "stream",
     "text": [
      "False!\n"
     ]
    }
   ],
   "source": [
    "if False:\n",
    "    print('True!')\n",
    "else:\n",
    "    print('False!')"
   ]
  },
  {
   "cell_type": "code",
   "execution_count": 43,
   "metadata": {},
   "outputs": [],
   "source": [
    "if [] :\n",
    "    print('Hi!')"
   ]
  },
  {
   "cell_type": "code",
   "execution_count": 45,
   "metadata": {},
   "outputs": [
    {
     "name": "stdout",
     "output_type": "stream",
     "text": [
      "요일 : Mon\n",
      "True\n"
     ]
    }
   ],
   "source": [
    "d = input('요일 : ')\n",
    "if d in ('Mon','Wed','Fri'):\n",
    "    attendance = True\n",
    "else:\n",
    "    attendance = False\n",
    "print(attendance)"
   ]
  },
  {
   "cell_type": "markdown",
   "metadata": {},
   "source": [
    "### 2. 반복문\n",
    "\n",
    "#### While문\n",
    "```python\n",
    "while condition:\n",
    "    statement1\n",
    "else: # this part is optional\n",
    "    statement2\n",
    "```"
   ]
  },
  {
   "cell_type": "code",
   "execution_count": 47,
   "metadata": {},
   "outputs": [
    {
     "name": "stdout",
     "output_type": "stream",
     "text": [
      "0 1 2 3 4 5 6 7 8 9 hi\n"
     ]
    }
   ],
   "source": [
    "n = 0\n",
    "while n<10:\n",
    "    print(n, end=' ')\n",
    "    n +=1\n",
    "else:\n",
    "    print('hi')"
   ]
  },
  {
   "cell_type": "code",
   "execution_count": 53,
   "metadata": {},
   "outputs": [
    {
     "name": "stdout",
     "output_type": "stream",
     "text": [
      "Score List: 10,20,30\n",
      "10 20 30 \n",
      "60\n"
     ]
    }
   ],
   "source": [
    "scores = eval(input('Score List: ')) # 와..[10,20,30] 이렇게 괄호 포함해서 입력해도 알아서 리스트로..ㅋㅋㅋ시발\n",
    "i = 0\n",
    "sum = 0\n",
    "while i < len(scores):\n",
    "    print(scores[i],end=' ')\n",
    "    sum += scores[i]\n",
    "    i+=1\n",
    "print()\n",
    "print(sum)"
   ]
  },
  {
   "cell_type": "code",
   "execution_count": 60,
   "metadata": {},
   "outputs": [
    {
     "name": "stdout",
     "output_type": "stream",
     "text": [
      "0,0\n",
      "Done\n"
     ]
    }
   ],
   "source": [
    "run_flag = True\n",
    "while run_flag:\n",
    "    math,eng = eval(input())\n",
    "    if (math,eng) == (0,0):\n",
    "        run_flag = False\n",
    "    else:\n",
    "        if math>=90 and eng >=90:\n",
    "            w = 'PASS'\n",
    "        else:\n",
    "            w = 'FAIL'\n",
    "        print(w)\n",
    "else:\n",
    "    print('Done')"
   ]
  },
  {
   "cell_type": "markdown",
   "metadata": {},
   "source": [
    "#### for문"
   ]
  },
  {
   "cell_type": "code",
   "execution_count": 93,
   "metadata": {},
   "outputs": [
    {
     "name": "stdout",
     "output_type": "stream",
     "text": [
      "* * * * * * * * * * "
     ]
    }
   ],
   "source": [
    "for _ in range(10): # iterate 되는 것들\n",
    "    print('*',end=' ')"
   ]
  },
  {
   "cell_type": "code",
   "execution_count": 100,
   "metadata": {},
   "outputs": [
    {
     "name": "stdout",
     "output_type": "stream",
     "text": [
      " 2  4  6  8 10 \n",
      "12 14 16 18 20 \n",
      "22 24 26 28 30 \n",
      "32 34 36 38 40 \n",
      "42 44 46 48 50 \n"
     ]
    }
   ],
   "source": [
    "for i in range(2,51,2):\n",
    "    print('%2d'%i,end=' ')\n",
    "    if i % 10 == 0:\n",
    "        print()"
   ]
  },
  {
   "cell_type": "markdown",
   "metadata": {},
   "source": [
    "#### break"
   ]
  },
  {
   "cell_type": "code",
   "execution_count": 63,
   "metadata": {},
   "outputs": [
    {
     "name": "stdout",
     "output_type": "stream",
     "text": [
      "0 1 2 3 4 "
     ]
    }
   ],
   "source": [
    "for i in range(10):\n",
    "    if i == 5:\n",
    "        break\n",
    "    print(i,end=' ')"
   ]
  },
  {
   "cell_type": "code",
   "execution_count": 66,
   "metadata": {},
   "outputs": [
    {
     "name": "stdout",
     "output_type": "stream",
     "text": [
      "[78, 99, 21, 58, 7, 69, 23, 32, 8, 93]\n",
      "99 93 78 69 58 "
     ]
    }
   ],
   "source": [
    "import random\n",
    "scores = random.sample(range(0,100), 10)\n",
    "print(scores)\n",
    "scores.sort(reverse=True)\n",
    "for i in scores:\n",
    "    if i <= 50:\n",
    "        break\n",
    "    print(i,end=' ')"
   ]
  },
  {
   "cell_type": "markdown",
   "metadata": {},
   "source": [
    "#### continue"
   ]
  },
  {
   "cell_type": "code",
   "execution_count": 70,
   "metadata": {},
   "outputs": [
    {
     "name": "stdout",
     "output_type": "stream",
     "text": [
      "0 1 2 3 4 6 8 9 "
     ]
    }
   ],
   "source": [
    "for i in range(10):\n",
    "    if i == 5 or i == 7:\n",
    "        continue\n",
    "    print(i,end=' ')"
   ]
  },
  {
   "cell_type": "code",
   "execution_count": 68,
   "metadata": {},
   "outputs": [
    {
     "name": "stdout",
     "output_type": "stream",
     "text": [
      "[60, 9, 75, 69, 0, 43, 39, 97, 17, 67]\n",
      "60 75 69 97 67 "
     ]
    }
   ],
   "source": [
    "import random\n",
    "scores = random.sample(range(0,100), 10)\n",
    "print(scores)\n",
    "#scores.sort(reverse=True)\n",
    "for i in scores:\n",
    "    if i <= 50:\n",
    "        continue\n",
    "    print(i,end=' ')"
   ]
  },
  {
   "cell_type": "code",
   "execution_count": 22,
   "metadata": {
    "scrolled": true
   },
   "outputs": [
    {
     "name": "stdout",
     "output_type": "stream",
     "text": [
      "1 + 2 + 3 + 4 + 5 + 7 + 8 + 9 + 10 + 11 + 13 + 14 + 15 + 16 + 17 + 19 + 20 \n",
      "= 174\n"
     ]
    }
   ],
   "source": [
    "sum = 0\n",
    "n = 20\n",
    "for i in range(0,n+1):\n",
    "    if i % 6 == 0: # 6의 배수는 더하지 않기\n",
    "        continue\n",
    "    print(i,end=' ')\n",
    "    if i != n:\n",
    "        print('+',end=' ')\n",
    "    else:\n",
    "        print()\n",
    "        print('=',end=' ')\n",
    "    sum += i\n",
    "print(sum)"
   ]
  },
  {
   "cell_type": "code",
   "execution_count": 25,
   "metadata": {},
   "outputs": [
    {
     "name": "stdout",
     "output_type": "stream",
     "text": [
      "5\n",
      "[5]\n",
      "[]\n"
     ]
    }
   ],
   "source": [
    "n = eval(input())\n",
    "odd_list = list()\n",
    "even_list = list()\n",
    "if n % 2 != 0:\n",
    "    odd_list.append(n)\n",
    "else:\n",
    "    even_list.append(n)\n",
    "print(odd_list)\n",
    "print(even_list)"
   ]
  },
  {
   "cell_type": "markdown",
   "metadata": {},
   "source": [
    "#### Nested Loop\n",
    "반복문 안에 반복문이 중첩되는 경우"
   ]
  },
  {
   "cell_type": "code",
   "execution_count": 119,
   "metadata": {},
   "outputs": [
    {
     "name": "stdout",
     "output_type": "stream",
     "text": [
      "Pattern A\n",
      "1 \n",
      "1 2 \n",
      "1 2 3 \n",
      "1 2 3 4 \n",
      "1 2 3 4 5 \n",
      "1 2 3 4 5 6 \n",
      "\n",
      "Pattern B\n",
      "1 2 3 4 5 6 \n",
      "1 2 3 4 5 \n",
      "1 2 3 4 \n",
      "1 2 3 \n",
      "1 2 \n",
      "1 \n"
     ]
    }
   ],
   "source": [
    "print('Pattern A')\n",
    "for i in range(1,7):\n",
    "    for j in range(1,i+1):\n",
    "        print(j,end=' ')\n",
    "    print()\n",
    "\n",
    "print()\n",
    "    \n",
    "print('Pattern B')\n",
    "for i in range(6,0,-1):\n",
    "    for j in range(1,i+1):\n",
    "        print(j,end=' ')\n",
    "    print()"
   ]
  },
  {
   "cell_type": "code",
   "execution_count": 120,
   "metadata": {},
   "outputs": [
    {
     "name": "stdout",
     "output_type": "stream",
     "text": [
      "25\n"
     ]
    }
   ],
   "source": [
    "n = 1\n",
    "while n**3<15000:\n",
    "    n+=1\n",
    "print(n)"
   ]
  },
  {
   "cell_type": "code",
   "execution_count": 3,
   "metadata": {},
   "outputs": [
    {
     "name": "stdout",
     "output_type": "stream",
     "text": [
      "00 01 02 \n",
      "10 11 12 \n",
      "20 21 22 \n"
     ]
    }
   ],
   "source": [
    "table = [['00','01','02'],['10','11','12'],['20','21','22']]\n",
    "for i in table:\n",
    "    for j in i:\n",
    "        print(j,end=' ')\n",
    "    print()"
   ]
  },
  {
   "cell_type": "code",
   "execution_count": 7,
   "metadata": {},
   "outputs": [
    {
     "name": "stdout",
     "output_type": "stream",
     "text": [
      "이번 이동수단은 walking 입니다\n",
      "이번 이동수단은 bus 입니다\n",
      "이번 이동수단은 taxi 입니다\n",
      "이번 이동수단은 car 입니다\n",
      "이번 이동수단은 trains 입니다\n"
     ]
    }
   ],
   "source": [
    "trans = ['walking','bus','taxi','car','trains']\n",
    "for t in trans:\n",
    "    print('이번 이동수단은 {0} 입니다'.format(t))"
   ]
  },
  {
   "cell_type": "code",
   "execution_count": 15,
   "metadata": {},
   "outputs": [
    {
     "name": "stdout",
     "output_type": "stream",
     "text": [
      "walking\n",
      "bus\n",
      "taxi\n",
      "car\n",
      "train\n",
      "walking 0\n",
      "bus 1000\n",
      "taxi 3000\n",
      "car 4000\n",
      "train 6000\n",
      "walking bus taxi car train 0 1000 3000 4000 6000 "
     ]
    }
   ],
   "source": [
    "cost = {'walking':0,'bus':1000,'taxi':3000,'car':4000,'train':6000}\n",
    "\n",
    "# dict에서 뽑으면 Key만 뽑아옴\n",
    "for i in cost:\n",
    "    print(i)\n",
    "\n",
    "# Key,Value를 각각 가져옴\n",
    "for t,c in cost.items():\n",
    "    print(t,c)\n",
    "\n",
    "# Key 만 가져옴    \n",
    "for t in cost.keys():\n",
    "    print(t, end=' ')\n",
    "    \n",
    "# Key 만 가져옴    \n",
    "for c in cost.values():\n",
    "    print(c, end=' ')"
   ]
  },
  {
   "cell_type": "code",
   "execution_count": 27,
   "metadata": {},
   "outputs": [
    {
     "name": "stdout",
     "output_type": "stream",
     "text": [
      "[5, 100, 202, 4, 5, 99, 8, 7]\n",
      "0\n"
     ]
    }
   ],
   "source": [
    "num_list = eval(input())\n",
    "num_sum = 0\n",
    "for n in num_list:\n",
    "    if n > 100 and n < 200:\n",
    "        num_sum += n\n",
    "        \n",
    "print(num_sum)"
   ]
  },
  {
   "cell_type": "code",
   "execution_count": 31,
   "metadata": {},
   "outputs": [
    {
     "name": "stdout",
     "output_type": "stream",
     "text": [
      "[5, 100, 202, 4, 5, 99, 8, 7]\n",
      "[100, 202, 4, 8]\n",
      "[5, 5, 99, 7]\n"
     ]
    }
   ],
   "source": [
    "numlist = eval(input())\n",
    "odd_list = list()\n",
    "even_list = list()\n",
    "for n in numlist:\n",
    "    if n % 2 != 0:\n",
    "        odd_list.append(n)\n",
    "    else:\n",
    "        even_list.append(n)\n",
    "\n",
    "print(even_list)\n",
    "print(odd_list)"
   ]
  },
  {
   "cell_type": "code",
   "execution_count": 42,
   "metadata": {},
   "outputs": [
    {
     "name": "stdout",
     "output_type": "stream",
     "text": [
      "1 \n",
      "1 2 \n",
      "1 2 3 \n",
      "1 2 3 4 \n",
      "1 2 3 4 5 \n",
      "----------\n",
      "1 2 3 4 5 \n",
      "1 2 3 4 \n",
      "1 2 3 \n",
      "1 2 \n",
      "1 \n"
     ]
    }
   ],
   "source": [
    "for i in range(1,5+1):\n",
    "    for j in range(1,i+1):\n",
    "        print(j,end=' ')\n",
    "    print()\n",
    "\n",
    "print('-'*10)    \n",
    "\n",
    "for i in range(5,0,-1):\n",
    "    for j in range(1,i+1):\n",
    "        print(j,end=' ')\n",
    "    print()"
   ]
  },
  {
   "cell_type": "code",
   "execution_count": 45,
   "metadata": {},
   "outputs": [
    {
     "name": "stdout",
     "output_type": "stream",
     "text": [
      "kim kim \n",
      "park sung \n",
      "kim \n"
     ]
    }
   ],
   "source": [
    "t = [['kim', 'lee', 'kim'],\n",
    "     ['park', 'cho', 'sung'],\n",
    "     ['kim', 'cho', 'lee', 'gang']]\n",
    "\n",
    "ex = [ 'lee', 'cho', 'gang']\n",
    "\n",
    "for i in t:\n",
    "    for j in i:\n",
    "        if j in ex:\n",
    "            continue\n",
    "        print(j, end=' ')\n",
    "    print()"
   ]
  },
  {
   "cell_type": "code",
   "execution_count": 46,
   "metadata": {},
   "outputs": [
    {
     "name": "stdout",
     "output_type": "stream",
     "text": [
      "     *\n",
      "    ***\n",
      "   *****\n",
      "  *******\n",
      " *********\n"
     ]
    }
   ],
   "source": [
    "for i in range(5):\n",
    "    print(' '*(5-i),end='')\n",
    "    print('*'*(2*i+1))"
   ]
  }
 ],
 "metadata": {
  "kernelspec": {
   "display_name": "Python 3",
   "language": "python",
   "name": "python3"
  },
  "language_info": {
   "codemirror_mode": {
    "name": "ipython",
    "version": 3
   },
   "file_extension": ".py",
   "mimetype": "text/x-python",
   "name": "python",
   "nbconvert_exporter": "python",
   "pygments_lexer": "ipython3",
   "version": "3.6.8"
  }
 },
 "nbformat": 4,
 "nbformat_minor": 2
}
