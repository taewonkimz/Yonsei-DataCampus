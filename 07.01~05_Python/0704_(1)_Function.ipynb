{
 "cells": [
  {
   "cell_type": "markdown",
   "metadata": {},
   "source": [
    "![kdata](../img/kdata-logo.png)\n",
    "\n",
    "# Python Basic Lecture06 : 함수(Function)\n",
    "\n",
    "Date : 2019.07.03"
   ]
  },
  {
   "cell_type": "markdown",
   "metadata": {},
   "source": [
    "## 함수 호출\n",
    ": 이미 작성된 함수를 프로그램에서 실행 시키는 방법\n",
    "\n",
    "### 작업대상 함수 호출 법\n",
    "```python\n",
    ">>> player_list.append('김하온')\n",
    "# 작업대상.함수명(인자값)\n",
    "# 특정 '작업대상'만 실행 경우\n",
    "```\n",
    "\n",
    "### Built-in 함수 호출 법\n",
    "```python\n",
    ">>> print ('Hello world')\n",
    "# 함수명(인자값)\n",
    "# 범용적인 작업인 경우\n",
    "```"
   ]
  },
  {
   "cell_type": "markdown",
   "metadata": {},
   "source": [
    "> pow( ) 함수를 호출 후 반환값을 화면에 출력하세요"
   ]
  },
  {
   "cell_type": "code",
   "execution_count": 1,
   "metadata": {},
   "outputs": [
    {
     "name": "stdout",
     "output_type": "stream",
     "text": [
      "1024\n"
     ]
    }
   ],
   "source": [
    "value = pow(2,10)\n",
    "print(value)"
   ]
  },
  {
   "cell_type": "markdown",
   "metadata": {},
   "source": [
    "## 함수 만들기\n",
    ": `def`키워드와 `들여쓰기`\n",
    "\n",
    "```python\n",
    "def 함수이름(매개변수):\n",
    "    statement1\n",
    "    statement2\n",
    "    ...\n",
    "```\n",
    "- 함수이름 : 변수이름 만드는 규칙 따르기\n",
    "- 매개변수 : 함수 호출 시의 인자값을 받아오는 변수들을 `,` 로 구분해서 나열\n",
    "\n",
    "> 함수 만들기 완료 위치는: 더 이상 들여쓰기 안하면\n",
    "함수를 만든다고 실행되는 것이 아님, 함수 호출해야 실행됨!!!"
   ]
  },
  {
   "cell_type": "markdown",
   "metadata": {},
   "source": [
    "### 리턴값이 없는 경우"
   ]
  },
  {
   "cell_type": "code",
   "execution_count": 16,
   "metadata": {},
   "outputs": [
    {
     "name": "stdout",
     "output_type": "stream",
     "text": [
      "Maximum is 2\n"
     ]
    }
   ],
   "source": [
    "a = 1\n",
    "b = 2\n",
    "\n",
    "def print_max_num(a,b):\n",
    "    max = None\n",
    "    if a > b:\n",
    "        max = a\n",
    "    elif a < b:\n",
    "        max = b\n",
    "    else:\n",
    "        max = None\n",
    "        \n",
    "    if not max:\n",
    "        print('{} is equal to {}'.format(a,b))\n",
    "    else:\n",
    "        print('Maximum is {}'.format(max))\n",
    "        \n",
    "print_max_num(a,b)"
   ]
  },
  {
   "cell_type": "markdown",
   "metadata": {},
   "source": [
    "### 리턴값이 있는 경우"
   ]
  },
  {
   "cell_type": "code",
   "execution_count": 13,
   "metadata": {},
   "outputs": [
    {
     "name": "stdout",
     "output_type": "stream",
     "text": [
      "67\n"
     ]
    }
   ],
   "source": [
    "def get_max_num(a,b):\n",
    "    if a > b:\n",
    "        return a\n",
    "    elif a <= b:\n",
    "        return b\n",
    "\n",
    "print(get_max_num(55,67))"
   ]
  },
  {
   "cell_type": "code",
   "execution_count": 15,
   "metadata": {},
   "outputs": [
    {
     "data": {
      "text/plain": [
       "8"
      ]
     },
     "execution_count": 15,
     "metadata": {},
     "output_type": "execute_result"
    }
   ],
   "source": [
    "def simple_sum(a,b):\n",
    "    return a+b\n",
    "simple_sum(3,5)"
   ]
  },
  {
   "cell_type": "markdown",
   "metadata": {},
   "source": [
    "### 매개변수의 기본인자값"
   ]
  },
  {
   "cell_type": "code",
   "execution_count": 29,
   "metadata": {},
   "outputs": [
    {
     "name": "stdout",
     "output_type": "stream",
     "text": [
      "3333\n"
     ]
    }
   ],
   "source": [
    "# times 같은 경우는 따로 쓰지 않을 경우 1로 default\n",
    "def say(message, times = 1 ): \n",
    "    print( message * times )\n",
    "    \n",
    "say('3',4)"
   ]
  },
  {
   "cell_type": "markdown",
   "metadata": {},
   "source": [
    "> 기본인자값은 뒤에서부터만 줄 수 있음\n",
    "\n",
    "```\n",
    "def fun(a,b=10,c): # c에서부터 줘야함\n",
    "    print(a,b,c)\n",
    "    \n",
    "  File \"<ipython-input-31-cfc712ed44ad>\", line 1\n",
    "    def fun(a,b=10,c): # c에서부터 거꾸로 줘야함\n",
    "           ^\n",
    "SyntaxError: non-default argument follows default argument\n",
    "```"
   ]
  },
  {
   "cell_type": "code",
   "execution_count": 33,
   "metadata": {},
   "outputs": [
    {
     "name": "stdout",
     "output_type": "stream",
     "text": [
      "1 2 10\n"
     ]
    }
   ],
   "source": [
    "def fun(a,b,c=10): # c에서부터 줘야함\n",
    "    print(a,b,c)\n",
    "\n",
    "fun(1,2)"
   ]
  },
  {
   "cell_type": "markdown",
   "metadata": {},
   "source": [
    "### 인자 지정 호출\n",
    "인자를 다 알아야함"
   ]
  },
  {
   "cell_type": "code",
   "execution_count": 35,
   "metadata": {},
   "outputs": [
    {
     "name": "stdout",
     "output_type": "stream",
     "text": [
      "25\n",
      "25\n"
     ]
    }
   ],
   "source": [
    "def fun(num,p):\n",
    "    return num**p\n",
    "\n",
    "print( fun( p = 2, num = 5 ) )\n",
    "#print( fun( 5, p = 2, ) ) # SyntaxError!!\n",
    "print( fun( num = 5, p = 2 ) )"
   ]
  },
  {
   "cell_type": "markdown",
   "metadata": {},
   "source": [
    "### 가변 인자를 받아야할 경우 -> `*`\n",
    "tuple로 받음  \n",
    "인자값들의 합을 출력하는 함수 작성(인자의 개수는 가변적)  \n",
    "parameter 이름 앞의 `*` : 임의의 개수의 인자값들을 받아 tuple로 저장"
   ]
  },
  {
   "cell_type": "code",
   "execution_count": 45,
   "metadata": {},
   "outputs": [
    {
     "name": "stdout",
     "output_type": "stream",
     "text": [
      "<class 'tuple'>\n",
      "13\n",
      "<class 'tuple'>\n",
      "7\n",
      "<class 'tuple'>\n",
      "3\n",
      "<class 'tuple'>\n",
      "1\n",
      "<class 'tuple'>\n",
      "0\n"
     ]
    }
   ],
   "source": [
    "def test(*x): # Q: 리스트를 넣는거하고 머가 다르지?\n",
    "    print(type(x))\n",
    "    print(sum(x))\n",
    "    \n",
    "test(1,3,4,5)\n",
    "test(1,2,4)\n",
    "test(1,2)\n",
    "test(1)\n",
    "test() # 인자값이 아무것도 없어도 괜찮음"
   ]
  },
  {
   "cell_type": "code",
   "execution_count": 47,
   "metadata": {},
   "outputs": [
    {
     "data": {
      "text/plain": [
       "(1, 2)"
      ]
     },
     "execution_count": 47,
     "metadata": {},
     "output_type": "execute_result"
    }
   ],
   "source": [
    "divmod(6,4) # 몫과 나머지"
   ]
  },
  {
   "cell_type": "code",
   "execution_count": 48,
   "metadata": {},
   "outputs": [
    {
     "data": {
      "text/plain": [
       "(1, 2)"
      ]
     },
     "execution_count": 48,
     "metadata": {},
     "output_type": "execute_result"
    }
   ],
   "source": [
    "def mydivmod(x,y):\n",
    "    return x//y, x%y\n",
    "mydivmod(6,4)"
   ]
  },
  {
   "cell_type": "code",
   "execution_count": 55,
   "metadata": {},
   "outputs": [
    {
     "name": "stdout",
     "output_type": "stream",
     "text": [
      "(1, 2)\n",
      "(0, 4)\n"
     ]
    }
   ],
   "source": [
    "t = (6,4)\n",
    "\n",
    "print(mydivmod(*t)) # 그냥 *만 붙이면 해결된다\n",
    "print(mydivmod(y=t[0],x=t[1]))"
   ]
  },
  {
   "cell_type": "markdown",
   "metadata": {},
   "source": [
    "### 함수 호출 인자 정보로 dict를 -> `**`\n",
    "> 다음과 같이 호출할 때, 함수 fun에 a, bb, ccc 라는 parameter가\n",
    "없으면?\n",
    ">> fun ( a = 1, bb= 2, ccc = 3)"
   ]
  },
  {
   "cell_type": "code",
   "execution_count": 62,
   "metadata": {},
   "outputs": [
    {
     "name": "stdout",
     "output_type": "stream",
     "text": [
      "<class 'dict'>\n",
      "graph 는  1000 원\n",
      "apple 는  700 원\n",
      "orange 는  600 원\n"
     ]
    }
   ],
   "source": [
    "def price(**fruit): ## 함수를 만들때 *가 두개를 붙임\n",
    "    print(type(fruit))\n",
    "    for x in fruit :\n",
    "        print( x, '는 ', fruit[x], '원')\n",
    "\n",
    "        \n",
    "'''\n",
    "fruit = {'graph' = 1000,\n",
    "         'apple' = 700,\n",
    "         'orange' = 600}\n",
    "로 알아서 변환해서 넣어준다는 얘기임\n",
    "'''        \n",
    "price(graph = 1000, apple = 700, orange = 600)"
   ]
  },
  {
   "cell_type": "markdown",
   "metadata": {},
   "source": [
    "### Parameter이름 앞에 `*`, `**` 함께 사용"
   ]
  },
  {
   "cell_type": "code",
   "execution_count": 59,
   "metadata": {},
   "outputs": [],
   "source": [
    "def totalcost(*count, **fruit) :\n",
    "    sum = 0\n",
    "    i = 0\n",
    "    for x in fruit :\n",
    "        sum += fruit[x]*count[i]\n",
    "        print( x, count[i], \"개\", end = ' ' )\n",
    "        i += 1\n",
    "    print( \" ==> \", sum )"
   ]
  },
  {
   "cell_type": "code",
   "execution_count": 60,
   "metadata": {},
   "outputs": [
    {
     "name": "stdout",
     "output_type": "stream",
     "text": [
      "graph 2 개 apple 3 개 orange 1 개  ==>  4700\n"
     ]
    }
   ],
   "source": [
    "totalcost( 2, 3, 1, graph = 1000, apple = 700, orange = 600)"
   ]
  },
  {
   "cell_type": "markdown",
   "metadata": {},
   "source": [
    "### 함수의 결과값으로 여러 개 값 반환"
   ]
  },
  {
   "cell_type": "code",
   "execution_count": 66,
   "metadata": {},
   "outputs": [],
   "source": [
    "def min_max( t ) :\n",
    "    return min(t), max(t)"
   ]
  },
  {
   "cell_type": "code",
   "execution_count": 70,
   "metadata": {},
   "outputs": [
    {
     "name": "stdout",
     "output_type": "stream",
     "text": [
      "0\n",
      "10\n",
      "<class 'tuple'>\n"
     ]
    }
   ],
   "source": [
    "_min,_max = min_max( (3,5,2,1,9,10,0,6) )\n",
    "print(_min)\n",
    "print(_max)\n",
    "\n",
    "print( type( x ) )"
   ]
  },
  {
   "cell_type": "markdown",
   "metadata": {},
   "source": [
    "### 함수 내의 변수, parameter의 유효범위\n",
    "- 변수를 만든 위치에 따라 사용 가능한 문장의 범위가 결정됨\n",
    "- 함수 안에서 변수를 만들면, 해당 함수 안에서만 사용 가능"
   ]
  },
  {
   "cell_type": "code",
   "execution_count": 78,
   "metadata": {},
   "outputs": [
    {
     "name": "stdout",
     "output_type": "stream",
     "text": [
      "Before Function Called x :  50\n",
      "After Fuction call, x is  50\n",
      "Changed Local x to  2\n",
      "x is  50\n"
     ]
    }
   ],
   "source": [
    "x = 50\n",
    "def func(x):\n",
    "    print(\"After Fuction call, x is \",x)\n",
    "    x = 2\n",
    "    print('Changed Local x to ',x)\n",
    "    \n",
    "print('Before Function Called x : ',x)\n",
    "func(x) # 여기에서는 x값이 잠깐 바뀐거임\n",
    "print('x is ',x)"
   ]
  },
  {
   "cell_type": "markdown",
   "metadata": {},
   "source": [
    "#### global"
   ]
  },
  {
   "cell_type": "code",
   "execution_count": 80,
   "metadata": {},
   "outputs": [
    {
     "name": "stdout",
     "output_type": "stream",
     "text": [
      "Before Function Called x :  50\n",
      "After Fuction call, x is  50\n",
      "Changed Global x to  2\n",
      "x is  2\n"
     ]
    }
   ],
   "source": [
    "x = 50\n",
    "\n",
    "def func():\n",
    "    global x # 밖에 있는 변수를 쓸래!\n",
    "    print(\"After Fuction call, x is \",x)\n",
    "    x = 2\n",
    "    print('Changed Global x to ',x)\n",
    "\n",
    "print('Before Function Called x : ',x)\n",
    "func() \n",
    "print('x is ',x)"
   ]
  },
  {
   "cell_type": "markdown",
   "metadata": {},
   "source": [
    "### 예제\n",
    "```\n",
    "문항 - SW\n",
    "\n",
    "정수 인자의 값이 홀수이면 True, 아니면 False를 return 하는 함수 odd(x)를 정의하십시오.\n",
    "if 문을 사용하지 않습니다.\n",
    "\n",
    "정수 값을 입력받아 x 에 저장하고, \n",
    "odd 함수를 호출하여 반환값을 출력하는 문장도 작성합니다.\n",
    "언어 : python3\n",
    "입력 설명 :\n",
    "\n",
    "다음과 같이 정수값을 입력받습니다.\n",
    "===========================\n",
    "정수입력:   3\n",
    "출력 설명 :\n",
    "\n",
    "입력된 정수값에 따라 False나 True를 출력합니다.\n",
    "===========================\n",
    "True\n",
    "샘플 입력 :\n",
    "\n",
    "3\n",
    "샘플 출력 :\n",
    "\n",
    "True\n",
    "```"
   ]
  },
  {
   "cell_type": "code",
   "execution_count": 84,
   "metadata": {},
   "outputs": [
    {
     "name": "stdout",
     "output_type": "stream",
     "text": [
      "3\n"
     ]
    },
    {
     "data": {
      "text/plain": [
       "True"
      ]
     },
     "execution_count": 84,
     "metadata": {},
     "output_type": "execute_result"
    }
   ],
   "source": [
    "x = int(input())\n",
    "def odd(x):\n",
    "    '''\n",
    "    ans = [False,True]\n",
    "    return ans[x%2]\n",
    "    '''\n",
    "    return bool(x%2)\n",
    "odd(x)"
   ]
  },
  {
   "cell_type": "markdown",
   "metadata": {},
   "source": [
    "```\n",
    "함수 mod(m, n)을 다음과 같이 정의합니다. \n",
    "    매개변수 m과 n 에 전달된 값이 모두 양의 정수일 때,  m을  n으로 나눈 나머지 값을 반환합니다.\n",
    "    양의 정수가 아닌 경우, \"매개변수는 모두 양의 정수이어야 합니다.\" 라고 출력합니다.\n",
    "\n",
    "m 과 n 변수에 숫자를 입력받는 문장과, \n",
    "mod 함수를 m,n 값으로 호출하여 결과값을 출력하는 문장도 작성합니다.\n",
    "언어 : python3\n",
    "입력 설명 :\n",
    "\n",
    "다음과 같이 m과 n의 숫자를 입력받습니다.\n",
    "================================\n",
    "m: 199\n",
    "n: 17\n",
    "출력 설명 :\n",
    "\n",
    "음과 같이 m을 n으로 나눈 나머지를 출력합니다.\n",
    "====================================\n",
    "12\n",
    "샘플 입력 :\n",
    "\n",
    "199\n",
    "17\n",
    "샘플 출력 :\n",
    "\n",
    "12\n",
    "\n",
    "```"
   ]
  },
  {
   "cell_type": "code",
   "execution_count": 89,
   "metadata": {},
   "outputs": [
    {
     "name": "stdout",
     "output_type": "stream",
     "text": [
      "3,0.3\n",
      "입력된 수가 정수가 아닙니다.\n"
     ]
    }
   ],
   "source": [
    "m,n = eval(input())\n",
    "def mod(m,n):\n",
    "    if type(m)==int and type(n)==int:\n",
    "        if not (m>0 and n>0):\n",
    "            print('매개변수는 모두 양의 정수이어야 합니다.')\n",
    "            return\n",
    "        else:\n",
    "            return m%n\n",
    "    else:\n",
    "        print('입력된 수가 정수가 아닙니다.')\n",
    "        # return None 이 생략된거\n",
    "mod(m,n)"
   ]
  },
  {
   "cell_type": "markdown",
   "metadata": {},
   "source": [
    "```\n",
    "과일의 비타민 함유량을 다음과 같이 전달하는 함수 vitamin_c 는 각 과일 이름과 함유량을\n",
    "인자로 받아 dict로 저장하고, 이름과 함유량을 출력예와 같이 출력한후, 총함유량을 반환한다.\n",
    "이와 같은 함수 vitamin_c를 정의한다.\n",
    "\n",
    "다음과 같은 함수 vitamin_c 호출문도 작성한다.\n",
    "print(\"총 함유량:\" ,vitamin_c(citron=105,strawberry=94,quince=81,lemon=70,tangerine=39))\n",
    "print(\"총 함유량:\" ,vitamin_c(orange=43, kiwi=27, cherryTomato=21, appe=4))\n",
    "언어 : python3\n",
    "입력 설명 :\n",
    "\n",
    "프로그램의 입력값을 없습니다.\n",
    "출력 설명 :\n",
    "\n",
    "문제와 같이 호출문을 작성한 경우 다음과 같이 출력됩니다.\n",
    "================================\n",
    "----------------------------------\n",
    "Fruit Name      Vitamin C Content\n",
    "----------------------------------\n",
    "citron          105\n",
    "strawberry      94\n",
    "quince          81\n",
    "lemon           70\n",
    "tangerine       39\n",
    "----------------------------------\n",
    "총 함유량: 389\n",
    "----------------------------------\n",
    "Fruit Name      Vitamin C Content\n",
    "----------------------------------\n",
    "orange          43\n",
    "kiwi            27\n",
    "cherryTomato    21\n",
    "appe            4\n",
    "----------------------------------\n",
    "총 함유량: 95\n",
    "\n",
    "샘플 출력 :\n",
    "\n",
    "문제와 같이 호출문을 작성한 경우 다음과 같이 출력됩니다.\n",
    "================================\n",
    "----------------------------------\n",
    "Fruit Name      Vitamin C Content\n",
    "----------------------------------\n",
    "citron          105\n",
    "strawberry      94\n",
    "quince          81\n",
    "lemon           70\n",
    "tangerine       39\n",
    "----------------------------------\n",
    "총 함유량: 389\n",
    "----------------------------------\n",
    "Fruit Name      Vitamin C Content\n",
    "----------------------------------\n",
    "orange          43\n",
    "kiwi            27\n",
    "cherryTomato    21\n",
    "appe            4\n",
    "----------------------------------\n",
    "총 함유량: 95\n",
    "```"
   ]
  },
  {
   "cell_type": "code",
   "execution_count": 99,
   "metadata": {
    "scrolled": false
   },
   "outputs": [
    {
     "name": "stdout",
     "output_type": "stream",
     "text": [
      "----------------------------------\n",
      "Fruit Name      Vitamin C Content\n",
      "----------------------------------\n",
      "citron          105              \n",
      "strawberry      94               \n",
      "quince          81               \n",
      "lemon           70               \n",
      "tangerine       39               \n",
      "----------------------------------\n",
      "총 함유량: 389\n",
      "----------------------------------\n",
      "Fruit Name      Vitamin C Content\n",
      "----------------------------------\n",
      "orange          43               \n",
      "kiwi            27               \n",
      "cherryTomato    21               \n",
      "appe            4                \n",
      "----------------------------------\n",
      "총 함유량: 95\n"
     ]
    }
   ],
   "source": [
    "def vitamin_c(**fruit):\n",
    "    sum = 0\n",
    "    print('----------------------------------')\n",
    "    print('Fruit Name      Vitamin C Content')\n",
    "    print('----------------------------------')\n",
    "    for name,value in fruit.items():\n",
    "        print(\"{:<16}{:<17}\".format(name,value))\n",
    "        sum += value\n",
    "    print('----------------------------------')\n",
    "    return sum\n",
    "    \n",
    "print(\"총 함유량:\" ,vitamin_c(citron=105,strawberry=94,quince=81,lemon=70,tangerine=39))\n",
    "print(\"총 함유량:\" ,vitamin_c(orange=43, kiwi=27, cherryTomato=21, appe=4))"
   ]
  },
  {
   "cell_type": "markdown",
   "metadata": {},
   "source": [
    "## Module, library\n",
    "- Module\n",
    "    - 유용한 function 들의 정의(def )를 모아 놓은 것\n",
    "- Library\n",
    "    - 모듈들의 모임\n",
    "- 표준 library\n",
    "    - Python이 기본적으로 제공하는 library\n",
    "    - https://docs.python.org/ko/3/library/index.html\n",
    "    \n",
    "- 표준 library에 있는 함수 호출 방법\n",
    "```python\n",
    "import module명\n",
    "module명.함수명(인자값)\n",
    "```\n",
    "\n",
    "### 예제\n",
    "```\n",
    "다음은 함수명과 함수가 정의된 모듈명, 함수의 기능을 설명하고 있습니다.\n",
    "    \n",
    "        모듈명       함수명        함수기능\n",
    "   ------------------------------------------------------------------\n",
    "        os           getcwd()       현재 작업 중인 폴더명을 반환\n",
    "        math       sin()             sine 함수 값 반환, 인자는 radian\n",
    " \tstatistics   mean()         수치 데이터의 평균 반환\n",
    "        statistics   median()\t수치 데이터의 중간값 반환\n",
    "\n",
    "다음 명령문을 차례로 작성하십시오.\n",
    "(1) 현재 작업 폴더명을 출력합니다.\n",
    "(2) radian  0.523599 의 sin 값을 출력합니다.\n",
    "(3) 일주일 최저기온(22, 20, 17, 17, 18, 19, 23)의 평균을 출력합니다.\n",
    "(3) 일주일 최저기온(22, 20, 17, 17, 18, 19, 23)의 중간값을 출력합니다.\n",
    "```"
   ]
  },
  {
   "cell_type": "code",
   "execution_count": 4,
   "metadata": {},
   "outputs": [
    {
     "name": "stdout",
     "output_type": "stream",
     "text": [
      "/Users/minsuksung/github/yonsei-data-campus/python-basic\n",
      "0.5000001943375613\n",
      "19.428571428571427\n",
      "19\n"
     ]
    }
   ],
   "source": [
    "import os\n",
    "import math\n",
    "import statistics\n",
    "\n",
    "# 1\n",
    "print(os.getcwd())\n",
    "\n",
    "# 2\n",
    "print(math.sin(0.523599))\n",
    "\n",
    "# 3\n",
    "print(statistics.mean((22, 20, 17, 17, 18, 19, 23)))\n",
    "\n",
    "# 4 \n",
    "print(statistics.median((22, 20, 17, 17, 18, 19, 23)))"
   ]
  },
  {
   "cell_type": "markdown",
   "metadata": {},
   "source": [
    "```\n",
    "2차원 상의 두 점의 거리를 구하는 함수를 작성하라\n",
    "(math 라이브러리의 sqrt 사용)\n",
    "```"
   ]
  },
  {
   "cell_type": "code",
   "execution_count": 12,
   "metadata": {},
   "outputs": [
    {
     "data": {
      "text/plain": [
       "5.0"
      ]
     },
     "execution_count": 12,
     "metadata": {},
     "output_type": "execute_result"
    }
   ],
   "source": [
    "from math import sqrt\n",
    "\n",
    "def my_dist(x1,y1,x2,y2):\n",
    "    return sqrt((x1-x2)**2+(y1-y2)**2)\n",
    "\n",
    "my_dist(0,0,3,4)"
   ]
  },
  {
   "cell_type": "markdown",
   "metadata": {},
   "source": [
    "> Q. 10진수 중 양의 정수를 하나 입력받아 각 자리수를 더해 결과를 반환하는 함수 작성"
   ]
  },
  {
   "cell_type": "code",
   "execution_count": 43,
   "metadata": {},
   "outputs": [
    {
     "name": "stdout",
     "output_type": "stream",
     "text": [
      "-323의 모든 자리 수의 합은 8입니다.\n"
     ]
    }
   ],
   "source": [
    "def digit_sum(n):\n",
    "    if (n<0):\n",
    "        n = -n # 음수라면 양수로 바꿔줌\n",
    "    sum = 0\n",
    "    \n",
    "    str_number = str(n)\n",
    "    if type(n) == float:\n",
    "        str_number = str_number.replace('.','')\n",
    "    \n",
    "    for i in str_number:\n",
    "        sum += int(i)\n",
    "    return sum\n",
    "\n",
    "# 선생님 방법\n",
    "def digit_sum2(n):\n",
    "    if not (type(n) == int and n>0 ):\n",
    "        return \"Wrong Param\"\n",
    "    else:\n",
    "        total = 0\n",
    "        while n != 0:\n",
    "            total += n%10\n",
    "            n = n//10\n",
    "        return total\n",
    "\n",
    "n = -323\n",
    "print(\"{input}의 모든 자리 수의 합은 {sum}입니다.\".format(input = n,\n",
    "                                              sum = digit_sum(n)))"
   ]
  },
  {
   "cell_type": "markdown",
   "metadata": {},
   "source": [
    "> Q. 양의 정수가 다음과 같이 뒤에서 앞으로 읽어도 원래와 동일해지는지 여부를 반환하는 함수 작성"
   ]
  },
  {
   "cell_type": "code",
   "execution_count": 50,
   "metadata": {},
   "outputs": [
    {
     "name": "stdout",
     "output_type": "stream",
     "text": [
      "True\n",
      "True\n",
      "False\n"
     ]
    }
   ],
   "source": [
    "def rev_int(n):\n",
    "    return str(n) == str(n)[::-1]\n",
    "    \n",
    "print(rev_int(1234321))\n",
    "print(rev_int(3))\n",
    "print(rev_int(1353))"
   ]
  },
  {
   "cell_type": "code",
   "execution_count": 65,
   "metadata": {},
   "outputs": [
    {
     "name": "stdout",
     "output_type": "stream",
     "text": [
      "3\n",
      "-1\n"
     ]
    }
   ],
   "source": [
    "def clip(lo,x,hi):\n",
    "    return sorted([lo,x,hi])[1]\n",
    "\n",
    "print(clip(3,2,10))\n",
    "print(clip(-1,-8,10))"
   ]
  },
  {
   "cell_type": "code",
   "execution_count": 80,
   "metadata": {},
   "outputs": [
    {
     "data": {
      "text/plain": [
       "['이유덕',\n",
       " '이재영',\n",
       " '권종표',\n",
       " '이재영',\n",
       " '박민호',\n",
       " '강상희',\n",
       " '이재영',\n",
       " '김지완',\n",
       " '최승혁',\n",
       " '이성연',\n",
       " '박영서',\n",
       " '박민호',\n",
       " '전경헌',\n",
       " '송정환',\n",
       " '김재성',\n",
       " '이유덕',\n",
       " '전경헌']"
      ]
     },
     "execution_count": 80,
     "metadata": {},
     "output_type": "execute_result"
    }
   ],
   "source": [
    "name_list='이유덕,이재영,권종표,이재영,박민호,강상희,이재영,김지완,최승혁,이성연,박영서,박민호,전경헌,송정환,김재성,이유덕,전경헌'.split(',')\n",
    "name_list"
   ]
  },
  {
   "cell_type": "code",
   "execution_count": 81,
   "metadata": {},
   "outputs": [
    {
     "name": "stdout",
     "output_type": "stream",
     "text": [
      "김씨는 2명입니다\n",
      "이씨는 6명입니다\n"
     ]
    }
   ],
   "source": [
    "kim = 0 # 김씨 몇명?\n",
    "lee = 0 # 이씨 몇명?\n",
    "for i in name_list:\n",
    "    if '김' == i[0]:\n",
    "        kim+=1\n",
    "    if '이' == i[0]:\n",
    "        lee+=1\n",
    "print(\"김씨는 {num}명입니다\".format(num=kim))\n",
    "print(\"이씨는 {num}명입니다\".format(num=lee))"
   ]
  },
  {
   "cell_type": "code",
   "execution_count": 82,
   "metadata": {},
   "outputs": [
    {
     "data": {
      "text/plain": [
       "3"
      ]
     },
     "execution_count": 82,
     "metadata": {},
     "output_type": "execute_result"
    }
   ],
   "source": [
    "# 이재영 몇명?\n",
    "name_list.count('이재영')"
   ]
  },
  {
   "cell_type": "code",
   "execution_count": 83,
   "metadata": {},
   "outputs": [
    {
     "data": {
      "text/plain": [
       "{'강상희',\n",
       " '권종표',\n",
       " '김재성',\n",
       " '김지완',\n",
       " '박민호',\n",
       " '박영서',\n",
       " '송정환',\n",
       " '이성연',\n",
       " '이유덕',\n",
       " '이재영',\n",
       " '전경헌',\n",
       " '최승혁'}"
      ]
     },
     "execution_count": 83,
     "metadata": {},
     "output_type": "execute_result"
    }
   ],
   "source": [
    "# 중복된 이름 제거 후 출력\n",
    "set(name_list)"
   ]
  },
  {
   "cell_type": "code",
   "execution_count": 84,
   "metadata": {
    "scrolled": true
   },
   "outputs": [
    {
     "name": "stdout",
     "output_type": "stream",
     "text": [
      "['강상희', '권종표', '김재성', '김지완', '박민호', '박영서', '송정환', '이성연', '이유덕', '이재영', '전경헌', '최승혁']\n"
     ]
    }
   ],
   "source": [
    "# 중복 제거 후 가나다 순\n",
    "print(sorted(list(set(name_list))))"
   ]
  },
  {
   "cell_type": "markdown",
   "metadata": {},
   "source": [
    "```\n",
    "주어진 문자열 안에서의 각 문자의 출현빈도를 dictionary로 만들어 반환하는 함수 ch_bin()을 작성하십시오.\n",
    "\n",
    "문자열을 입력받고, 함수 ch_bin 호출 시 인자로 문자열을 사용한 결과인  dictionary를 출력하는 문장을 작성하십시오.\n",
    "언어 : python3\n",
    "입력 설명 :\n",
    "\n",
    "다음과 같이 문자열을 한 개 입력받습니다.\n",
    "==============================\n",
    "문자열 입력: brontosaurus\n",
    "출력 설명 :\n",
    "\n",
    "다음과 같이 문자열에 기반하여 만들어진 dictionary가 출력됩니다.\n",
    "==================================\n",
    "{'b': 1, 'r': 2, 'o': 2, 'n': 1, 't': 1, 's': 2, 'a': 1, 'u': 2}\n",
    "샘플 입력 :\n",
    "\n",
    "Brontosaurus\n",
    "샘플 출력 :\n",
    "\n",
    "{'b': 1, 'r': 2, 'o': 2, 'n': 1, 't': 1, 's': 2, 'a': 1, 'u': 2}\n",
    "```"
   ]
  },
  {
   "cell_type": "code",
   "execution_count": 203,
   "metadata": {},
   "outputs": [],
   "source": [
    "words = ['Seoul','Subway','Happy',\n",
    "         'Deep Learning','Machine Learning',\n",
    "         'Yonsei','University','Life','Python','apple','banana']\n",
    "\n",
    "maxlen = max([len(w) for w in words])"
   ]
  },
  {
   "cell_type": "code",
   "execution_count": 204,
   "metadata": {},
   "outputs": [],
   "source": [
    "def ch_bin(word):\n",
    "    word = word.strip().replace(' ','').lower()\n",
    "    word_dict = dict()\n",
    "    for c in word:\n",
    "        word_dict[c] = word.count(c)\n",
    "    return word_dict"
   ]
  },
  {
   "cell_type": "code",
   "execution_count": 205,
   "metadata": {},
   "outputs": [
    {
     "name": "stdout",
     "output_type": "stream",
     "text": [
      "Seoul            :  {'s': 1, 'e': 1, 'o': 1, 'u': 1, 'l': 1}\n",
      "Subway           :  {'s': 1, 'u': 1, 'b': 1, 'w': 1, 'a': 1, 'y': 1}\n",
      "Happy            :  {'h': 1, 'a': 1, 'p': 2, 'y': 1}\n",
      "Deep Learning    :  {'d': 1, 'e': 3, 'p': 1, 'l': 1, 'a': 1, 'r': 1, 'n': 2, 'i': 1, 'g': 1}\n",
      "Machine Learning :  {'m': 1, 'a': 2, 'c': 1, 'h': 1, 'i': 2, 'n': 3, 'e': 2, 'l': 1, 'r': 1, 'g': 1}\n",
      "Yonsei           :  {'y': 1, 'o': 1, 'n': 1, 's': 1, 'e': 1, 'i': 1}\n",
      "University       :  {'u': 1, 'n': 1, 'i': 2, 'v': 1, 'e': 1, 'r': 1, 's': 1, 't': 1, 'y': 1}\n",
      "Life             :  {'l': 1, 'i': 1, 'f': 1, 'e': 1}\n",
      "Python           :  {'p': 1, 'y': 1, 't': 1, 'h': 1, 'o': 1, 'n': 1}\n",
      "apple            :  {'a': 1, 'p': 2, 'l': 1, 'e': 1}\n",
      "banana           :  {'b': 1, 'a': 3, 'n': 2}\n"
     ]
    }
   ],
   "source": [
    "for word in words:\n",
    "    print((\"{word:<%d} : \"%maxlen).format(word=word),ch_bin(word))"
   ]
  },
  {
   "cell_type": "code",
   "execution_count": 206,
   "metadata": {},
   "outputs": [],
   "source": [
    "def reverse_dic(word_dict,n):\n",
    "    result = list()\n",
    "    for word,cnt in word_dict.items():\n",
    "        if cnt == n:\n",
    "            result.append(word)\n",
    "    return result"
   ]
  },
  {
   "cell_type": "code",
   "execution_count": 207,
   "metadata": {},
   "outputs": [
    {
     "name": "stdout",
     "output_type": "stream",
     "text": [
      "Seoul            1개 있는 문자들 :  ['s', 'e', 'o', 'u', 'l']\n",
      "Subway           1개 있는 문자들 :  ['s', 'u', 'b', 'w', 'a', 'y']\n",
      "Happy            1개 있는 문자들 :  ['h', 'a', 'y']\n",
      "Deep Learning    1개 있는 문자들 :  ['d', 'p', 'l', 'a', 'r', 'i', 'g']\n",
      "Machine Learning 1개 있는 문자들 :  ['m', 'c', 'h', 'l', 'r', 'g']\n",
      "Yonsei           1개 있는 문자들 :  ['y', 'o', 'n', 's', 'e', 'i']\n",
      "University       1개 있는 문자들 :  ['u', 'n', 'v', 'e', 'r', 's', 't', 'y']\n",
      "Life             1개 있는 문자들 :  ['l', 'i', 'f', 'e']\n",
      "Python           1개 있는 문자들 :  ['p', 'y', 't', 'h', 'o', 'n']\n",
      "apple            1개 있는 문자들 :  ['a', 'l', 'e']\n",
      "banana           1개 있는 문자들 :  ['b']\n"
     ]
    }
   ],
   "source": [
    "n = 1\n",
    "for word in words:\n",
    "    print((\"{:<%d} {}개 있는 문자들 : \"%maxlen).format(word,n),end=' ')\n",
    "    print(reverse_dic(ch_bin(word),n))"
   ]
  },
  {
   "cell_type": "code",
   "execution_count": 208,
   "metadata": {},
   "outputs": [],
   "source": [
    "def reverse_dic_num(word):\n",
    "    word_dict = ch_bin(word)\n",
    "    result = dict()\n",
    "    \n",
    "    for word,cnt in word_dict.items():\n",
    "        if cnt not in result.keys():\n",
    "            result[cnt] = list(word)\n",
    "        else:\n",
    "            result[cnt].append(word)\n",
    "                \n",
    "    return result"
   ]
  },
  {
   "cell_type": "code",
   "execution_count": 209,
   "metadata": {},
   "outputs": [
    {
     "name": "stdout",
     "output_type": "stream",
     "text": [
      "Seoul            : {1: ['s', 'e', 'o', 'u', 'l']}\n",
      "Subway           : {1: ['s', 'u', 'b', 'w', 'a', 'y']}\n",
      "Happy            : {1: ['h', 'a', 'y'], 2: ['p']}\n",
      "Deep Learning    : {1: ['d', 'p', 'l', 'a', 'r', 'i', 'g'], 3: ['e'], 2: ['n']}\n",
      "Machine Learning : {1: ['m', 'c', 'h', 'l', 'r', 'g'], 2: ['a', 'i', 'e'], 3: ['n']}\n",
      "Yonsei           : {1: ['y', 'o', 'n', 's', 'e', 'i']}\n",
      "University       : {1: ['u', 'n', 'v', 'e', 'r', 's', 't', 'y'], 2: ['i']}\n",
      "Life             : {1: ['l', 'i', 'f', 'e']}\n",
      "Python           : {1: ['p', 'y', 't', 'h', 'o', 'n']}\n",
      "apple            : {1: ['a', 'l', 'e'], 2: ['p']}\n",
      "banana           : {1: ['b'], 3: ['a'], 2: ['n']}\n"
     ]
    }
   ],
   "source": [
    "for word in words:\n",
    "    print((\"{:<%d} : {}\"%maxlen).format(word,\n",
    "                                        reverse_dic_num(word)))"
   ]
  }
 ],
 "metadata": {
  "kernelspec": {
   "display_name": "Python 3",
   "language": "python",
   "name": "python3"
  },
  "language_info": {
   "codemirror_mode": {
    "name": "ipython",
    "version": 3
   },
   "file_extension": ".py",
   "mimetype": "text/x-python",
   "name": "python",
   "nbconvert_exporter": "python",
   "pygments_lexer": "ipython3",
   "version": "3.6.8"
  }
 },
 "nbformat": 4,
 "nbformat_minor": 2
}
