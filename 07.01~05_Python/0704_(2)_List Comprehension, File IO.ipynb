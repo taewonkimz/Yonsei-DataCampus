{
 "cells": [
  {
   "cell_type": "markdown",
   "metadata": {},
   "source": [
    "![kdata](../img/kdata-logo.png)\n",
    "\n",
    "# Python Basic Lecture07 : 리스트 내포(List Comprehension)와 파일 입출력(File I/O)\n",
    "\n",
    "Date : 2019.07.04"
   ]
  },
  {
   "cell_type": "markdown",
   "metadata": {},
   "source": [
    "## List comprehension\n",
    "To derive a new list from an existing list, doing iterative\n",
    "operations on the list.\n",
    "\n",
    "```python\n",
    "[expr for var in list filtering]\n",
    "```"
   ]
  },
  {
   "cell_type": "code",
   "execution_count": 1,
   "metadata": {},
   "outputs": [
    {
     "data": {
      "text/plain": [
       "[2.0, 2.5, 3.0]"
      ]
     },
     "execution_count": 1,
     "metadata": {},
     "output_type": "execute_result"
    }
   ],
   "source": [
    "[x/2.0 for x in [4,5,6]]"
   ]
  },
  {
   "cell_type": "code",
   "execution_count": 4,
   "metadata": {},
   "outputs": [
    {
     "data": {
      "text/plain": [
       "[2.5, 3.0]"
      ]
     },
     "execution_count": 4,
     "metadata": {},
     "output_type": "execute_result"
    }
   ],
   "source": [
    "[x/2.0 for x in [4,5,6] if x > 4] # filtering도 가능함"
   ]
  },
  {
   "cell_type": "markdown",
   "metadata": {},
   "source": [
    "## Nested List Comprehension"
   ]
  },
  {
   "cell_type": "code",
   "execution_count": 5,
   "metadata": {},
   "outputs": [
    {
     "name": "stdout",
     "output_type": "stream",
     "text": [
      "[[-1, 2], [-1, 4], [0, 2], [0, 4], [2, 2], [2, 4]]\n"
     ]
    }
   ],
   "source": [
    "xlist = [-1,0,2]\n",
    "ylist = [2,4]\n",
    "xy = [[x,y] for x in xlist for y in ylist]\n",
    "print(xy)"
   ]
  },
  {
   "cell_type": "code",
   "execution_count": 8,
   "metadata": {},
   "outputs": [
    {
     "data": {
      "text/plain": [
       "['2*2 = 4',\n",
       " '2*4 = 8',\n",
       " '2*6 = 12',\n",
       " '2*8 = 16',\n",
       " '4*2 = 8',\n",
       " '4*4 = 16',\n",
       " '4*6 = 24',\n",
       " '4*8 = 32',\n",
       " '6*2 = 12',\n",
       " '6*4 = 24',\n",
       " '6*6 = 36',\n",
       " '6*8 = 48',\n",
       " '8*2 = 16',\n",
       " '8*4 = 32',\n",
       " '8*6 = 48',\n",
       " '8*8 = 64']"
      ]
     },
     "execution_count": 8,
     "metadata": {},
     "output_type": "execute_result"
    }
   ],
   "source": [
    "[\"{0}*{1} = {2}\".format(x,y,x*y)\n",
    " for x in range(1,10) for y in range(1,10) if x%2 == 0 and y%2 == 0]"
   ]
  },
  {
   "cell_type": "markdown",
   "metadata": {},
   "source": [
    "---\n",
    "\n",
    "## File I/O\n",
    "\n",
    "### File 열기 / 닫기"
   ]
  },
  {
   "cell_type": "code",
   "execution_count": 38,
   "metadata": {},
   "outputs": [
    {
     "name": "stdout",
     "output_type": "stream",
     "text": [
      "Lorem ipsum dolor sit amet, consectetur adipiscing elit.\n",
      "\n"
     ]
    }
   ],
   "source": [
    "f = open('./test.txt', 'r')\n",
    "print(f.readline())\n",
    "f.close()"
   ]
  },
  {
   "cell_type": "markdown",
   "metadata": {},
   "source": [
    "### File 쓰기"
   ]
  },
  {
   "cell_type": "code",
   "execution_count": 39,
   "metadata": {},
   "outputs": [],
   "source": [
    "f = open('fun.txt', 'w')\n",
    "f.write('Programming is fun.')\n",
    "f.close()"
   ]
  },
  {
   "cell_type": "markdown",
   "metadata": {},
   "source": [
    "### File 한 줄 읽기"
   ]
  },
  {
   "cell_type": "code",
   "execution_count": 40,
   "metadata": {},
   "outputs": [
    {
     "name": "stdout",
     "output_type": "stream",
     "text": [
      "Lorem ipsum dolor sit amet, consectetur adipiscing elit.\n",
      "\n"
     ]
    }
   ],
   "source": [
    "f = open(\"test.txt\", 'r')\n",
    "line = f.readline()\n",
    "print(line)\n",
    "f.close()"
   ]
  },
  {
   "cell_type": "markdown",
   "metadata": {},
   "source": [
    "### File 전체 읽기\n",
    "\n",
    "#### 반복문 이용"
   ]
  },
  {
   "cell_type": "code",
   "execution_count": 57,
   "metadata": {},
   "outputs": [
    {
     "name": "stdout",
     "output_type": "stream",
     "text": [
      "Lorem ipsum dolor sit amet, consectetur adipiscing elit.\n",
      "\n",
      "Aliquam sit amet varius quam, eu placerat diam.\n",
      "\n",
      "Donec ut odio non ligula volutpat molestie et et nunc.\n",
      "\n",
      "Aenean quis mauris dui. Sed lacus massa, blandit non lectus ac, sollicitudin porttitor ante.\n",
      "\n",
      "Integer vel diam dapibus, lobortis velit vel, sollicitudin enim.\n",
      "\n",
      "Phasellus vel ex aliquet, consectetur est in, pretium leo. Proin ultrices eros ac libero dapibus, ut aliquet odio vulputate.\n"
     ]
    }
   ],
   "source": [
    "f = open(\"test.txt\", 'r')\n",
    "while True :\n",
    "    line = f.readline() # 개행문자까지 다 읽어라\n",
    "    if not line:\n",
    "        break\n",
    "    print(line)\n",
    "f.close()"
   ]
  },
  {
   "cell_type": "markdown",
   "metadata": {},
   "source": [
    "#### 한번에 읽기 => readlines() 함수 사용"
   ]
  },
  {
   "cell_type": "code",
   "execution_count": 47,
   "metadata": {},
   "outputs": [
    {
     "name": "stdout",
     "output_type": "stream",
     "text": [
      "Total Lines Num :  6\n",
      "Lorem ipsum dolor sit amet, consectetur adipiscing elit.\n",
      "\n",
      "Aliquam sit amet varius quam, eu placerat diam.\n",
      "\n",
      "Donec ut odio non ligula volutpat molestie et et nunc.\n",
      "\n",
      "Aenean quis mauris dui. Sed lacus massa, blandit non lectus ac, sollicitudin porttitor ante.\n",
      "\n",
      "Integer vel diam dapibus, lobortis velit vel, sollicitudin enim.\n",
      "\n",
      "Phasellus vel ex aliquet, consectetur est in, pretium leo. Proin ultrices eros ac libero dapibus, ut aliquet odio vulputate.\n"
     ]
    }
   ],
   "source": [
    "f = open(\"test.txt\", 'r')\n",
    "lines = f.readlines()\n",
    "print(\"Total Lines Num : \",len(lines))\n",
    "for line in lines: \n",
    "    print(line)\n",
    "f.close()"
   ]
  },
  {
   "cell_type": "markdown",
   "metadata": {},
   "source": [
    "### 한번에 읽기2"
   ]
  },
  {
   "cell_type": "code",
   "execution_count": 49,
   "metadata": {},
   "outputs": [
    {
     "name": "stdout",
     "output_type": "stream",
     "text": [
      "442\n",
      "Lorem ipsum dolor sit amet, consectetur adipiscing elit.\n",
      "Aliquam sit amet varius quam, eu placerat diam.\n",
      "Donec ut odio non ligula volutpat molestie et et nunc.\n",
      "Aenean quis mauris dui. Sed lacus massa, blandit non lectus ac, sollicitudin porttitor ante.\n",
      "Integer vel diam dapibus, lobortis velit vel, sollicitudin enim.\n",
      "Phasellus vel ex aliquet, consectetur est in, pretium leo. Proin ultrices eros ac libero dapibus, ut aliquet odio vulputate.\n"
     ]
    }
   ],
   "source": [
    "f = open(\"test.txt\", 'r')\n",
    "lines = f.read() # 모든 라인을 읽어서 내용 전체를 하나의 문자열로 리턴\n",
    "print(len(lines))\n",
    "print(lines)\n",
    "f.close()"
   ]
  },
  {
   "cell_type": "markdown",
   "metadata": {},
   "source": [
    "### File에 추가로 쓰기"
   ]
  },
  {
   "cell_type": "code",
   "execution_count": 52,
   "metadata": {},
   "outputs": [],
   "source": [
    "f = open(\"fun.txt\", 'a')\n",
    "f.write('\\nhahahahahaha\\n')\n",
    "f.close()"
   ]
  },
  {
   "cell_type": "markdown",
   "metadata": {},
   "source": [
    "### close 함수 없이 함수 닫기"
   ]
  },
  {
   "cell_type": "code",
   "execution_count": 53,
   "metadata": {},
   "outputs": [],
   "source": [
    "with open(\"fun.txt\", 'a') as f :\n",
    "    f.write('very very fun ')"
   ]
  },
  {
   "cell_type": "markdown",
   "metadata": {},
   "source": [
    "### os.path module의 File 관련 함수"
   ]
  },
  {
   "cell_type": "code",
   "execution_count": 79,
   "metadata": {
    "scrolled": true
   },
   "outputs": [
    {
     "data": {
      "text/plain": [
       "'/Users/minsuksung/github/yonsei-data-campus/python-basic/fun.txt'"
      ]
     },
     "execution_count": 79,
     "metadata": {},
     "output_type": "execute_result"
    }
   ],
   "source": [
    "import os\n",
    "fullpath = os.getcwd() + '/fun.txt'\n",
    "fullpath # File 경로"
   ]
  },
  {
   "cell_type": "code",
   "execution_count": 80,
   "metadata": {},
   "outputs": [
    {
     "data": {
      "text/plain": [
       "True"
      ]
     },
     "execution_count": 80,
     "metadata": {},
     "output_type": "execute_result"
    }
   ],
   "source": [
    "os.path.exists(fullpath) # File 존재 확인하기"
   ]
  },
  {
   "cell_type": "code",
   "execution_count": 81,
   "metadata": {},
   "outputs": [
    {
     "data": {
      "text/plain": [
       "'/Users/minsuksung/github/yonsei-data-campus/python-basic'"
      ]
     },
     "execution_count": 81,
     "metadata": {},
     "output_type": "execute_result"
    }
   ],
   "source": [
    "os.path.dirname(fullpath) # dicrectory 경로만 추출하기"
   ]
  },
  {
   "cell_type": "code",
   "execution_count": 82,
   "metadata": {},
   "outputs": [
    {
     "data": {
      "text/plain": [
       "'fun.txt'"
      ]
     },
     "execution_count": 82,
     "metadata": {},
     "output_type": "execute_result"
    }
   ],
   "source": [
    "os.path.basename(fullpath) # 파일 이름만 추출하기 "
   ]
  },
  {
   "cell_type": "code",
   "execution_count": 83,
   "metadata": {},
   "outputs": [
    {
     "data": {
      "text/plain": [
       "('/Users/minsuksung/github/yonsei-data-campus/python-basic', 'fun.txt')"
      ]
     },
     "execution_count": 83,
     "metadata": {},
     "output_type": "execute_result"
    }
   ],
   "source": [
    "os.path.split(fullpath) # 디렉토리와 파일로 구분"
   ]
  },
  {
   "cell_type": "code",
   "execution_count": 84,
   "metadata": {},
   "outputs": [
    {
     "data": {
      "text/plain": [
       "('/Users/minsuksung/github/yonsei-data-campus/python-basic/fun', '.txt')"
      ]
     },
     "execution_count": 84,
     "metadata": {},
     "output_type": "execute_result"
    }
   ],
   "source": [
    "os.path.splitext(fullpath) # 확장자와 나머지로 구분"
   ]
  },
  {
   "cell_type": "markdown",
   "metadata": {},
   "source": [
    "### 예제\n",
    "```\n",
    "다음과 같이 각 라인마다 점수 한개씩 기록되어 있는 score.txt 파일을 읽어서 점수들의 합계와 평균을 구하여 result.txt 파일에 쓰는 프로그램을 작성하세요.\n",
    "\n",
    "=================\n",
    "result.txt 파일 내용 (예시1)\n",
    "75\n",
    "56\n",
    "38\n",
    "98\n",
    "62\n",
    "3\n",
    "81\n",
    "17\n",
    "52\n",
    "43\n",
    "\n",
    "=================\n",
    "score.txt 파일 내용 (예시2)\n",
    "99\n",
    "100\n",
    "75\n",
    "언어 : python3\n",
    "입력 설명 :\n",
    "\n",
    "result.txt   또는 score.txt 파일 만들어 사용\n",
    "출력 설명 :\n",
    "\n",
    "sum , average 출력\n",
    "샘플 출력 :\n",
    "\n",
    "sum : 525\n",
    "average : 52.5\n",
    "```"
   ]
  },
  {
   "cell_type": "code",
   "execution_count": 97,
   "metadata": {},
   "outputs": [
    {
     "name": "stdout",
     "output_type": "stream",
     "text": [
      "sum : 525\n",
      "average : 52.5\n"
     ]
    }
   ],
   "source": [
    "sum = 0\n",
    "avg = 0.0\n",
    "total_len = 0\n",
    "\n",
    "with open('./score.txt','r') as f:\n",
    "    lines = f.readlines()\n",
    "    total_len = len(lines)\n",
    "    for line in lines:\n",
    "        sum += int(line)\n",
    "    avg = sum / total_len\n",
    "        \n",
    "with open('./result.txt','w') as f:\n",
    "    result = \"sum : {}\\naverage : {}\".format(sum,avg)\n",
    "    print(result)\n",
    "    f.write(result)"
   ]
  },
  {
   "cell_type": "markdown",
   "metadata": {},
   "source": [
    "## CSV(Comma-Separated Values)"
   ]
  },
  {
   "cell_type": "code",
   "execution_count": 85,
   "metadata": {},
   "outputs": [],
   "source": [
    "import csv\n",
    "filename='연안정지 관측자료.csv'"
   ]
  },
  {
   "cell_type": "code",
   "execution_count": 86,
   "metadata": {},
   "outputs": [
    {
     "name": "stdout",
     "output_type": "stream",
     "text": [
      "['\\ufeff\"해역\"', '연안정점', '관측일시', '수온', '수온 QC Flag', '기온', '기온 QC', '운량', '천기']\n"
     ]
    }
   ],
   "source": [
    "with open(filename, 'r', encoding='utf-8') as f:\n",
    "    reader = csv.reader(f)\n",
    "    row = next(reader)\n",
    "    print(row)"
   ]
  },
  {
   "cell_type": "code",
   "execution_count": 88,
   "metadata": {},
   "outputs": [
    {
     "name": "stdout",
     "output_type": "stream",
     "text": [
      "['동해', '기장(12201)', '20190605', '15.4', '2', '24.4', '2', '1%-10%', '']\n",
      "['동해', '기장(12201)', '20190606', '15.4', '2', '', '2', '', '']\n",
      "['동해', '기장(12201)', '20190607', '17.4', '2', '19.2', '2', '91%-100%', '비']\n",
      "['동해', '기장(12201)', '20190608', '17.5', '2', '', '2', '', '']\n",
      "['동해', '기장(12201)', '20190609', '17.6', '2', '', '2', '', '']\n",
      "['동해', '기장(12201)', '20190610', '18.1', '2', '20.9', '2', '41%-50%', '']\n",
      "['동해', '기장(12201)', '20190611', '19', '2', '19.8', '2', '41%-50%', '개임(운량:3-7)']\n",
      "['남해', '산양(20501)', '20190613', '21', '2', '', '2', '', '']\n",
      "['남해', '산양(20501)', '20190614', '20.5', '2', '', '2', '', '']\n",
      "['남해', '산양(20501)', '20190618', '20.7', '2', '', '2', '', '']\n",
      "['남해', '산양(20501)', '20190619', '20.8', '2', '', '2', '', '']\n",
      "['남해', '산양(20501)', '20190628', '21.5', '2', '', '2', '', '']\n",
      "['남해', '산양(20501)', '20190702', '22.4', '2', '', '2', '', '']\n",
      "['서해', '용유도(31302)', '20190605', '19.7', '2', '18.7', '2', '31%-40%', '흐림(운량:8-10)']\n",
      "['서해', '용유도(31302)', '20190607', '19', '2', '18.8', '2', '21%-30%', '쾌청(운량:0-2)']\n",
      "['서해', '용유도(31302)', '20190610', '18.3', '2', '19.5', '2', '81%-90%', '흐림(운량:8-10)']\n",
      "['서해', '용유도(31302)', '20190611', '18.5', '2', '19.7', '2', 'Zero', '쾌청(운량:0-2)']\n",
      "['서해', '용유도(31302)', '20190612', '18.8', '2', '20.3', '2', 'Zero', '쾌청(운량:0-2)']\n",
      "['서해', '용유도(31302)', '20190613', '19.4', '2', '19.8', '2', 'Zero', '쾌청(운량:0-2)']\n",
      "['서해', '용유도(31302)', '20190614', '19.5', '2', '20.1', '2', '31%-40%', '흐림(운량:8-10)']\n",
      "['서해', '용유도(31302)', '20190617', '21.6', '2', '20.1', '2', '1%-10%', '쾌청(운량:0-2)']\n",
      "['서해', '용유도(31302)', '20190618', '19.9', '2', '20.7', '2', '91%-100%', '흐림(운량:8-10)']\n",
      "['서해', '용유도(31302)', '20190619', '21.2', '2', '21.7', '2', '11%-20%', '쾌청(운량:0-2)']\n",
      "['서해', '용유도(31302)', '20190620', '21.6', '2', '22.4', '2', '11%-20%', '쾌청(운량:0-2)']\n",
      "['서해', '용유도(31302)', '20190621', '22.3', '2', '20.9', '2', '71%-80%', '흐림(운량:8-10)']\n",
      "['서해', '용유도(31302)', '20190624', '20.8', '2', '23.8', '2', 'Zero', '쾌청(운량:0-2)']\n",
      "['서해', '용유도(31302)', '20190625', '20.9', '2', '19.7', '2', '', '안개(Fog)']\n",
      "['서해', '용유도(31302)', '20190626', '20.5', '2', '22', '2', '91%-100%', '흐림(운량:8-10)']\n",
      "['서해', '용유도(31302)', '20190627', '20.9', '2', '23.4', '2', '31%-40%', '개임(운량:3-7)']\n",
      "['서해', '용유도(31302)', '20190628', '21', '2', '23', '2', '81%-90%', '흐림(운량:8-10)']\n",
      "['서해', '용유도(31302)', '20190701', '22.7', '2', '22.5', '2', '11%-20%', '쾌청(운량:0-2)']\n",
      "['서해', '용유도(31302)', '20190702', '23.1', '2', '22.5', '2', 'Zero', '쾌청(운량:0-2)']\n",
      "['서해', '용유도(31302)', '20190703', '21.9', '2', '20.9', '2', '91%-100%', '흐림(운량:8-10)']\n",
      "['동해', '주문진(11002)', '20190605', '14.8', '2', '19.5', '2', '61%-70%', '개임(운량:3-7)']\n",
      "['동해', '주문진(11002)', '20190606', '', '2', '18.7', '2', '91%-100%', '안개(Fog)']\n",
      "['동해', '주문진(11002)', '20190607', '15.9', '2', '15.9', '2', '91%-100%', '이슬비']\n",
      "['동해', '주문진(11002)', '20190608', '15.6', '2', '19.6', '2', '51%-60%', '개임(운량:3-7)']\n",
      "['동해', '주문진(11002)', '20190609', '', '2', '17.6', '2', '91%-100%', '흐림(운량:8-10)']\n",
      "['동해', '주문진(11002)', '20190610', '12.5', '2', '16.7', '2', '71%-80%', '흐림(운량:8-10)']\n",
      "['동해', '주문진(11002)', '20190611', '15.8', '2', '16', '2', '91%-100%', '흐림(운량:8-10)']\n",
      "['동해', '주문진(11002)', '20190612', '17.1', '2', '18', '2', 'Zero', '쾌청(운량:0-2)']\n",
      "['동해', '주문진(11002)', '20190613', '15.8', '2', '22.4', '2', 'Zero', '쾌청(운량:0-2)']\n",
      "['동해', '주문진(11002)', '20190614', '15.9', '2', '24.8', '2', '91%-100%', '흐림(운량:8-10)']\n",
      "['동해', '주문진(11002)', '20190615', '16.8', '2', '19.9', '2', '71%-80%', '흐림(운량:8-10)']\n",
      "['동해', '주문진(11002)', '20190616', '', '2', '17.1', '2', '91%-100%', '이슬비']\n",
      "['동해', '주문진(11002)', '20190617', '17.4', '2', '20.6', '2', 'Zero', '쾌청(운량:0-2)']\n",
      "['동해', '주문진(11002)', '20190618', '17.9', '2', '22.7', '2', '91%-100%', '흐림(운량:8-10)']\n",
      "['동해', '주문진(11002)', '20190619', '18.8', '2', '25.9', '2', '21%-30%', '개임(운량:3-7)']\n",
      "['동해', '주문진(11002)', '20190620', '20.1', '2', '25.3', '2', '31%-40%', '개임(운량:3-7)']\n",
      "['동해', '주문진(11002)', '20190621', '19.1', '2', '21.6', '2', '91%-100%', '흐림(운량:8-10)']\n",
      "['동해', '주문진(11002)', '20190622', '20.8', '2', '20.9', '2', '1%-10%', '쾌청(운량:0-2)']\n",
      "['동해', '주문진(11002)', '20190623', '', '2', '20.4', '2', '21%-30%', '개임(운량:3-7)']\n",
      "['동해', '주문진(11002)', '20190624', '21.4', '2', '21.9', '2', '1%-10%', '쾌청(운량:0-2)']\n",
      "['동해', '주문진(11002)', '20190625', '18.4', '2', '22.5', '2', 'Zero', '쾌청(운량:0-2)']\n",
      "['동해', '주문진(11002)', '20190626', '16.4', '2', '24.9', '2', '51%-60%', '개임(운량:3-7)']\n",
      "['동해', '주문진(11002)', '20190627', '17.1', '2', '23.2', '2', '51%-60%', '개임(운량:3-7)']\n",
      "['동해', '주문진(11002)', '20190628', '20.8', '2', '20.4', '2', '91%-100%', '이슬비']\n",
      "['동해', '주문진(11002)', '20190629', '20.9', '2', '20.5', '2', '91%-100%', '이슬비']\n",
      "['동해', '주문진(11002)', '20190630', '', '2', '25.4', '2', '81%-90%', '흐림(운량:8-10)']\n",
      "['동해', '주문진(11002)', '20190701', '21.2', '2', '23.3', '2', '71%-80%', '흐림(운량:8-10)']\n",
      "['동해', '주문진(11002)', '20190702', '20.8', '2', '26.5', '2', '1%-10%', '쾌청(운량:0-2)']\n",
      "['동해', '주문진(11002)', '20190703', '21.9', '2', '28.7', '2', '21%-30%', '개임(운량:3-7)']\n",
      "['동해', '주문진(11002)', '20190704', '20.9', '2', '27.8', '2', 'Zero', '쾌청(운량:0-2)']\n",
      "['동해', '포항(11701)', '20190605', '13.1', '2', '23.5', '2', 'Zero', '']\n",
      "['동해', '포항(11701)', '20190607', '15.8', '2', '17.8', '2', '91%-100%', '']\n",
      "['동해', '포항(11701)', '20190610', '15.5', '2', '19.4', '2', '71%-80%', '']\n",
      "['동해', '포항(11701)', '20190611', '16.8', '2', '18.6', '2', '71%-80%', '']\n",
      "['동해', '포항(11701)', '20190612', '18.1', '2', '19.5', '2', '61%-70%', '']\n",
      "['동해', '포항(11701)', '20190613', '18.8', '2', '21.8', '2', 'Zero', '']\n",
      "['동해', '포항(11701)', '20190614', '19.1', '2', '21.2', '2', '91%-100%', '']\n",
      "['동해', '포항(11701)', '20190617', '20.1', '2', '22.9', '2', '81%-90%', '']\n",
      "['동해', '포항(11701)', '20190618', '20.3', '2', '24', '2', '91%-100%', '']\n",
      "['동해', '포항(11701)', '20190619', '20.5', '2', '26.1', '2', '71%-80%', '쾌청(운량:0-2)']\n",
      "['동해', '포항(11701)', '20190620', '21', '2', '27.1', '2', 'Zero', '']\n",
      "['동해', '포항(11701)', '20190621', '21.8', '2', '25.6', '2', '11%-20%', '']\n",
      "['동해', '포항(11701)', '20190624', '22.8', '2', '23', '2', '11%-20%', '']\n",
      "['동해', '포항(11701)', '20190625', '23.1', '2', '24.5', '2', 'Zero', '']\n",
      "['동해', '포항(11701)', '20190626', '22.6', '2', '23.4', '2', '91%-100%', '']\n",
      "['동해', '포항(11701)', '20190627', '21.5', '2', '23.9', '2', '91%-100%', '']\n",
      "['동해', '포항(11701)', '20190628', '22.6', '2', '21.2', '2', '91%-100%', '']\n",
      "['동해', '포항(11701)', '20190701', '21.8', '2', '25.3', '2', '81%-90%', '']\n",
      "['동해', '포항(11701)', '20190702', '21.7', '2', '26.7', '2', '51%-60%', '']\n",
      "['동해', '포항(11701)', '20190703', '21.5', '2', '26.4', '2', '71%-80%', '']\n",
      "['동해', '포항(11701)', '20190704', '21.8', '2', '28.4', '2', 'Zero', '']\n",
      "['남해', '화양(22001)', '20190605', '20.1', '2', '24.4', '2', 'Zero', '쾌청(운량:0-2)']\n",
      "['남해', '화양(22001)', '20190607', '20.6', '2', '20', '2', '91%-100%', '흐림(운량:8-10)']\n",
      "['남해', '화양(22001)', '20190610', '20.4', '2', '19.8', '2', '91%-100%', '흐림(운량:8-10)']\n",
      "['남해', '화양(22001)', '20190611', '20.1', '2', '19.3', '2', '91%-100%', '흐림(운량:8-10)']\n",
      "['남해', '화양(22001)', '20190612', '20.9', '2', '20.6', '2', '21%-30%', '개임(운량:3-7)']\n",
      "['남해', '화양(22001)', '20190613', '20.9', '2', '20.3', '2', '71%-80%', '흐림(운량:8-10)']\n",
      "['남해', '화양(22001)', '20190626', '21.9', '2', '18.5', '2', '81%-90%', '비']\n",
      "['남해', '화양(22001)', '20190627', '22.5', '2', '22.4', '2', '91%-100%', '안개(Fog)']\n",
      "['남해', '화양(22001)', '20190628', '23.6', '2', '24.2', '2', '21%-30%', '개임(운량:3-7)']\n",
      "['남해', '화양(22001)', '20190701', '22.8', '2', '24.5', '2', '21%-30%', '개임(운량:3-7)']\n",
      "['남해', '화양(22001)', '20190702', '23.4', '2', '25.4', '2', '71%-80%', '흐림(운량:8-10)']\n",
      "['남해', '화양(22001)', '20190703', '22.3', '2', '24.4', '2', '91%-100%', '흐림(운량:8-10)']\n",
      "['남해', '화양(22001)', '20190704', '23.1', '2', '26.7', '2', '21%-30%', '개임(운량:3-7)']\n"
     ]
    }
   ],
   "source": [
    "with open(filename, 'r', encoding='utf-8') as f :\n",
    "    reader = csv.reader(f)\n",
    "    next(reader)\n",
    "    for row in reader:\n",
    "        print(row)"
   ]
  }
 ],
 "metadata": {
  "kernelspec": {
   "display_name": "Python 3",
   "language": "python",
   "name": "python3"
  },
  "language_info": {
   "codemirror_mode": {
    "name": "ipython",
    "version": 3
   },
   "file_extension": ".py",
   "mimetype": "text/x-python",
   "name": "python",
   "nbconvert_exporter": "python",
   "pygments_lexer": "ipython3",
   "version": "3.6.8"
  }
 },
 "nbformat": 4,
 "nbformat_minor": 2
}
