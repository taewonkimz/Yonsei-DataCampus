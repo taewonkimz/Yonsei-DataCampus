{
 "cells": [
  {
   "cell_type": "markdown",
   "metadata": {},
   "source": [
    "\n",
    "\n",
    "# Python Basic Lecture08 : 예외처리\n",
    "\n",
    "Date : 2019.07.05"
   ]
  },
  {
   "cell_type": "markdown",
   "metadata": {},
   "source": [
    "### 예외 예\n",
    "예외일때 발생하는 에러 : FineNotFoundError, ZeroDivisionError, IndexError\n",
    "> 예외 처리 : 예외가 발생하면 처리하는 코드"
   ]
  },
  {
   "cell_type": "code",
   "execution_count": 2,
   "metadata": {},
   "outputs": [
    {
     "name": "stdout",
     "output_type": "stream",
     "text": [
      "step 1\n",
      "step 2\n",
      "step 4\n",
      "예외 발생!\n",
      "step 5\n",
      "step 6\n"
     ]
    }
   ],
   "source": [
    "#모든 예외 처리\n",
    "print('step 1')\n",
    "try:\n",
    "    print('step 2')\n",
    "    f = open(\"finename.txt\")#1 #filename이 없기때문에 여기서 에러가 난다\n",
    "    print('step 3')\n",
    "except :#2 에러가 나면 except로 넘어간다\n",
    "    print('step 4')# 3\n",
    "    print(\"예외 발생!\")\n",
    "    print('step 5')\n",
    "print('step 6')"
   ]
  },
  {
   "cell_type": "code",
   "execution_count": 6,
   "metadata": {},
   "outputs": [
    {
     "name": "stdout",
     "output_type": "stream",
     "text": [
      "예외 발생!\n"
     ]
    }
   ],
   "source": [
    "#지정 예외 처리\n",
    "try:\n",
    "    f = open(\"finename.txt\")\n",
    "except FileNotFoundError :#특정 예외 명시\n",
    "    print(\"예외 발생!\")"
   ]
  },
  {
   "cell_type": "code",
   "execution_count": 4,
   "metadata": {},
   "outputs": [
    {
     "name": "stdout",
     "output_type": "stream",
     "text": [
      "FileNotFoundError\n"
     ]
    }
   ],
   "source": [
    "#다중 예외 처리\n",
    "try:\n",
    "    f = open(\"finename.txt\")\n",
    "    4 / 0\n",
    "    [1, 2, 3][4]\n",
    "except FileNotFoundError:\n",
    "    print(\"FileNotFoundError\")\n",
    "except ZeroDivisionError:\n",
    "    print(\" ZeroDivisionError \")\n",
    "except IndexError:\n",
    "    print(\" IndexError\")"
   ]
  },
  {
   "cell_type": "code",
   "execution_count": 8,
   "metadata": {},
   "outputs": [
    {
     "name": "stdout",
     "output_type": "stream",
     "text": [
      "3\n"
     ]
    }
   ],
   "source": [
    "result = 0\n",
    "try:\n",
    "    [1, 2, 3][3]\n",
    "    \"a\"+1\n",
    "    4 / 0\n",
    "except TypeError:\n",
    "    result += 1\n",
    "except ZeroDivisionError:\n",
    "    result += 2\n",
    "except IndexError:\n",
    "    result += 3\n",
    "print(result)"
   ]
  },
  {
   "cell_type": "markdown",
   "metadata": {},
   "source": [
    "#### 예외 확인"
   ]
  },
  {
   "cell_type": "code",
   "execution_count": 7,
   "metadata": {},
   "outputs": [
    {
     "name": "stdout",
     "output_type": "stream",
     "text": [
      "[Errno 2] No such file or directory: 'finename.txt'\n"
     ]
    }
   ],
   "source": [
    "try:\n",
    "    f = open(\"finename.txt\")\n",
    "except FileNotFoundError as fs:#fs라는 변수한테 에러가 난 이유를 담는다\n",
    "    print(fs)"
   ]
  },
  {
   "cell_type": "markdown",
   "metadata": {},
   "source": [
    "#### 문제\n",
    "각 line의 첫번째 숫자를 두번째 숫자로 나눈 몫을 화면에 출력하십시오.          \n",
    "다음과 같이 출력됩니다.         \n",
    "10 / 5 = 2         \n",
    "9 / 4 = 2        \n",
    "90 / 10 = 9          \n",
    "두번째 숫자가 0입니다             .\n"
   ]
  },
  {
   "cell_type": "code",
   "execution_count": 39,
   "metadata": {},
   "outputs": [
    {
     "name": "stdout",
     "output_type": "stream",
     "text": [
      "10/5\n",
      "=2.0\n",
      "9/4\n",
      "=2.25\n",
      "90/10\n",
      "=9.0\n",
      "두번째 숫자가 0입니다\n"
     ]
    }
   ],
   "source": [
    "f = open(\"number.txt\", 'r')\n",
    "lines = f.readlines()#모든 라인을 읽어서 각 라인이 하나의 원소가 되는 list를 리턴한다\n",
    "#print(lines)\n",
    "try :\n",
    "    for line in lines:\n",
    "        line2 = line.split(\" \")\n",
    "#        print(line2)\n",
    "        result = int(line2[0])/int(line2[1])\n",
    "        print(str(line2[0])+'/'+str(line2[1])+'='+str(result)) \n",
    "except ZeroDivisionError:\n",
    "    print(\"두번째 숫자가 0입니다\")\n",
    "f.close()"
   ]
  },
  {
   "cell_type": "code",
   "execution_count": 28,
   "metadata": {},
   "outputs": [
    {
     "name": "stdout",
     "output_type": "stream",
     "text": [
      "10/5 = 2\n",
      "9/4 = 2\n",
      "90/10 = 9\n",
      "두번째 숫자가 0입니다\n"
     ]
    }
   ],
   "source": [
    "#선생님 답\n",
    "try:\n",
    "    with open(\"number.txt\") as f:\n",
    "        while True:\n",
    "            line = f.readline()\n",
    "            if not line:\n",
    "                break\n",
    "            x, y = line.split()\n",
    "            x,y = int(x), int(y)\n",
    "            print(\"{}/{} = {}\".format(x,y,x//y))\n",
    "except ZeroDivisionError:\n",
    "    print(\"두번째 숫자가 0입니다\")\n",
    "            "
   ]
  },
  {
   "cell_type": "markdown",
   "metadata": {},
   "source": [
    "#### 문제\n",
    "숫자들의 list를 하나 입력 받아 1보다 크고 100보다 작은 정수들을 다음과 같이 각각 2의 배수, 3의 배수, 5의 배수, 7의 배수를 list에 넣고 출력함(중복하여 넣지 않음)       \n",
    "Enter a list of numbers : [99,2,100,30,-1,0,1,22,35,77,12,20]        \n",
    "Multiplies of 2 : [2,12,2,0,22,30,100]   \n",
    "Multiplies of 3 : [2,12,2,0,22,30,100]        \n",
    "Multiplies of 5 : [2,12,2,0,22,30,100]             \n",
    "Multiplies of 7 : [2,12,2,0,22,30,100]          \n"
   ]
  },
  {
   "cell_type": "code",
   "execution_count": 63,
   "metadata": {},
   "outputs": [
    {
     "name": "stdout",
     "output_type": "stream",
     "text": [
      "([2, 100, 30, 0, 22, 12, 20], [99, 30, 0, 12], [100, 30, 0, 35, 20], [0, 35, 77])\n"
     ]
    }
   ],
   "source": [
    "def multiplies(list):\n",
    "    for number in list:\n",
    "        if type(number) != int or number<1 or number>100:\n",
    "            continue\n",
    "    list2 = [number for number in list if number%2 == 0]\n",
    "    list3 = [number for number in list if number%3 == 0]\n",
    "    list5 = [number for number in list if number%5 == 0]\n",
    "    list7 = [number for number in list if number%7 == 0]\n",
    "    return list2,list3,list5,list7\n",
    "   \n",
    "list =  [99,2,100,30,-1,0,1,22,35,77,12,20]\n",
    "print(multiplies(list))\n",
    "\n",
    "    "
   ]
  },
  {
   "cell_type": "code",
   "execution_count": 59,
   "metadata": {},
   "outputs": [
    {
     "name": "stdout",
     "output_type": "stream",
     "text": [
      "Enter a list of numbers: [2, 100, 30, 0, 22, 12, 20]\n",
      "[2, 100, 30, 22, 12, 20]\n"
     ]
    }
   ],
   "source": [
    "numbers = eval(input('Enter a list of numbers: '))\n",
    "list2=[]\n",
    "list3=[]\n",
    "list7=[]\n",
    "list5=[]\n",
    "for x in numbers:\n",
    "    if type(x) != int or x<1 or x>100:\n",
    "        continue\n",
    "    if x%2 ==0:\n",
    "        list2.append(x)\n",
    "    if x%3 ==0:\n",
    "        list3.append(x)\n",
    "    if x%7 ==0:\n",
    "        list7.append(x)\n",
    "    if x%5 ==0:\n",
    "        list5.append(x)\n",
    "print(list2)"
   ]
  },
  {
   "cell_type": "code",
   "execution_count": 61,
   "metadata": {},
   "outputs": [
    {
     "name": "stdout",
     "output_type": "stream",
     "text": [
      "Enter a list of numbers: [99,2,100,30,-1,0,1,22,35,77,12,20]\n",
      "multiplies of 2 : [2, 100, 30, 22, 12, 20]\n",
      "multiplies of 3 : [99, 30, 12]\n",
      "multiplies of 5 : [100, 30, 35, 20]\n",
      "multiplies of 7 : [35, 77]\n"
     ]
    }
   ],
   "source": [
    "numbers = eval(input('Enter a list of numbers: '))\n",
    "n = (2,3,5,7)\n",
    "d={}\n",
    "for i in n:\n",
    "    d[i] = []\n",
    "for number in numbers:\n",
    "    if type(x) != int or number<1 or number>100:\n",
    "        continue\n",
    "    for i in n:\n",
    "        if number % i ==0:\n",
    "            d[i].append(number)\n",
    "for i in n:\n",
    "    print(\"multiplies of {} : {}\".format(i, d[i]))"
   ]
  },
  {
   "cell_type": "markdown",
   "metadata": {},
   "source": [
    "#### 문제\n",
    "names=['kin', 'kimseung','hwan', 'bumsoo']            \n",
    "이름들의 리스트를 입력 받아 길이 역순으로 정렬된 리스트 반환            \n",
    "정렬된 리스트 반환하는 sort_by_length(names)를 만들어라"
   ]
  },
  {
   "cell_type": "code",
   "execution_count": 69,
   "metadata": {},
   "outputs": [
    {
     "name": "stdout",
     "output_type": "stream",
     "text": [
      "이름 : ['kin', 'kimseung','hwan', 'bumsoo']\n",
      "['kimseung', 'bumsoo', 'hwan', 'kin']\n"
     ]
    }
   ],
   "source": [
    "names = eval(input(\"이름 : \"))\n",
    "list = []\n",
    "for n in names:\n",
    "    list.append((len(n),n))\n",
    "    list.sort(reverse=True)    \n",
    "#print(list)\n",
    "list2=[]\n",
    "for n in list:\n",
    "    list2.append(n[1])\n",
    "\n",
    "        \n",
    "print(list2)"
   ]
  },
  {
   "cell_type": "code",
   "execution_count": 73,
   "metadata": {},
   "outputs": [
    {
     "name": "stdout",
     "output_type": "stream",
     "text": [
      "['kimseung', 'bumsoo', 'hwan', 'kin']\n"
     ]
    }
   ],
   "source": [
    "#강사님 답\n",
    "def sort_by_names(names):\n",
    "    n2=[]\n",
    "    for i in names:\n",
    "        n2.append((len(i), i))\n",
    "        n2.sort(reverse = True)\n",
    "    res=[]\n",
    "    for x in n2:\n",
    "        res.append(x[1])\n",
    "    return res\n",
    "\n",
    "names=['kin', 'kimseung','hwan', 'bumsoo']\n",
    "print(sort_by_names(names))"
   ]
  },
  {
   "cell_type": "code",
   "execution_count": null,
   "metadata": {},
   "outputs": [],
   "source": []
  }
 ],
 "metadata": {
  "kernelspec": {
   "display_name": "Python 3",
   "language": "python",
   "name": "python3"
  },
  "language_info": {
   "codemirror_mode": {
    "name": "ipython",
    "version": 3
   },
   "file_extension": ".py",
   "mimetype": "text/x-python",
   "name": "python",
   "nbconvert_exporter": "python",
   "pygments_lexer": "ipython3",
   "version": "3.6.8"
  }
 },
 "nbformat": 4,
 "nbformat_minor": 2
}
