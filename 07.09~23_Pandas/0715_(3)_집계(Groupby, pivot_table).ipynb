{
 "cells": [
  {
   "cell_type": "code",
   "execution_count": 33,
   "metadata": {
    "ExecuteTime": {
     "end_time": "2019-07-15T08:00:03.082968Z",
     "start_time": "2019-07-15T08:00:03.080099Z"
    }
   },
   "outputs": [],
   "source": [
    "import pandas as pd\n",
    "from pandas import Series, DataFrame"
   ]
  },
  {
   "cell_type": "markdown",
   "metadata": {},
   "source": [
    "<img src=\"img/8강/그룹분석_groupby.jpg\" alt=\"그룹분석_groupby\" style=\"width: 800px;\"/>\n"
   ]
  },
  {
   "cell_type": "code",
   "execution_count": 34,
   "metadata": {
    "ExecuteTime": {
     "end_time": "2019-07-15T08:00:03.368168Z",
     "start_time": "2019-07-15T08:00:03.343560Z"
    }
   },
   "outputs": [
    {
     "data": {
      "text/html": [
       "<div>\n",
       "<style scoped>\n",
       "    .dataframe tbody tr th:only-of-type {\n",
       "        vertical-align: middle;\n",
       "    }\n",
       "\n",
       "    .dataframe tbody tr th {\n",
       "        vertical-align: top;\n",
       "    }\n",
       "\n",
       "    .dataframe thead th {\n",
       "        text-align: right;\n",
       "    }\n",
       "</style>\n",
       "<table border=\"1\" class=\"dataframe\">\n",
       "  <thead>\n",
       "    <tr style=\"text-align: right;\">\n",
       "      <th></th>\n",
       "      <th>도시</th>\n",
       "      <th>자치구</th>\n",
       "      <th>연도</th>\n",
       "      <th>남자인구</th>\n",
       "      <th>여자인구</th>\n",
       "      <th>총인구</th>\n",
       "    </tr>\n",
       "  </thead>\n",
       "  <tbody>\n",
       "    <tr>\n",
       "      <th>0</th>\n",
       "      <td>서울</td>\n",
       "      <td>강남구</td>\n",
       "      <td>2013</td>\n",
       "      <td>73</td>\n",
       "      <td>92</td>\n",
       "      <td>165</td>\n",
       "    </tr>\n",
       "    <tr>\n",
       "      <th>1</th>\n",
       "      <td>서울</td>\n",
       "      <td>강남구</td>\n",
       "      <td>2014</td>\n",
       "      <td>139</td>\n",
       "      <td>55</td>\n",
       "      <td>194</td>\n",
       "    </tr>\n",
       "    <tr>\n",
       "      <th>2</th>\n",
       "      <td>서울</td>\n",
       "      <td>강남구</td>\n",
       "      <td>2015</td>\n",
       "      <td>123</td>\n",
       "      <td>83</td>\n",
       "      <td>206</td>\n",
       "    </tr>\n",
       "    <tr>\n",
       "      <th>3</th>\n",
       "      <td>서울</td>\n",
       "      <td>강남구</td>\n",
       "      <td>2016</td>\n",
       "      <td>147</td>\n",
       "      <td>150</td>\n",
       "      <td>297</td>\n",
       "    </tr>\n",
       "    <tr>\n",
       "      <th>4</th>\n",
       "      <td>서울</td>\n",
       "      <td>강남구</td>\n",
       "      <td>2017</td>\n",
       "      <td>57</td>\n",
       "      <td>133</td>\n",
       "      <td>190</td>\n",
       "    </tr>\n",
       "  </tbody>\n",
       "</table>\n",
       "</div>"
      ],
      "text/plain": [
       "   도시  자치구    연도  남자인구  여자인구  총인구\n",
       "0  서울  강남구  2013    73    92  165\n",
       "1  서울  강남구  2014   139    55  194\n",
       "2  서울  강남구  2015   123    83  206\n",
       "3  서울  강남구  2016   147   150  297\n",
       "4  서울  강남구  2017    57   133  190"
      ]
     },
     "execution_count": 34,
     "metadata": {},
     "output_type": "execute_result"
    }
   ],
   "source": [
    "# 실습 데이터 적재\n",
    "data = pd.read_excel('data/인구수예제.xlsx')\n",
    "data.head()"
   ]
  },
  {
   "cell_type": "code",
   "execution_count": 35,
   "metadata": {
    "ExecuteTime": {
     "end_time": "2019-07-15T08:00:03.489160Z",
     "start_time": "2019-07-15T08:00:03.481097Z"
    },
    "scrolled": false
   },
   "outputs": [
    {
     "data": {
      "text/plain": [
       "연도\n",
       "2013    2130\n",
       "2014    2256\n",
       "2015    1848\n",
       "2016    2045\n",
       "2017    2128\n",
       "Name: 총인구, dtype: int64"
      ]
     },
     "execution_count": 35,
     "metadata": {},
     "output_type": "execute_result"
    }
   ],
   "source": [
    "# groupby() 실습\n",
    "# 연도별 전체의 총인구수 구하기\n",
    "# SELECT 연도, sum(총인구)\n",
    "# FROM data\n",
    "# GROUP BY 연도\n",
    "data.groupby('연도')['총인구'].sum()"
   ]
  },
  {
   "cell_type": "code",
   "execution_count": 36,
   "metadata": {
    "ExecuteTime": {
     "end_time": "2019-07-15T08:00:03.646561Z",
     "start_time": "2019-07-15T08:00:03.633095Z"
    }
   },
   "outputs": [
    {
     "data": {
      "text/html": [
       "<div>\n",
       "<style scoped>\n",
       "    .dataframe tbody tr th:only-of-type {\n",
       "        vertical-align: middle;\n",
       "    }\n",
       "\n",
       "    .dataframe tbody tr th {\n",
       "        vertical-align: top;\n",
       "    }\n",
       "\n",
       "    .dataframe thead th {\n",
       "        text-align: right;\n",
       "    }\n",
       "</style>\n",
       "<table border=\"1\" class=\"dataframe\">\n",
       "  <thead>\n",
       "    <tr style=\"text-align: right;\">\n",
       "      <th></th>\n",
       "      <th>남자인구</th>\n",
       "      <th>여자인구</th>\n",
       "      <th>총인구</th>\n",
       "    </tr>\n",
       "    <tr>\n",
       "      <th>연도</th>\n",
       "      <th></th>\n",
       "      <th></th>\n",
       "      <th></th>\n",
       "    </tr>\n",
       "  </thead>\n",
       "  <tbody>\n",
       "    <tr>\n",
       "      <th>2013</th>\n",
       "      <td>1099</td>\n",
       "      <td>1031</td>\n",
       "      <td>2130</td>\n",
       "    </tr>\n",
       "    <tr>\n",
       "      <th>2014</th>\n",
       "      <td>1196</td>\n",
       "      <td>1060</td>\n",
       "      <td>2256</td>\n",
       "    </tr>\n",
       "    <tr>\n",
       "      <th>2015</th>\n",
       "      <td>872</td>\n",
       "      <td>976</td>\n",
       "      <td>1848</td>\n",
       "    </tr>\n",
       "    <tr>\n",
       "      <th>2016</th>\n",
       "      <td>947</td>\n",
       "      <td>1098</td>\n",
       "      <td>2045</td>\n",
       "    </tr>\n",
       "    <tr>\n",
       "      <th>2017</th>\n",
       "      <td>1063</td>\n",
       "      <td>1065</td>\n",
       "      <td>2128</td>\n",
       "    </tr>\n",
       "  </tbody>\n",
       "</table>\n",
       "</div>"
      ],
      "text/plain": [
       "      남자인구  여자인구   총인구\n",
       "연도                    \n",
       "2013  1099  1031  2130\n",
       "2014  1196  1060  2256\n",
       "2015   872   976  1848\n",
       "2016   947  1098  2045\n",
       "2017  1063  1065  2128"
      ]
     },
     "execution_count": 36,
     "metadata": {},
     "output_type": "execute_result"
    }
   ],
   "source": [
    "# 연도별 전체의 남자인구, 여자인구, 총인구 수 구하기\n",
    "data.groupby('연도')[['남자인구','여자인구','총인구']].sum()"
   ]
  },
  {
   "cell_type": "code",
   "execution_count": 37,
   "metadata": {
    "ExecuteTime": {
     "end_time": "2019-07-15T08:00:03.787889Z",
     "start_time": "2019-07-15T08:00:03.778669Z"
    },
    "scrolled": false
   },
   "outputs": [
    {
     "data": {
      "text/plain": [
       "자치구\n",
       "강남구     210.4\n",
       "도봉구     207.0\n",
       "동래구     207.2\n",
       "동작구     207.2\n",
       "서대문구    206.2\n",
       "송파구     194.8\n",
       "수영구     212.2\n",
       "영등포구    238.2\n",
       "종로구     171.2\n",
       "해운대구    227.0\n",
       "Name: 총인구, dtype: float64"
      ]
     },
     "execution_count": 37,
     "metadata": {},
     "output_type": "execute_result"
    }
   ],
   "source": [
    "# 실습 2. 자치구별로 평균 총인구수\n",
    "data.groupby('자치구')['총인구'].mean()"
   ]
  },
  {
   "cell_type": "code",
   "execution_count": 38,
   "metadata": {
    "ExecuteTime": {
     "end_time": "2019-07-15T08:00:03.927767Z",
     "start_time": "2019-07-15T08:00:03.917394Z"
    },
    "scrolled": false
   },
   "outputs": [
    {
     "data": {
      "text/plain": [
       "도시  자치구 \n",
       "부산  동래구     207.2\n",
       "    수영구     212.2\n",
       "    해운대구    227.0\n",
       "서울  강남구     210.4\n",
       "    도봉구     207.0\n",
       "    동작구     207.2\n",
       "    서대문구    206.2\n",
       "    송파구     194.8\n",
       "    영등포구    238.2\n",
       "    종로구     171.2\n",
       "Name: 총인구, dtype: float64"
      ]
     },
     "execution_count": 38,
     "metadata": {},
     "output_type": "execute_result"
    }
   ],
   "source": [
    "# 실습 3. 도시/자치구별 평균 총인구수\n",
    "data.groupby(['도시','자치구'])['총인구'].mean()"
   ]
  },
  {
   "cell_type": "code",
   "execution_count": 39,
   "metadata": {
    "ExecuteTime": {
     "end_time": "2019-07-15T08:00:04.086500Z",
     "start_time": "2019-07-15T08:00:04.064054Z"
    }
   },
   "outputs": [
    {
     "data": {
      "text/html": [
       "<div>\n",
       "<style scoped>\n",
       "    .dataframe tbody tr th:only-of-type {\n",
       "        vertical-align: middle;\n",
       "    }\n",
       "\n",
       "    .dataframe tbody tr th {\n",
       "        vertical-align: top;\n",
       "    }\n",
       "\n",
       "    .dataframe thead th {\n",
       "        text-align: right;\n",
       "    }\n",
       "</style>\n",
       "<table border=\"1\" class=\"dataframe\">\n",
       "  <thead>\n",
       "    <tr style=\"text-align: right;\">\n",
       "      <th>도시</th>\n",
       "      <th>부산</th>\n",
       "      <th>서울</th>\n",
       "    </tr>\n",
       "    <tr>\n",
       "      <th>연도</th>\n",
       "      <th></th>\n",
       "      <th></th>\n",
       "    </tr>\n",
       "  </thead>\n",
       "  <tbody>\n",
       "    <tr>\n",
       "      <th>2013</th>\n",
       "      <td>603</td>\n",
       "      <td>1527</td>\n",
       "    </tr>\n",
       "    <tr>\n",
       "      <th>2014</th>\n",
       "      <td>683</td>\n",
       "      <td>1573</td>\n",
       "    </tr>\n",
       "    <tr>\n",
       "      <th>2015</th>\n",
       "      <td>597</td>\n",
       "      <td>1251</td>\n",
       "    </tr>\n",
       "    <tr>\n",
       "      <th>2016</th>\n",
       "      <td>652</td>\n",
       "      <td>1393</td>\n",
       "    </tr>\n",
       "    <tr>\n",
       "      <th>2017</th>\n",
       "      <td>697</td>\n",
       "      <td>1431</td>\n",
       "    </tr>\n",
       "  </tbody>\n",
       "</table>\n",
       "</div>"
      ],
      "text/plain": [
       "도시     부산    서울\n",
       "연도             \n",
       "2013  603  1527\n",
       "2014  683  1573\n",
       "2015  597  1251\n",
       "2016  652  1393\n",
       "2017  697  1431"
      ]
     },
     "execution_count": 39,
     "metadata": {},
     "output_type": "execute_result"
    }
   ],
   "source": [
    "data.pivot_table(index='연도',columns='도시',aggfunc='sum',values='총인구')"
   ]
  },
  {
   "cell_type": "code",
   "execution_count": 40,
   "metadata": {
    "ExecuteTime": {
     "end_time": "2019-07-15T08:00:04.224818Z",
     "start_time": "2019-07-15T08:00:04.209969Z"
    },
    "scrolled": true
   },
   "outputs": [
    {
     "data": {
      "text/html": [
       "<div>\n",
       "<style scoped>\n",
       "    .dataframe tbody tr th:only-of-type {\n",
       "        vertical-align: middle;\n",
       "    }\n",
       "\n",
       "    .dataframe tbody tr th {\n",
       "        vertical-align: top;\n",
       "    }\n",
       "\n",
       "    .dataframe thead th {\n",
       "        text-align: right;\n",
       "    }\n",
       "</style>\n",
       "<table border=\"1\" class=\"dataframe\">\n",
       "  <thead>\n",
       "    <tr style=\"text-align: right;\">\n",
       "      <th></th>\n",
       "      <th></th>\n",
       "      <th>남자인구</th>\n",
       "      <th>여자인구</th>\n",
       "    </tr>\n",
       "    <tr>\n",
       "      <th>도시</th>\n",
       "      <th>자치구</th>\n",
       "      <th></th>\n",
       "      <th></th>\n",
       "    </tr>\n",
       "  </thead>\n",
       "  <tbody>\n",
       "    <tr>\n",
       "      <th rowspan=\"3\" valign=\"top\">부산</th>\n",
       "      <th>동래구</th>\n",
       "      <td>112.4</td>\n",
       "      <td>94.8</td>\n",
       "    </tr>\n",
       "    <tr>\n",
       "      <th>수영구</th>\n",
       "      <td>100.4</td>\n",
       "      <td>111.8</td>\n",
       "    </tr>\n",
       "    <tr>\n",
       "      <th>해운대구</th>\n",
       "      <td>124.0</td>\n",
       "      <td>103.0</td>\n",
       "    </tr>\n",
       "    <tr>\n",
       "      <th rowspan=\"7\" valign=\"top\">서울</th>\n",
       "      <th>강남구</th>\n",
       "      <td>107.8</td>\n",
       "      <td>102.6</td>\n",
       "    </tr>\n",
       "    <tr>\n",
       "      <th>도봉구</th>\n",
       "      <td>97.0</td>\n",
       "      <td>110.0</td>\n",
       "    </tr>\n",
       "    <tr>\n",
       "      <th>동작구</th>\n",
       "      <td>90.8</td>\n",
       "      <td>116.4</td>\n",
       "    </tr>\n",
       "    <tr>\n",
       "      <th>서대문구</th>\n",
       "      <td>97.6</td>\n",
       "      <td>108.6</td>\n",
       "    </tr>\n",
       "    <tr>\n",
       "      <th>송파구</th>\n",
       "      <td>83.0</td>\n",
       "      <td>111.8</td>\n",
       "    </tr>\n",
       "    <tr>\n",
       "      <th>영등포구</th>\n",
       "      <td>125.8</td>\n",
       "      <td>112.4</td>\n",
       "    </tr>\n",
       "    <tr>\n",
       "      <th>종로구</th>\n",
       "      <td>96.6</td>\n",
       "      <td>74.6</td>\n",
       "    </tr>\n",
       "  </tbody>\n",
       "</table>\n",
       "</div>"
      ],
      "text/plain": [
       "          남자인구   여자인구\n",
       "도시 자치구               \n",
       "부산 동래구   112.4   94.8\n",
       "   수영구   100.4  111.8\n",
       "   해운대구  124.0  103.0\n",
       "서울 강남구   107.8  102.6\n",
       "   도봉구    97.0  110.0\n",
       "   동작구    90.8  116.4\n",
       "   서대문구   97.6  108.6\n",
       "   송파구    83.0  111.8\n",
       "   영등포구  125.8  112.4\n",
       "   종로구    96.6   74.6"
      ]
     },
     "execution_count": 40,
     "metadata": {},
     "output_type": "execute_result"
    }
   ],
   "source": [
    "# 실습 4. 도시/자치구별 평균 남자인구와 여자인구수 구하기\n",
    "data.groupby(['도시','자치구'])['남자인구','여자인구'].mean()"
   ]
  },
  {
   "cell_type": "code",
   "execution_count": 41,
   "metadata": {
    "ExecuteTime": {
     "end_time": "2019-07-15T08:00:04.422297Z",
     "start_time": "2019-07-15T08:00:04.369979Z"
    }
   },
   "outputs": [
    {
     "data": {
      "text/html": [
       "<div>\n",
       "<style scoped>\n",
       "    .dataframe tbody tr th:only-of-type {\n",
       "        vertical-align: middle;\n",
       "    }\n",
       "\n",
       "    .dataframe tbody tr th {\n",
       "        vertical-align: top;\n",
       "    }\n",
       "\n",
       "    .dataframe thead tr th {\n",
       "        text-align: left;\n",
       "    }\n",
       "\n",
       "    .dataframe thead tr:last-of-type th {\n",
       "        text-align: right;\n",
       "    }\n",
       "</style>\n",
       "<table border=\"1\" class=\"dataframe\">\n",
       "  <thead>\n",
       "    <tr>\n",
       "      <th></th>\n",
       "      <th></th>\n",
       "      <th colspan=\"3\" halign=\"left\">남자인구</th>\n",
       "      <th colspan=\"3\" halign=\"left\">여자인구</th>\n",
       "    </tr>\n",
       "    <tr>\n",
       "      <th></th>\n",
       "      <th></th>\n",
       "      <th>count</th>\n",
       "      <th>mean</th>\n",
       "      <th>std</th>\n",
       "      <th>count</th>\n",
       "      <th>mean</th>\n",
       "      <th>std</th>\n",
       "    </tr>\n",
       "    <tr>\n",
       "      <th>도시</th>\n",
       "      <th>자치구</th>\n",
       "      <th></th>\n",
       "      <th></th>\n",
       "      <th></th>\n",
       "      <th></th>\n",
       "      <th></th>\n",
       "      <th></th>\n",
       "    </tr>\n",
       "  </thead>\n",
       "  <tbody>\n",
       "    <tr>\n",
       "      <th rowspan=\"3\" valign=\"top\">부산</th>\n",
       "      <th>동래구</th>\n",
       "      <td>5.0</td>\n",
       "      <td>112.4</td>\n",
       "      <td>38.063105</td>\n",
       "      <td>5.0</td>\n",
       "      <td>94.8</td>\n",
       "      <td>19.447365</td>\n",
       "    </tr>\n",
       "    <tr>\n",
       "      <th>수영구</th>\n",
       "      <td>5.0</td>\n",
       "      <td>100.4</td>\n",
       "      <td>35.669315</td>\n",
       "      <td>5.0</td>\n",
       "      <td>111.8</td>\n",
       "      <td>29.380265</td>\n",
       "    </tr>\n",
       "    <tr>\n",
       "      <th>해운대구</th>\n",
       "      <td>5.0</td>\n",
       "      <td>124.0</td>\n",
       "      <td>17.277153</td>\n",
       "      <td>5.0</td>\n",
       "      <td>103.0</td>\n",
       "      <td>32.634338</td>\n",
       "    </tr>\n",
       "    <tr>\n",
       "      <th rowspan=\"7\" valign=\"top\">서울</th>\n",
       "      <th>강남구</th>\n",
       "      <td>5.0</td>\n",
       "      <td>107.8</td>\n",
       "      <td>40.412869</td>\n",
       "      <td>5.0</td>\n",
       "      <td>102.6</td>\n",
       "      <td>38.513634</td>\n",
       "    </tr>\n",
       "    <tr>\n",
       "      <th>도봉구</th>\n",
       "      <td>5.0</td>\n",
       "      <td>97.0</td>\n",
       "      <td>38.098556</td>\n",
       "      <td>5.0</td>\n",
       "      <td>110.0</td>\n",
       "      <td>39.843444</td>\n",
       "    </tr>\n",
       "    <tr>\n",
       "      <th>동작구</th>\n",
       "      <td>5.0</td>\n",
       "      <td>90.8</td>\n",
       "      <td>18.019434</td>\n",
       "      <td>5.0</td>\n",
       "      <td>116.4</td>\n",
       "      <td>22.029526</td>\n",
       "    </tr>\n",
       "    <tr>\n",
       "      <th>서대문구</th>\n",
       "      <td>5.0</td>\n",
       "      <td>97.6</td>\n",
       "      <td>34.253467</td>\n",
       "      <td>5.0</td>\n",
       "      <td>108.6</td>\n",
       "      <td>26.819769</td>\n",
       "    </tr>\n",
       "    <tr>\n",
       "      <th>송파구</th>\n",
       "      <td>5.0</td>\n",
       "      <td>83.0</td>\n",
       "      <td>24.413111</td>\n",
       "      <td>5.0</td>\n",
       "      <td>111.8</td>\n",
       "      <td>33.033317</td>\n",
       "    </tr>\n",
       "    <tr>\n",
       "      <th>영등포구</th>\n",
       "      <td>5.0</td>\n",
       "      <td>125.8</td>\n",
       "      <td>32.104517</td>\n",
       "      <td>5.0</td>\n",
       "      <td>112.4</td>\n",
       "      <td>24.213633</td>\n",
       "    </tr>\n",
       "    <tr>\n",
       "      <th>종로구</th>\n",
       "      <td>5.0</td>\n",
       "      <td>96.6</td>\n",
       "      <td>27.190072</td>\n",
       "      <td>5.0</td>\n",
       "      <td>74.6</td>\n",
       "      <td>13.649176</td>\n",
       "    </tr>\n",
       "  </tbody>\n",
       "</table>\n",
       "</div>"
      ],
      "text/plain": [
       "         남자인구                    여자인구                  \n",
       "        count   mean        std count   mean        std\n",
       "도시 자치구                                                 \n",
       "부산 동래구    5.0  112.4  38.063105   5.0   94.8  19.447365\n",
       "   수영구    5.0  100.4  35.669315   5.0  111.8  29.380265\n",
       "   해운대구   5.0  124.0  17.277153   5.0  103.0  32.634338\n",
       "서울 강남구    5.0  107.8  40.412869   5.0  102.6  38.513634\n",
       "   도봉구    5.0   97.0  38.098556   5.0  110.0  39.843444\n",
       "   동작구    5.0   90.8  18.019434   5.0  116.4  22.029526\n",
       "   서대문구   5.0   97.6  34.253467   5.0  108.6  26.819769\n",
       "   송파구    5.0   83.0  24.413111   5.0  111.8  33.033317\n",
       "   영등포구   5.0  125.8  32.104517   5.0  112.4  24.213633\n",
       "   종로구    5.0   96.6  27.190072   5.0   74.6  13.649176"
      ]
     },
     "execution_count": 41,
     "metadata": {},
     "output_type": "execute_result"
    }
   ],
   "source": [
    "data.pivot_table(index=['도시','자치구'],\n",
    "                 # columns 는 없어도 상관 없음\n",
    "                 aggfunc=('mean','std','count'),\n",
    "                 values=['남자인구','여자인구'])"
   ]
  },
  {
   "cell_type": "code",
   "execution_count": 42,
   "metadata": {
    "ExecuteTime": {
     "end_time": "2019-07-15T08:00:04.996334Z",
     "start_time": "2019-07-15T08:00:04.985587Z"
    },
    "scrolled": true
   },
   "outputs": [
    {
     "data": {
      "text/plain": [
       "도시  연도  \n",
       "부산  2013     603\n",
       "    2014     683\n",
       "    2015     597\n",
       "    2016     652\n",
       "    2017     697\n",
       "서울  2013    1527\n",
       "    2014    1573\n",
       "    2015    1251\n",
       "    2016    1393\n",
       "    2017    1431\n",
       "Name: 총인구, dtype: int64"
      ]
     },
     "execution_count": 42,
     "metadata": {},
     "output_type": "execute_result"
    }
   ],
   "source": [
    "# 실습 5. 도시별, 연도별로 총인구수 출력\n",
    "data.groupby(['도시','연도'])['총인구'].sum()"
   ]
  },
  {
   "cell_type": "markdown",
   "metadata": {},
   "source": [
    "<img src=\"img/8강/그룹분석_pivottable.jpg\" alt=\"그룹분석_groupby\" style=\"width: 800px;\"/>"
   ]
  },
  {
   "cell_type": "code",
   "execution_count": 47,
   "metadata": {
    "ExecuteTime": {
     "end_time": "2019-07-15T08:00:53.869484Z",
     "start_time": "2019-07-15T08:00:53.844434Z"
    }
   },
   "outputs": [
    {
     "data": {
      "text/html": [
       "<div>\n",
       "<style scoped>\n",
       "    .dataframe tbody tr th:only-of-type {\n",
       "        vertical-align: middle;\n",
       "    }\n",
       "\n",
       "    .dataframe tbody tr th {\n",
       "        vertical-align: top;\n",
       "    }\n",
       "\n",
       "    .dataframe thead th {\n",
       "        text-align: right;\n",
       "    }\n",
       "</style>\n",
       "<table border=\"1\" class=\"dataframe\">\n",
       "  <thead>\n",
       "    <tr style=\"text-align: right;\">\n",
       "      <th></th>\n",
       "      <th></th>\n",
       "      <th>남자인구</th>\n",
       "    </tr>\n",
       "    <tr>\n",
       "      <th>도시</th>\n",
       "      <th>자치구</th>\n",
       "      <th></th>\n",
       "    </tr>\n",
       "  </thead>\n",
       "  <tbody>\n",
       "    <tr>\n",
       "      <th>서울</th>\n",
       "      <th>영등포구</th>\n",
       "      <td>125.8</td>\n",
       "    </tr>\n",
       "    <tr>\n",
       "      <th rowspan=\"2\" valign=\"top\">부산</th>\n",
       "      <th>해운대구</th>\n",
       "      <td>124.0</td>\n",
       "    </tr>\n",
       "    <tr>\n",
       "      <th>동래구</th>\n",
       "      <td>112.4</td>\n",
       "    </tr>\n",
       "    <tr>\n",
       "      <th>서울</th>\n",
       "      <th>강남구</th>\n",
       "      <td>107.8</td>\n",
       "    </tr>\n",
       "    <tr>\n",
       "      <th>부산</th>\n",
       "      <th>수영구</th>\n",
       "      <td>100.4</td>\n",
       "    </tr>\n",
       "  </tbody>\n",
       "</table>\n",
       "</div>"
      ],
      "text/plain": [
       "          남자인구\n",
       "도시 자치구        \n",
       "서울 영등포구  125.8\n",
       "부산 해운대구  124.0\n",
       "   동래구   112.4\n",
       "서울 강남구   107.8\n",
       "부산 수영구   100.4"
      ]
     },
     "execution_count": 47,
     "metadata": {},
     "output_type": "execute_result"
    }
   ],
   "source": [
    "# pivot_table() 실습\n",
    "# 실습. 도시/자치구 별로 남자인구의 평균을 구한 후, 남자인구가 가장 많은 도시/자치구 5개를 출력하시오. \n",
    "data.pivot_table(index=['도시','자치구'],\n",
    "                 aggfunc='mean',\n",
    "                 values='남자인구').sort_values(by='남자인구',\n",
    "                                              ascending=False).head()"
   ]
  },
  {
   "cell_type": "code",
   "execution_count": 51,
   "metadata": {
    "ExecuteTime": {
     "end_time": "2019-07-15T08:07:15.107556Z",
     "start_time": "2019-07-15T08:07:15.085144Z"
    },
    "scrolled": true
   },
   "outputs": [
    {
     "data": {
      "text/html": [
       "<div>\n",
       "<style scoped>\n",
       "    .dataframe tbody tr th:only-of-type {\n",
       "        vertical-align: middle;\n",
       "    }\n",
       "\n",
       "    .dataframe tbody tr th {\n",
       "        vertical-align: top;\n",
       "    }\n",
       "\n",
       "    .dataframe thead th {\n",
       "        text-align: right;\n",
       "    }\n",
       "</style>\n",
       "<table border=\"1\" class=\"dataframe\">\n",
       "  <thead>\n",
       "    <tr style=\"text-align: right;\">\n",
       "      <th></th>\n",
       "      <th></th>\n",
       "      <th>남녀차이</th>\n",
       "    </tr>\n",
       "    <tr>\n",
       "      <th>도시</th>\n",
       "      <th>자치구</th>\n",
       "      <th></th>\n",
       "    </tr>\n",
       "  </thead>\n",
       "  <tbody>\n",
       "    <tr>\n",
       "      <th>서울</th>\n",
       "      <th>송파구</th>\n",
       "      <td>50.8</td>\n",
       "    </tr>\n",
       "    <tr>\n",
       "      <th>부산</th>\n",
       "      <th>수영구</th>\n",
       "      <td>45.8</td>\n",
       "    </tr>\n",
       "    <tr>\n",
       "      <th>서울</th>\n",
       "      <th>강남구</th>\n",
       "      <td>44.4</td>\n",
       "    </tr>\n",
       "  </tbody>\n",
       "</table>\n",
       "</div>"
      ],
      "text/plain": [
       "        남녀차이\n",
       "도시 자치구      \n",
       "서울 송파구  50.8\n",
       "부산 수영구  45.8\n",
       "서울 강남구  44.4"
      ]
     },
     "execution_count": 51,
     "metadata": {},
     "output_type": "execute_result"
    }
   ],
   "source": [
    "# 실습. 남자와 여자인구수 차이의 평균을 구한 후, 가장 많이 차이나는 도시/자치구 3개를 찾으시오. \n",
    "# Hint.abs() = 절대값을 구하는 함수\n",
    "data['남녀차이'] = abs(data['남자인구']-data['여자인구'])\n",
    "data.pivot_table(index=['도시','자치구'],\n",
    "                 aggfunc='mean',\n",
    "                 values='남녀차이').sort_values('남녀차이',\n",
    "                                              ascending=False).head(3)"
   ]
  },
  {
   "cell_type": "markdown",
   "metadata": {},
   "source": [
    "### 참고할만한 사이트\n",
    "[데이터 사이언스 스쿨 - 피봇테이블과 그룹분석](https://datascienceschool.net/view-notebook/76dcd63bba2c4959af15bec41b197e7c/)"
   ]
  }
 ],
 "metadata": {
  "kernelspec": {
   "display_name": "Python 3",
   "language": "python",
   "name": "python3"
  },
  "language_info": {
   "codemirror_mode": {
    "name": "ipython",
    "version": 3
   },
   "file_extension": ".py",
   "mimetype": "text/x-python",
   "name": "python",
   "nbconvert_exporter": "python",
   "pygments_lexer": "ipython3",
   "version": "3.6.8"
  },
  "toc": {
   "base_numbering": 1,
   "nav_menu": {},
   "number_sections": true,
   "sideBar": true,
   "skip_h1_title": false,
   "title_cell": "Table of Contents",
   "title_sidebar": "Contents",
   "toc_cell": false,
   "toc_position": {},
   "toc_section_display": true,
   "toc_window_display": false
  }
 },
 "nbformat": 4,
 "nbformat_minor": 2
}
