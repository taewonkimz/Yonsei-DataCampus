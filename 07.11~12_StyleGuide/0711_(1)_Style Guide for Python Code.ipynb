{
 "cells": [
  {
   "cell_type": "markdown",
   "metadata": {},
   "source": [
    "![kdata](../img/kdata-logo.png)\n",
    "\n",
    "# Style Guide for Python Code\n",
    "\n",
    "Date : 19.07.11"
   ]
  },
  {
   "cell_type": "markdown",
   "metadata": {},
   "source": [
    "## 배우는 이유\n",
    "Worldwide 개발자로 거듭나기 위한\n",
    "1. 이해력\n",
    "2. 친숙함\n",
    "\n",
    "Pythonic Programmer가 되기 위한\n",
    "1. 가독성\n",
    "2. 성능\n",
    "\n",
    "불 완전한 지원, Business case 한계\n",
    "1. 표현식\n",
    "2. Customized case\n",
    "\n",
    "## Standard Guidelines\n",
    "1. 들여쓰기는 공백 4개로 한다.\n",
    "2. 한 줄의 최대 글자는 79자로 한다.\n",
    "3. File encoding은 UTF-8 또는 ASCII\n",
    "4. One Line One Import\n",
    "5. Standard, 3rd Party, Local libraries 순서로 import\n",
    "6. 소괄호, 중괄호, 대괄호 사이에 추가 공백을 입력금지\n",
    "\n",
    "## Autopep8\n",
    "```\n",
    "pip install jupyter_contrib_nbextensions autopep8\n",
    "# conda install -c conda-forge jupyter_contrib_nbextensions\n",
    "jupyter contrib nbextension install\n",
    "jupyter notebook\n",
    "```\n",
    "\n",
    "수많은 PEP8 규칙이 있지만, jupyter notebook의 extension 기능으로 `망치`버튼을 누르면 된다!\n",
    "\n",
    "물론 PEP8은 command line으로도 수정 가능하다!\n",
    "```\n",
    "autopep8 --aggressive --aggressive bad_code.py\n",
    "```\n",
    "\n",
    "\n",
    "## Pylint\n",
    "PEP8 말고 pylint로 설치 후 실행 가능하다.\n",
    "```\n",
    "pip install pylint\n",
    "```\n",
    "위와 같이 설치 후 원하는 파이썬 코드를 `pylint bad_code.py`로 실행한다."
   ]
  },
  {
   "cell_type": "markdown",
   "metadata": {},
   "source": [
    "## 2309번 예제\n",
    "```python\n",
    "def sum(left,right):\n",
    "  return(left+right,left-right) #+/- 사이 뛰면 ㄴ\n",
    "\n",
    "val1=5 # =을 기준으로 띄어쓰기\n",
    "val2= 8\n",
    "print (sum(val1,val2)) # 함수이름 뒤에 띄어쓰기 안됨\n",
    "```"
   ]
  },
  {
   "cell_type": "code",
   "execution_count": 2,
   "metadata": {},
   "outputs": [
    {
     "name": "stdout",
     "output_type": "stream",
     "text": [
      "(13, -3)\n"
     ]
    }
   ],
   "source": [
    "def sum(left, right):\n",
    "    return(left+right, left-right)\n",
    "\n",
    "\n",
    "val1 = 5\n",
    "val2 = 8\n",
    "print(sum(val1, val2))"
   ]
  },
  {
   "cell_type": "markdown",
   "metadata": {},
   "source": [
    "## 예외 사항 PEP8\n",
    "1. 가독성이 떨어지는 경우\n",
    "2. Legacy code의 변경 량이 현저히 많은 경우\n",
    "3. PEP-8 이전에 개발된 code인 경우\n",
    "4. 오래전 Python 버전과 호환성을 유지할 필요가 있을 때"
   ]
  }
 ],
 "metadata": {
  "kernelspec": {
   "display_name": "Python 3",
   "language": "python",
   "name": "python3"
  },
  "language_info": {
   "codemirror_mode": {
    "name": "ipython",
    "version": 3
   },
   "file_extension": ".py",
   "mimetype": "text/x-python",
   "name": "python",
   "nbconvert_exporter": "python",
   "pygments_lexer": "ipython3",
   "version": "3.6.8"
  }
 },
 "nbformat": 4,
 "nbformat_minor": 2
}
