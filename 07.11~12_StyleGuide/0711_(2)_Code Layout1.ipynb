{
 "cells": [
  {
   "cell_type": "markdown",
   "metadata": {},
   "source": [
    "![kdata](../img/kdata-logo.png)\n",
    "\n",
    "Date : 19.07.11\n",
    "\n",
    "# Code Layout1\n",
    "\n",
    "- Indentation\n",
    "- Blank Line\n",
    "- Braces\n",
    "- Functions declaration, call\n",
    "- Operators\n",
    "- Maximum\n",
    "- Empty line\n",
    "- Encoding"
   ]
  },
  {
   "cell_type": "markdown",
   "metadata": {},
   "source": [
    "## 1. Indent – Tab and, Blank\n",
    "정답은 `Space`다! \n",
    "> Tab도 사실 4 Space로\n",
    "\n",
    "Jupyter Notebook에서는 설정되어 있던 것이었음!!"
   ]
  },
  {
   "cell_type": "markdown",
   "metadata": {},
   "source": [
    "## 2. Blank Line\n",
    "\n",
    "### 2-1. Relationship\n",
    "```python\n",
    "def subtract(left, right):\n",
    "    print (left – right)\n",
    "# 위 아래 함수가 연관이 있으면 한줄 띄고    \n",
    "def plus(left, right):\n",
    "    print (left + right)\n",
    "# 위 아래 함수가 연관이 없으면 두줄 띄고 \n",
    "# 위 아래 함수가 연관이 없으면 두줄 띄고\n",
    "def multiply(left, right):\n",
    "    print (left * right)\n",
    "    \n",
    "def divide(left, right):\n",
    "    print (left / right)\n",
    "```\n",
    "\n",
    "### 2-2. Group\n",
    "```python\n",
    "def subtract(left, right):\n",
    "    print (left - right)\n",
    "    \n",
    "def plus(left, right):\n",
    "    print (left + right)\n",
    "    \n",
    "def multiply(left, right):\n",
    "    print (left * right)\n",
    "    \n",
    "    \n",
    "class bread:\n",
    "    pass\n",
    "```"
   ]
  },
  {
   "cell_type": "markdown",
   "metadata": {},
   "source": [
    "## 3. Continuous Braces\n",
    "```python\n",
    "my_list = [\n",
    "    1, 2, 3,\n",
    "    4, 5, 6,\n",
    "]\n",
    "\n",
    "my_list = [\n",
    "    1, 2, 3,\n",
    "    4, 5, 6,\n",
    "    ]\n",
    "```"
   ]
  },
  {
   "cell_type": "code",
   "execution_count": 1,
   "metadata": {},
   "outputs": [],
   "source": [
    "my_list = [\n",
    "    1, 2, 3,\n",
    "    4, 5, 6,\n",
    "]"
   ]
  },
  {
   "cell_type": "markdown",
   "metadata": {},
   "source": [
    "## 4. Function Declaration\n",
    "```python\n",
    "def long_args_func(var_one, var_two,\n",
    "    var_three):\n",
    "    print(var_one)\n",
    "\n",
    "def long_args2_func(var_one, var_two\n",
    "        ,var_three):\n",
    "    print(var_one)\n",
    "    \n",
    "# two extra indent\n",
    "def long_args3_func (\n",
    "        var_one, var_two, var_three):\n",
    "    print(var_one)\n",
    "```"
   ]
  },
  {
   "cell_type": "code",
   "execution_count": 2,
   "metadata": {},
   "outputs": [],
   "source": [
    "def long_args3_func(\n",
    "        var_one, var_two, var_three):\n",
    "    print(var_one)"
   ]
  },
  {
   "cell_type": "markdown",
   "metadata": {},
   "source": [
    "## 5. Function Call\n",
    "```python\n",
    "# 이건 진짜 이상함\n",
    "long_args_func(1, 2,\n",
    "3, 4)\n",
    "\n",
    "# 이건 그나마 비슷해짐\n",
    "long_args_func(1, 2,\n",
    "                  3, 4)\n",
    "\n",
    "# 아래가 표준이다\n",
    "long_args_func(1, 2,\n",
    "               3, 4)\n",
    "```"
   ]
  },
  {
   "cell_type": "markdown",
   "metadata": {},
   "source": [
    "## 6. Operator and, Operand\n",
    "1. 연산자가 흩어집니다.\n",
    "2. 읽는 순서는 Left 로 다시 돌아가서 확인해야 합니다\n",
    "\n",
    "```python\n",
    "# 틀린 예시 : 이해하기 어려운 예시\n",
    "income = 1 +\n",
    "         2 +\n",
    "         (3 - 4) -\n",
    "         5 -\n",
    "         6\n",
    "\n",
    "# 옳은 예시\n",
    "income = 1\n",
    "         + 2\n",
    "         + (3 - 4) # 식 중간에 있는 괄호들은 붙여서!\n",
    "         - 5\n",
    "         - 6\n",
    "```"
   ]
  },
  {
   "cell_type": "markdown",
   "metadata": {},
   "source": [
    "## 예제 풀어보자!   "
   ]
  },
  {
   "cell_type": "code",
   "execution_count": 5,
   "metadata": {},
   "outputs": [
    {
     "data": {
      "text/plain": [
       "2"
      ]
     },
     "execution_count": 5,
     "metadata": {},
     "output_type": "execute_result"
    }
   ],
   "source": [
    "def add_all(var_one, var_two, var_three,\n",
    "            var_four):\n",
    "    income = (var_one\n",
    "              + var_two\n",
    "              + (var_three - var_four))\n",
    "    return income\n",
    "\n",
    "\n",
    "r = add_all(1, 2,\n",
    "            3, 4)\n",
    "r"
   ]
  },
  {
   "cell_type": "markdown",
   "metadata": {},
   "source": [
    "## 7. If – Continuous extra indent\n",
    "```python\n",
    "if (this_is_one_thing\n",
    "        and that_is_another_thing):\n",
    "    long_args_func(1, 2, 3, 4)\n",
    "    \n",
    "if (this_is_one_thing\n",
    "    and that_is_another_thing):\n",
    "    long_args_func(1, 2, 3, 4)\n",
    "    \n",
    "if (this_is_one_thing\n",
    "        and that_is_another_thing):\n",
    "    # Since both conditions are true...이런식으로 조건에 대한 주석을 아래로\n",
    "    long_args_func(1, 2, 3, 4)\n",
    "```"
   ]
  },
  {
   "cell_type": "markdown",
   "metadata": {},
   "source": [
    "## 예제를 풀어보자"
   ]
  },
  {
   "cell_type": "code",
   "execution_count": 8,
   "metadata": {},
   "outputs": [
    {
     "name": "stdout",
     "output_type": "stream",
     "text": [
      "덧셈을 완료했습니다\n"
     ]
    }
   ],
   "source": [
    "if (r > 1\n",
    "        and r < 5): # 여기에 주석을 쓰면 안된다\n",
    "    # 이것은 조건문에 대한 주석입니다\n",
    "    print('덧셈을 완료했습니다')\n",
    "else:\n",
    "    print('이상해요!')"
   ]
  },
  {
   "cell_type": "markdown",
   "metadata": {},
   "source": [
    "## 8. Max number of chars\n",
    "\n",
    "> 80자전까지\n",
    "\n",
    "이건 천공카드로 코딩할 때부터 그래서...\n",
    "\n",
    "```python\n",
    "with open(r'C:\\Windows\\WindowsUpdate.log', 'r') as f1, \\\n",
    "        open(r'C:\\Windows\\setupact.log', 'r') as f2:\n",
    "    pass\n",
    "```"
   ]
  },
  {
   "cell_type": "markdown",
   "metadata": {},
   "source": [
    "## 9. Encoding\n",
    "PEP8 에서는 `UTF-8`로 설정하라고 함\n",
    "![](https://www.cuba-platform.com/sites/default/files/2.PNG)\n",
    "\n",
    "파일 맨 위에 아래와 같은 내용을 적는다\n",
    "```python\n",
    "# -*- coding: utf-8 -*\n",
    "```\n",
    "이렇게 작성하면 이 스크립트를 실행할때 utf-8모드로 동작한다"
   ]
  }
 ],
 "metadata": {
  "kernelspec": {
   "display_name": "Python 3",
   "language": "python",
   "name": "python3"
  },
  "language_info": {
   "codemirror_mode": {
    "name": "ipython",
    "version": 3
   },
   "file_extension": ".py",
   "mimetype": "text/x-python",
   "name": "python",
   "nbconvert_exporter": "python",
   "pygments_lexer": "ipython3",
   "version": "3.6.8"
  }
 },
 "nbformat": 4,
 "nbformat_minor": 2
}
