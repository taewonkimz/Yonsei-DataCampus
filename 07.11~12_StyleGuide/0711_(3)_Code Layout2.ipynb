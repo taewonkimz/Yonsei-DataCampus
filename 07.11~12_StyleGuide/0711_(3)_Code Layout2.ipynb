{
 "cells": [
  {
   "cell_type": "markdown",
   "metadata": {},
   "source": [
    "![kdata](../img/kdata-logo.png)\n",
    "\n",
    "Date : 19.07.11\n",
    "\n",
    "# Code Layout2\n",
    "\n",
    "## 자주 실수하는 유형\n",
    "\n",
    "### 1. String Quotes\n",
    "```python\n",
    "student = 'Cardinal Biggles'\n",
    "student = \"Cardinal Biggles\"\n",
    "```\n",
    "둘이 혼용해서 하지 말자\n",
    "\n",
    "### 2. Assignment\n",
    "```python\n",
    "x             = 1\n",
    "y             = 2\n",
    "long_variable = 3\n",
    "```\n",
    "이렇게 붙일 필요없다!\n",
    "\n",
    "\n",
    "### 3. Binary Operators\n",
    "```python\n",
    "hypot2 = x*x + y*y # 우선순위가 높은건 붙여주자\n",
    "```"
   ]
  },
  {
   "cell_type": "markdown",
   "metadata": {},
   "source": [
    "## import 라이브러리\n",
    "> Standard lib -> Third-party lib -> Private lib 순서로\n",
    "\n",
    "이런건 사람이 꼭 해줘야 한다. 망치로 때린다고 알아서 되는 건 아니다.  \n",
    "물론 이클립스에서는 이걸 해주기도 한다."
   ]
  },
  {
   "cell_type": "code",
   "execution_count": 2,
   "metadata": {},
   "outputs": [],
   "source": [
    "# -*- coding: utf-8 -*-\n",
    "# import sys, os, my_module # 이렇게 한줄에 다 쓰지 말자\n",
    "import sys # standard lib\n",
    "import os # standard lib\n",
    "import numpy as p # third-party lib\n",
    "import my_module # private lib"
   ]
  },
  {
   "cell_type": "markdown",
   "metadata": {},
   "source": [
    "## import Code Layout\n",
    "```python\n",
    "# -*- coding: utf-8 -*-\n",
    "# 1: Module comments\n",
    "\"\"\"This is the example module. This\n",
    "module does stuff.\n",
    "\"\"\"\n",
    "# 1: importing \"__\"\n",
    "from __future__ import barr\n",
    "# 1: Reserved variables\n",
    "__all__ = ['a', 'b', 'c']\n",
    "__version__ = '0.1’\n",
    "# 1: import\n",
    "import os\n",
    "```"
   ]
  },
  {
   "cell_type": "markdown",
   "metadata": {},
   "source": [
    "### 올바르게 배치해보자!\n",
    "```python\n",
    "import numpy as np\n",
    "import my_module\n",
    "__all__     = ['a', \"b\", 'c']\n",
    "__version__ = '0.1'\n",
    "\n",
    "# -*- coding: utf-8 -*-\n",
    "my_age = 25\n",
    "\n",
    "\"\"\"This is the example module. This module does stuff.\"\"\"\n",
    "import os\n",
    "name='string'\n",
    "cnt=\"5\"\n",
    "s_point  = 6,\n",
    "```"
   ]
  },
  {
   "cell_type": "code",
   "execution_count": 5,
   "metadata": {},
   "outputs": [],
   "source": [
    "# -*- coding: utf-8 -*-\n",
    "\n",
    "\"\"\"This is the example module. This module does stuff.\"\"\"\n",
    "\n",
    "__all__ = ['a', \"b\", 'c']\n",
    "__version__ = '0.1'\n",
    "\n",
    "import os  # standard lib\n",
    "import numpy as np  # third-party lib\n",
    "import my_module  # private lib\n",
    "\n",
    "my_age = 25\n",
    "name = 'string'\n",
    "cnt = \"5\"\n",
    "s_point = (6, )"
   ]
  },
  {
   "cell_type": "markdown",
   "metadata": {},
   "source": [
    "## Function 관련\n",
    "### 1. declaration "
   ]
  },
  {
   "cell_type": "code",
   "execution_count": 11,
   "metadata": {},
   "outputs": [
    {
     "data": {
      "text/plain": [
       "'string'"
      ]
     },
     "execution_count": 11,
     "metadata": {},
     "output_type": "execute_result"
    }
   ],
   "source": [
    "def munge(input_: str) -> int:  # -> int가 리턴타입을 주석처럼\n",
    "    # python에서만 ->를 어노테이션으로 씀\n",
    "    return \"string\"\n",
    "\n",
    "\n",
    "munge('dd')"
   ]
  },
  {
   "cell_type": "code",
   "execution_count": 12,
   "metadata": {},
   "outputs": [],
   "source": [
    "def complex(real, imag=0.0): # default param은 붙여주자\n",
    "    return 0"
   ]
  },
  {
   "cell_type": "markdown",
   "metadata": {},
   "source": [
    "### 2. space\n",
    "```python\n",
    "if x == 4 : print(x , y) ; x , y = y , x\n",
    "if x == 4: print(x, y); x, y = y, x # :,; 은 왼쪽은 항상 붙인다\n",
    "```"
   ]
  },
  {
   "cell_type": "markdown",
   "metadata": {},
   "source": [
    "## Braces\n",
    "\n",
    "### Indexing, Slicing\n",
    "```python\n",
    "spam( ham[ 1 ], { eggs: 2 } )\n",
    "spam(ham[1], {eggs: 2})\n",
    "\n",
    "dct ['key'] = lst [index]\n",
    "dct['key'] = lst[index]\n",
    "\n",
    "ham[1: 9] ham[1 :9]\n",
    "ham[1:9]\n",
    "\n",
    "ham[1:9 :3]\n",
    "ham[1:9:]\n",
    "ham[1:9:3] ham[:9:3] ham[1::3]\n",
    "```\n",
    "\n",
    "### Complex Slice \n",
    "```python\n",
    "ham[low + off:up + off]\n",
    "ham[: upper]\n",
    "ham[low:: up]\n",
    "\n",
    "ham[down_fn(x): up_fn(x): step_fn(x)] # 함수 호출시엔 띄어준다\n",
    "ham[:: step_fn(x)]\n",
    "```"
   ]
  },
  {
   "cell_type": "markdown",
   "metadata": {},
   "source": [
    "## Compound statements\n",
    "```python\n",
    "if foo == 'blah': do_blah_thing()\n",
    "do_one(); do_two();\n",
    "\n",
    "for x in [0, 1, 2]: total += x\n",
    "while total < 10: total = delay()\n",
    "```"
   ]
  }
 ],
 "metadata": {
  "kernelspec": {
   "display_name": "Python 3",
   "language": "python",
   "name": "python3"
  },
  "language_info": {
   "codemirror_mode": {
    "name": "ipython",
    "version": 3
   },
   "file_extension": ".py",
   "mimetype": "text/x-python",
   "name": "python",
   "nbconvert_exporter": "python",
   "pygments_lexer": "ipython3",
   "version": "3.6.8"
  }
 },
 "nbformat": 4,
 "nbformat_minor": 2
}
