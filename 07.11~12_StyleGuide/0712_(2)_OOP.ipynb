{
 "cells": [
  {
   "cell_type": "markdown",
   "metadata": {},
   "source": [
    "![kdata](../img/kdata-logo.png)\n",
    "\n",
    "Date : 19.07.11\n",
    "\n",
    "# Object Oriented Programming"
   ]
  },
  {
   "cell_type": "code",
   "execution_count": 3,
   "metadata": {},
   "outputs": [],
   "source": [
    "name = 'puppy'\n",
    "action = 'stop'\n",
    "\n",
    "def go_to(action_):\n",
    "    action = action_\n",
    "\n",
    "go_to('go')\n",
    "\n",
    "# 새로운 이름을 가진 멍멍이가 생긴다면?\n",
    "# 이름 다 바꿔야지 뭐\n",
    "name2 = 'scott'\n",
    "action2 = 'stop'\n",
    "\n",
    "def go_to2(action_):\n",
    "    action = action_\n",
    "\n",
    "go_to2('go')"
   ]
  },
  {
   "cell_type": "code",
   "execution_count": 5,
   "metadata": {},
   "outputs": [],
   "source": [
    "class Dog:\n",
    "    def __init__(self, name):\n",
    "        self.name = name\n",
    "        self.action = 'stop'\n",
    "\n",
    "    def go_to(self, action):\n",
    "        self.action = action\n",
    "\n",
    "\n",
    "d = Dog('my_puppy')\n",
    "d2 = Dog('Scott') # 이렇게 하나 만들면 됨"
   ]
  },
  {
   "cell_type": "markdown",
   "metadata": {},
   "source": [
    "### 도전하세요\n"
   ]
  },
  {
   "cell_type": "code",
   "execution_count": 11,
   "metadata": {},
   "outputs": [
    {
     "name": "stdout",
     "output_type": "stream",
     "text": [
      "<__main__.dog object at 0x10e73f860>\n"
     ]
    }
   ],
   "source": [
    "def dog():\n",
    "    return \"dog()\"\n",
    "\n",
    "\n",
    "class dog:\n",
    "    pass\n",
    "\n",
    "\n",
    "my_puppy = dog()\n",
    "print(my_puppy)"
   ]
  },
  {
   "cell_type": "code",
   "execution_count": 12,
   "metadata": {},
   "outputs": [
    {
     "name": "stdout",
     "output_type": "stream",
     "text": [
      "dog()\n"
     ]
    }
   ],
   "source": [
    "class dog:\n",
    "    pass\n",
    "\n",
    "\n",
    "def dog():\n",
    "    return \"dog()\"\n",
    "\n",
    "\n",
    "my_puppy = dog()\n",
    "print(my_puppy)"
   ]
  },
  {
   "cell_type": "code",
   "execution_count": null,
   "metadata": {},
   "outputs": [],
   "source": []
  }
 ],
 "metadata": {
  "kernelspec": {
   "display_name": "Python 3",
   "language": "python",
   "name": "python3"
  },
  "language_info": {
   "codemirror_mode": {
    "name": "ipython",
    "version": 3
   },
   "file_extension": ".py",
   "mimetype": "text/x-python",
   "name": "python",
   "nbconvert_exporter": "python",
   "pygments_lexer": "ipython3",
   "version": "3.6.8"
  }
 },
 "nbformat": 4,
 "nbformat_minor": 2
}
