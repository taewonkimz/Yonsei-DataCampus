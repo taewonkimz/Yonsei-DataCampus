{
 "cells": [
  {
   "cell_type": "markdown",
   "metadata": {},
   "source": [
    "![kdata](../img/kdata-logo.png)\n",
    "\n",
    "Date : 19.07.11\n",
    "\n",
    "# Pythonic Programming\n",
    "\n",
    "## 1. Comprehension\n",
    "\n",
    "### List\n",
    "```\n",
    "→ [ <expr> for <var> in <iterator> ]\n",
    "→ [ <expr> for <var> in <iterator> if <expr> ]\n",
    "```\n",
    "\n",
    "### Set\n",
    "```\n",
    "→ { <expr> for <var> in <iterator> }\n",
    "→ { <expr> for <var> in <iterator> if <expr> }\n",
    "```\n",
    "\n",
    "### Dict\n",
    "```\n",
    "→ { <expr>:<expr> for <var> in <iterator> }\n",
    "→ { <expr>:<expr> for <var> in <iterator> if <expr> }\n",
    "```\n",
    "\n",
    "### Gen\n",
    "```\n",
    "→ <iterator> = (for <var> in <collections>)\n",
    "→ <iterator> = (for <var> in <collection> if <expression>)\n",
    "```"
   ]
  },
  {
   "cell_type": "markdown",
   "metadata": {},
   "source": [
    "### 도전하세요!!\n",
    "```python\n",
    "txt = \"The quick brown fox jupsover the lazy dog\"\n",
    "\n",
    "# [단어, 단어길이] 구하기\n",
    "print( ? )\n",
    "# → [['THE', 3], ['QUICK', 5], … , ['DOG', 3]]\n",
    "\n",
    "#길이가 3인 경우만 구하기\n",
    "print([ … ])\n",
    "# → [['THE', 3], ['FOX', 3], ['THE', 3], ['DOG', 3]]\n",
    "```"
   ]
  },
  {
   "cell_type": "code",
   "execution_count": 10,
   "metadata": {},
   "outputs": [],
   "source": [
    "txt = \"The quick brown fox jupsover the lazy dog\""
   ]
  },
  {
   "cell_type": "code",
   "execution_count": 11,
   "metadata": {},
   "outputs": [
    {
     "data": {
      "text/plain": [
       "[['THE', 3],\n",
       " ['QUICK', 5],\n",
       " ['BROWN', 5],\n",
       " ['FOX', 3],\n",
       " ['JUPSOVER', 8],\n",
       " ['THE', 3],\n",
       " ['LAZY', 4],\n",
       " ['DOG', 3]]"
      ]
     },
     "execution_count": 11,
     "metadata": {},
     "output_type": "execute_result"
    }
   ],
   "source": [
    "[[w.upper(),len(w)] for w in txt.split(\" \")]"
   ]
  },
  {
   "cell_type": "code",
   "execution_count": 12,
   "metadata": {},
   "outputs": [
    {
     "data": {
      "text/plain": [
       "[['THE', 3], ['FOX', 3], ['THE', 3], ['DOG', 3]]"
      ]
     },
     "execution_count": 12,
     "metadata": {},
     "output_type": "execute_result"
    }
   ],
   "source": [
    "[[w.upper(),len(w)] for w in txt.split(\" \") if len(w)==3]"
   ]
  },
  {
   "cell_type": "markdown",
   "metadata": {},
   "source": [
    "> 구구단 1단 부터 9단까지 모든 결과의 \"집합\"을 구하세요!"
   ]
  },
  {
   "cell_type": "code",
   "execution_count": 14,
   "metadata": {},
   "outputs": [
    {
     "name": "stdout",
     "output_type": "stream",
     "text": [
      "{1, 2, 3, 4, 5, 6, 7, 8, 9, 10, 12, 14, 15, 16, 18, 20, 21, 24, 25, 27, 28, 30, 32, 35, 36, 40, 42, 45, 48, 49, 54, 56, 63, 64, 72, 81} "
     ]
    }
   ],
   "source": [
    "print(set([i*j for i in range(1,10) for j in range(1,10)]),end=' ')"
   ]
  },
  {
   "cell_type": "markdown",
   "metadata": {},
   "source": [
    "```python\n",
    "s_list = [('math', 90), ('history', 80), ('English',\n",
    "95) , ('cs', 100)]\n",
    "print( ? )\n",
    "→ {'math': 90, 'history': 80, 'English': 95, 'cs':\n",
    "100}\n",
    "```"
   ]
  },
  {
   "cell_type": "code",
   "execution_count": 15,
   "metadata": {},
   "outputs": [
    {
     "data": {
      "text/plain": [
       "{'math': 90, 'history': 80, 'English': 95, 'cs': 100}"
      ]
     },
     "execution_count": 15,
     "metadata": {},
     "output_type": "execute_result"
    }
   ],
   "source": [
    "s_list = [('math', 90), ('history', 80),\n",
    "          ('English',95) , ('cs', 100)]\n",
    "\n",
    "{course:score for course,score in s_list}"
   ]
  },
  {
   "cell_type": "code",
   "execution_count": 107,
   "metadata": {},
   "outputs": [
    {
     "data": {
      "text/plain": [
       "<generator object <genexpr> at 0x1132db4c0>"
      ]
     },
     "execution_count": 107,
     "metadata": {},
     "output_type": "execute_result"
    }
   ],
   "source": [
    "mygen = (i*j for i in range(1,10) for j in range(1,10))\n",
    "mygen"
   ]
  },
  {
   "cell_type": "code",
   "execution_count": 108,
   "metadata": {},
   "outputs": [
    {
     "data": {
      "text/plain": [
       "1"
      ]
     },
     "execution_count": 108,
     "metadata": {},
     "output_type": "execute_result"
    }
   ],
   "source": [
    "next(mygen)"
   ]
  },
  {
   "cell_type": "markdown",
   "metadata": {},
   "source": [
    "## 2. enumerate"
   ]
  },
  {
   "cell_type": "code",
   "execution_count": 109,
   "metadata": {},
   "outputs": [
    {
     "data": {
      "text/plain": [
       "<enumerate at 0x1133cd168>"
      ]
     },
     "execution_count": 109,
     "metadata": {},
     "output_type": "execute_result"
    }
   ],
   "source": [
    "enumerate(['Spring', 'Summer', 'Fall', 'Winter'])"
   ]
  },
  {
   "cell_type": "code",
   "execution_count": 113,
   "metadata": {},
   "outputs": [
    {
     "name": "stdout",
     "output_type": "stream",
     "text": [
      "[(0, 'Spring'), (1, 'Summer'), (2, 'Fall'), (3, 'Winter')]\n"
     ]
    }
   ],
   "source": [
    "print([_ for _ in enumerate(['Spring', 'Summer', 'Fall', 'Winter'])])"
   ]
  },
  {
   "cell_type": "markdown",
   "metadata": {},
   "source": [
    "### 도전하세요"
   ]
  },
  {
   "cell_type": "code",
   "execution_count": 110,
   "metadata": {},
   "outputs": [],
   "source": [
    "txt=\"The lack of visibility in the oil industry's long-term future remains a big risk for investors. Rapidly evolving technology and shifting political winds could hasten the arrival of peak oil well before Wall Street's estimates. That could cause serious financial pain.\""
   ]
  },
  {
   "cell_type": "code",
   "execution_count": 118,
   "metadata": {},
   "outputs": [
    {
     "data": {
      "text/plain": [
       "{1: 'The',\n",
       " 2: 'lack',\n",
       " 3: 'of',\n",
       " 4: 'visibility',\n",
       " 5: 'in',\n",
       " 6: 'the',\n",
       " 7: 'oil',\n",
       " 8: \"industry's\",\n",
       " 9: 'long-term',\n",
       " 10: 'future',\n",
       " 11: 'remains',\n",
       " 12: 'a',\n",
       " 13: 'big',\n",
       " 14: 'risk',\n",
       " 15: 'for',\n",
       " 16: 'investors.',\n",
       " 17: 'Rapidly',\n",
       " 18: 'evolving',\n",
       " 19: 'technology',\n",
       " 20: 'and',\n",
       " 21: 'shifting',\n",
       " 22: 'political',\n",
       " 23: 'winds',\n",
       " 24: 'could',\n",
       " 25: 'hasten',\n",
       " 26: 'the',\n",
       " 27: 'arrival',\n",
       " 28: 'of',\n",
       " 29: 'peak',\n",
       " 30: 'oil',\n",
       " 31: 'well',\n",
       " 32: 'before',\n",
       " 33: 'Wall',\n",
       " 34: \"Street's\",\n",
       " 35: 'estimates.',\n",
       " 36: 'That',\n",
       " 37: 'could',\n",
       " 38: 'cause',\n",
       " 39: 'serious',\n",
       " 40: 'financial',\n",
       " 41: 'pain.'}"
      ]
     },
     "execution_count": 118,
     "metadata": {},
     "output_type": "execute_result"
    }
   ],
   "source": [
    "{c+1:w for c,w in enumerate(txt.split(' '))}"
   ]
  },
  {
   "cell_type": "markdown",
   "metadata": {},
   "source": [
    "## 3. zip"
   ]
  },
  {
   "cell_type": "code",
   "execution_count": 119,
   "metadata": {},
   "outputs": [],
   "source": [
    "subs = ['math','history','English','cs']\n",
    "scores = [90, 80, 95, 100]"
   ]
  },
  {
   "cell_type": "code",
   "execution_count": 124,
   "metadata": {},
   "outputs": [
    {
     "name": "stdout",
     "output_type": "stream",
     "text": [
      "{'math': 90, 'history': 80, 'English': 95, 'cs': 100}\n"
     ]
    }
   ],
   "source": [
    "my_score = {sub:score for sub,score in zip(subs,scores)}\n",
    "print(my_score)"
   ]
  },
  {
   "cell_type": "markdown",
   "metadata": {},
   "source": [
    "## 4. lambda\n",
    "```python\n",
    "lambda [params]: [ret]\n",
    "lambda [params]: [ret1] if [condition] else [ret2]\n",
    "```"
   ]
  },
  {
   "cell_type": "code",
   "execution_count": 133,
   "metadata": {
    "scrolled": true
   },
   "outputs": [
    {
     "data": {
      "text/plain": [
       "5"
      ]
     },
     "execution_count": 133,
     "metadata": {},
     "output_type": "execute_result"
    }
   ],
   "source": [
    "f = lambda x,y : x+y\n",
    "f(1,4)"
   ]
  },
  {
   "cell_type": "code",
   "execution_count": 137,
   "metadata": {},
   "outputs": [
    {
     "data": {
      "text/plain": [
       "4"
      ]
     },
     "execution_count": 137,
     "metadata": {},
     "output_type": "execute_result"
    }
   ],
   "source": [
    "g = lambda x : x if x%2 == 0 else x*2\n",
    "g(4)"
   ]
  },
  {
   "cell_type": "markdown",
   "metadata": {},
   "source": [
    "## 5. map\n",
    "각각의 아이템을 순회하면서 함수를 적용함\n",
    "```python\n",
    "map(function, iterable, ...) # 함수, 리스트 같은거\n",
    "```"
   ]
  },
  {
   "cell_type": "code",
   "execution_count": 141,
   "metadata": {},
   "outputs": [
    {
     "data": {
      "text/plain": [
       "[2, 4, 6]"
      ]
     },
     "execution_count": 141,
     "metadata": {},
     "output_type": "execute_result"
    }
   ],
   "source": [
    "list(map(lambda x: x * 2, [1, 2, 3])) # 각각의 아이템을 순회하면서 함수를 적용함"
   ]
  },
  {
   "cell_type": "code",
   "execution_count": 140,
   "metadata": {},
   "outputs": [
    {
     "name": "stdout",
     "output_type": "stream",
     "text": [
      "1 3 4\n"
     ]
    },
    {
     "data": {
      "text/plain": [
       "[1, 3, 4]"
      ]
     },
     "execution_count": 140,
     "metadata": {},
     "output_type": "execute_result"
    }
   ],
   "source": [
    "list(map(int, input().split( )))"
   ]
  },
  {
   "cell_type": "markdown",
   "metadata": {},
   "source": [
    "## 6. reduce\n",
    "```python\n",
    "from functools import reduce\n",
    "functools.reduce(function, iterable[, initializer])\n",
    "```"
   ]
  },
  {
   "cell_type": "code",
   "execution_count": 142,
   "metadata": {},
   "outputs": [
    {
     "data": {
      "text/plain": [
       "6"
      ]
     },
     "execution_count": 142,
     "metadata": {},
     "output_type": "execute_result"
    }
   ],
   "source": [
    "from functools import reduce\n",
    "reduce(lambda x, y: x + y , [1, 2, 3])"
   ]
  },
  {
   "cell_type": "markdown",
   "metadata": {},
   "source": [
    "## 7. pack"
   ]
  },
  {
   "cell_type": "code",
   "execution_count": 162,
   "metadata": {},
   "outputs": [
    {
     "name": "stdout",
     "output_type": "stream",
     "text": [
      "('earth', 'mars', 'venus')\n"
     ]
    }
   ],
   "source": [
    "def pack_t( *param ):\n",
    "    print(param)\n",
    "pack_t( \"earth\", \"mars\", \"venus\" )"
   ]
  },
  {
   "cell_type": "code",
   "execution_count": 163,
   "metadata": {},
   "outputs": [
    {
     "name": "stdout",
     "output_type": "stream",
     "text": [
      "{'first': 'earth', 'second': 'mars'}\n"
     ]
    }
   ],
   "source": [
    "def unpack_d( **param):\n",
    "    print(param)\n",
    "unpack_d( first=\"earth\", second=\"mars\" )"
   ]
  },
  {
   "cell_type": "markdown",
   "metadata": {},
   "source": [
    "## 8. unpacking"
   ]
  },
  {
   "cell_type": "code",
   "execution_count": 164,
   "metadata": {},
   "outputs": [
    {
     "data": {
      "text/plain": [
       "(0, 1, 2, 3, 4)"
      ]
     },
     "execution_count": 164,
     "metadata": {},
     "output_type": "execute_result"
    }
   ],
   "source": [
    "*range(4), 4 "
   ]
  },
  {
   "cell_type": "code",
   "execution_count": 165,
   "metadata": {},
   "outputs": [
    {
     "data": {
      "text/plain": [
       "[0, 1, 2, 3, 4]"
      ]
     },
     "execution_count": 165,
     "metadata": {},
     "output_type": "execute_result"
    }
   ],
   "source": [
    "[*range(4), 4]"
   ]
  },
  {
   "cell_type": "code",
   "execution_count": 166,
   "metadata": {},
   "outputs": [
    {
     "data": {
      "text/plain": [
       "{0, 1, 2, 3, 4}"
      ]
     },
     "execution_count": 166,
     "metadata": {},
     "output_type": "execute_result"
    }
   ],
   "source": [
    "{*range(4), 4}"
   ]
  },
  {
   "cell_type": "code",
   "execution_count": 167,
   "metadata": {},
   "outputs": [
    {
     "data": {
      "text/plain": [
       "{'x': 1, 'y': 2}"
      ]
     },
     "execution_count": 167,
     "metadata": {},
     "output_type": "execute_result"
    }
   ],
   "source": [
    "{'x': 1, **{'y': 2}}"
   ]
  },
  {
   "cell_type": "code",
   "execution_count": 159,
   "metadata": {
    "scrolled": true
   },
   "outputs": [
    {
     "data": {
      "text/plain": [
       "[1, 2, 3]"
      ]
     },
     "execution_count": 159,
     "metadata": {},
     "output_type": "execute_result"
    }
   ],
   "source": [
    "a, *b, c = range(5)\n",
    "b"
   ]
  },
  {
   "cell_type": "code",
   "execution_count": 161,
   "metadata": {
    "scrolled": true
   },
   "outputs": [
    {
     "name": "stdout",
     "output_type": "stream",
     "text": [
      "[2, 3]\n",
      "[5, 6, 7]\n"
     ]
    }
   ],
   "source": [
    "for a, *b in [(1, 2, 3), (4, 5, 6, 7)]:\n",
    "    print(b)"
   ]
  },
  {
   "cell_type": "markdown",
   "metadata": {},
   "source": [
    "## 종합문제"
   ]
  },
  {
   "cell_type": "code",
   "execution_count": 131,
   "metadata": {},
   "outputs": [
    {
     "data": {
      "text/plain": [
       "{'env1': ['Seoul', '5512'],\n",
       " 'env2': ['Busan', '113'],\n",
       " 'env3': ['Incheon', '6112']}"
      ]
     },
     "execution_count": 131,
     "metadata": {},
     "output_type": "execute_result"
    }
   ],
   "source": [
    "loc = ['Seoul', 'Busan', 'Incheon']\n",
    "est = ['5512', '113', '6112']\n",
    "\n",
    "{'env'+str(i[0]):list(i[1]) for i in enumerate(zip(loc,est),start=1)}"
   ]
  },
  {
   "cell_type": "code",
   "execution_count": 148,
   "metadata": {},
   "outputs": [
    {
     "name": "stdout",
     "output_type": "stream",
     "text": [
      "[0.9553282096215784, 0.6120958807346134, 0.056101940962413166, 0.9396765638194012, 0.9235693050720396, 0.6208885623731658, 0.9794875157483586, 0.6425861012692342, 0.2807942081396746, 0.826163223720257]\n"
     ]
    }
   ],
   "source": [
    "import random\n",
    "import time\n",
    "from functools import reduce\n",
    "\n",
    "random.seed((time.time()))\n",
    "est = [random.random() for _ in range(10)]\n",
    "print(est)"
   ]
  },
  {
   "cell_type": "code",
   "execution_count": 156,
   "metadata": {},
   "outputs": [
    {
     "name": "stdout",
     "output_type": "stream",
     "text": [
      "0.9794875157483586\n"
     ]
    }
   ],
   "source": [
    "# print(reduce(max,est))\n",
    "print(reduce(lambda x,y : x if x>y else y, est))"
   ]
  },
  {
   "cell_type": "code",
   "execution_count": 157,
   "metadata": {},
   "outputs": [
    {
     "name": "stdout",
     "output_type": "stream",
     "text": [
      "0.056101940962413166\n"
     ]
    }
   ],
   "source": [
    "print(reduce(lambda x,y : y if x>y else x, est))"
   ]
  }
 ],
 "metadata": {
  "kernelspec": {
   "display_name": "Python 3",
   "language": "python",
   "name": "python3"
  },
  "language_info": {
   "codemirror_mode": {
    "name": "ipython",
    "version": 3
   },
   "file_extension": ".py",
   "mimetype": "text/x-python",
   "name": "python",
   "nbconvert_exporter": "python",
   "pygments_lexer": "ipython3",
   "version": "3.6.8"
  }
 },
 "nbformat": 4,
 "nbformat_minor": 2
}
