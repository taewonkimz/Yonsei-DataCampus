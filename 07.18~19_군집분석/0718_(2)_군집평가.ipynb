{
 "cells": [
  {
   "cell_type": "markdown",
   "metadata": {},
   "source": [
    "# 실습2 군집평가\n",
    "\n",
    "## 필요한 라이브러리 준비"
   ]
  },
  {
   "cell_type": "code",
   "execution_count": 42,
   "metadata": {
    "ExecuteTime": {
     "end_time": "2019-07-18T06:33:13.755972Z",
     "start_time": "2019-07-18T06:33:13.751277Z"
    }
   },
   "outputs": [],
   "source": [
    "from __future__ import print_function\n",
    "from sklearn.datasets import make_blobs\n",
    "from sklearn.cluster import KMeans\n",
    "from sklearn.metrics import silhouette_samples, silhouette_score\n",
    "from pandas import DataFrame\n",
    "from scipy.stats import entropy\n",
    "from math import log, e\n",
    "import matplotlib.pyplot as plt\n",
    "import matplotlib.cm as cm\n",
    "import numpy as np\n",
    "import pandas as pd\n",
    "import math\n",
    "import timeit"
   ]
  },
  {
   "cell_type": "markdown",
   "metadata": {},
   "source": [
    "## 필요한 데이터 준비"
   ]
  },
  {
   "cell_type": "code",
   "execution_count": 43,
   "metadata": {
    "ExecuteTime": {
     "end_time": "2019-07-18T06:33:14.200552Z",
     "start_time": "2019-07-18T06:33:14.070343Z"
    }
   },
   "outputs": [
    {
     "data": {
      "image/png": "[encoded data removed]",
      "text/plain": [
       "<Figure size 432x288 with 1 Axes>"
      ]
     },
     "metadata": {
      "needs_background": "light"
     },
     "output_type": "display_data"
    }
   ],
   "source": [
    "X = np.array([[2, 0], [3, 0], [4, 0],\n",
    "              [10, 0], [11, 0], [12, 0],\n",
    "              [20, 0], [25, 0], [30, 0]])\n",
    "plt.scatter(X[:, 0], X[:, 1], s=100)\n",
    "plt.show()"
   ]
  },
  {
   "cell_type": "markdown",
   "metadata": {},
   "source": [
    "## 군집평가\n",
    "\n",
    "### 모델 준비"
   ]
  },
  {
   "cell_type": "code",
   "execution_count": 44,
   "metadata": {
    "ExecuteTime": {
     "end_time": "2019-07-18T06:33:14.332331Z",
     "start_time": "2019-07-18T06:33:14.323903Z"
    }
   },
   "outputs": [
    {
     "data": {
      "text/plain": [
       "(array([2.5, 0. ]), array([16.,  0.]))"
      ]
     },
     "execution_count": 44,
     "metadata": {},
     "output_type": "execute_result"
    }
   ],
   "source": [
    "model1 = KMeans(n_clusters=2, init=np.array([[3,0],[4,0]]), n_init=1,\n",
    "               max_iter=1, random_state=1).fit(X)\n",
    "c0, c1 = model1.cluster_centers_\n",
    "c0, c1"
   ]
  },
  {
   "cell_type": "markdown",
   "metadata": {},
   "source": [
    "### SSE 측정"
   ]
  },
  {
   "cell_type": "code",
   "execution_count": 45,
   "metadata": {
    "ExecuteTime": {
     "end_time": "2019-07-18T06:33:14.600609Z",
     "start_time": "2019-07-18T06:33:14.595398Z"
    }
   },
   "outputs": [
    {
     "data": {
      "text/plain": [
       "-372.75"
      ]
     },
     "execution_count": 45,
     "metadata": {},
     "output_type": "execute_result"
    }
   ],
   "source": [
    "model1.score(X)"
   ]
  },
  {
   "cell_type": "code",
   "execution_count": 46,
   "metadata": {
    "ExecuteTime": {
     "end_time": "2019-07-18T06:33:14.747974Z",
     "start_time": "2019-07-18T06:33:14.743531Z"
    }
   },
   "outputs": [
    {
     "data": {
      "text/plain": [
       "array([0, 0, 0, 1, 1, 1, 1, 1, 1], dtype=int32)"
      ]
     },
     "execution_count": 46,
     "metadata": {},
     "output_type": "execute_result"
    }
   ],
   "source": [
    "model1.labels_"
   ]
  },
  {
   "cell_type": "code",
   "execution_count": 47,
   "metadata": {
    "ExecuteTime": {
     "end_time": "2019-07-18T06:33:14.883921Z",
     "start_time": "2019-07-18T06:33:14.879242Z"
    }
   },
   "outputs": [
    {
     "data": {
      "text/plain": [
       "array([[2, 0],\n",
       "       [2, 0],\n",
       "       [2, 0],\n",
       "       [3, 0],\n",
       "       [3, 0],\n",
       "       [3, 0],\n",
       "       [3, 0],\n",
       "       [3, 0],\n",
       "       [3, 0]])"
      ]
     },
     "execution_count": 47,
     "metadata": {},
     "output_type": "execute_result"
    }
   ],
   "source": [
    "X[model1.labels_]"
   ]
  },
  {
   "cell_type": "code",
   "execution_count": 48,
   "metadata": {
    "ExecuteTime": {
     "end_time": "2019-07-18T06:33:15.015415Z",
     "start_time": "2019-07-18T06:33:15.011253Z"
    }
   },
   "outputs": [
    {
     "data": {
      "text/plain": [
       "array([2, 2, 2, 3, 3, 3, 3, 3, 3])"
      ]
     },
     "execution_count": 48,
     "metadata": {},
     "output_type": "execute_result"
    }
   ],
   "source": [
    "X[model1.labels_,0]"
   ]
  },
  {
   "cell_type": "code",
   "execution_count": 61,
   "metadata": {
    "ExecuteTime": {
     "end_time": "2019-07-18T06:35:09.538830Z",
     "start_time": "2019-07-18T06:35:09.532989Z"
    }
   },
   "outputs": [
    {
     "data": {
      "text/plain": [
       "array([ True,  True,  True, False, False, False, False, False, False])"
      ]
     },
     "execution_count": 61,
     "metadata": {},
     "output_type": "execute_result"
    }
   ],
   "source": [
    "model1.labels_==0"
   ]
  },
  {
   "cell_type": "code",
   "execution_count": 62,
   "metadata": {
    "ExecuteTime": {
     "end_time": "2019-07-18T06:35:09.748484Z",
     "start_time": "2019-07-18T06:35:09.743524Z"
    },
    "scrolled": true
   },
   "outputs": [
    {
     "data": {
      "text/plain": [
       "array([[2, 0],\n",
       "       [3, 0],\n",
       "       [4, 0]])"
      ]
     },
     "execution_count": 62,
     "metadata": {},
     "output_type": "execute_result"
    }
   ],
   "source": [
    "X[model1.labels_==0]"
   ]
  },
  {
   "cell_type": "code",
   "execution_count": 50,
   "metadata": {
    "ExecuteTime": {
     "end_time": "2019-07-18T06:33:16.249193Z",
     "start_time": "2019-07-18T06:33:16.242083Z"
    }
   },
   "outputs": [
    {
     "data": {
      "text/plain": [
       "(13.0, 3.0, 3, 3.0)"
      ]
     },
     "execution_count": 50,
     "metadata": {},
     "output_type": "execute_result"
    }
   ],
   "source": [
    "np.mean(X[:, 0]),\\\n",
    "np.mean(X[model1.labels_ == 0, 0]),\\\n",
    "np.count_nonzero(X[model1.labels_,0]== 2),\\\n",
    "np.mean(X[model1.labels_==0,0])"
   ]
  },
  {
   "cell_type": "code",
   "execution_count": 51,
   "metadata": {
    "ExecuteTime": {
     "end_time": "2019-07-18T06:33:16.443755Z",
     "start_time": "2019-07-18T06:33:16.435794Z"
    }
   },
   "outputs": [
    {
     "data": {
      "text/plain": [
       "(13.0, 18.0, 6, 18.0)"
      ]
     },
     "execution_count": 51,
     "metadata": {},
     "output_type": "execute_result"
    }
   ],
   "source": [
    "np.mean(X[:, 0]),\\\n",
    "np.mean(X[model1.labels_ == 1, 0]),\\\n",
    "np.count_nonzero(X[model1.labels_,0]== 3),\\\n",
    "np.mean(X[model1.labels_==1,0])"
   ]
  },
  {
   "cell_type": "markdown",
   "metadata": {},
   "source": [
    "### Cohesion 측정"
   ]
  },
  {
   "cell_type": "code",
   "execution_count": 52,
   "metadata": {
    "ExecuteTime": {
     "end_time": "2019-07-18T06:33:18.704365Z",
     "start_time": "2019-07-18T06:33:18.698446Z"
    }
   },
   "outputs": [],
   "source": [
    "def k_cohesion(model1, c0, c1):\n",
    "    total_mean=np.mean(X[:,0])\n",
    "    m1=np.mean(X[model1.labels_==0,0])\n",
    "    m2=np.mean(X[model1.labels_==1,0])\n",
    "    count1=np.count_nonzero(X[model1.labels_,0]== 2)\n",
    "    count2=np.count_nonzero(X[model1.labels_,0]== 3)\n",
    "    separation=count1*(total_mean-m1)**2+count2*(m2-total_mean)**2\n",
    "    print(separation)"
   ]
  },
  {
   "cell_type": "code",
   "execution_count": 53,
   "metadata": {
    "ExecuteTime": {
     "end_time": "2019-07-18T06:33:18.857635Z",
     "start_time": "2019-07-18T06:33:18.853986Z"
    },
    "scrolled": true
   },
   "outputs": [
    {
     "name": "stdout",
     "output_type": "stream",
     "text": [
      "450.0\n"
     ]
    }
   ],
   "source": [
    "k_cohesion(model1,c0,c1)"
   ]
  },
  {
   "cell_type": "code",
   "execution_count": 54,
   "metadata": {
    "ExecuteTime": {
     "end_time": "2019-07-18T06:33:18.999952Z",
     "start_time": "2019-07-18T06:33:18.995159Z"
    }
   },
   "outputs": [
    {
     "data": {
      "text/plain": [
       "9"
      ]
     },
     "execution_count": 54,
     "metadata": {},
     "output_type": "execute_result"
    }
   ],
   "source": [
    "list1=[]\n",
    "list1.clear()\n",
    "np.count_nonzero(X)"
   ]
  },
  {
   "cell_type": "code",
   "execution_count": 55,
   "metadata": {
    "ExecuteTime": {
     "end_time": "2019-07-18T06:33:19.133175Z",
     "start_time": "2019-07-18T06:33:19.129378Z"
    }
   },
   "outputs": [
    {
     "data": {
      "text/plain": [
       "array([0, 0, 0, 1, 1, 1, 1, 1, 1], dtype=int32)"
      ]
     },
     "execution_count": 55,
     "metadata": {},
     "output_type": "execute_result"
    }
   ],
   "source": [
    "model1.labels_"
   ]
  },
  {
   "cell_type": "code",
   "execution_count": 56,
   "metadata": {
    "ExecuteTime": {
     "end_time": "2019-07-18T06:33:19.250511Z",
     "start_time": "2019-07-18T06:33:19.246172Z"
    }
   },
   "outputs": [],
   "source": [
    "def s_matrix(model1):\n",
    "    for i in range(0,np.count_nonzero(X)):\n",
    "        list1.append([])\n",
    "        for j in range(0,np.count_nonzero(X)):\n",
    "            if model1.labels_[i]==model1.labels_[j]: # 여기가 핵심\n",
    "                list1[i].append(1)\n",
    "            else :\n",
    "                list1[i].append(0)"
   ]
  },
  {
   "cell_type": "markdown",
   "metadata": {},
   "source": [
    "### 유사성 매트릭스 평가"
   ]
  },
  {
   "cell_type": "code",
   "execution_count": 57,
   "metadata": {
    "ExecuteTime": {
     "end_time": "2019-07-18T06:33:20.728470Z",
     "start_time": "2019-07-18T06:33:20.722069Z"
    }
   },
   "outputs": [
    {
     "data": {
      "text/plain": [
       "[[1, 1, 1, 0, 0, 0, 0, 0, 0],\n",
       " [1, 1, 1, 0, 0, 0, 0, 0, 0],\n",
       " [1, 1, 1, 0, 0, 0, 0, 0, 0],\n",
       " [0, 0, 0, 1, 1, 1, 1, 1, 1],\n",
       " [0, 0, 0, 1, 1, 1, 1, 1, 1],\n",
       " [0, 0, 0, 1, 1, 1, 1, 1, 1],\n",
       " [0, 0, 0, 1, 1, 1, 1, 1, 1],\n",
       " [0, 0, 0, 1, 1, 1, 1, 1, 1],\n",
       " [0, 0, 0, 1, 1, 1, 1, 1, 1]]"
      ]
     },
     "execution_count": 57,
     "metadata": {},
     "output_type": "execute_result"
    }
   ],
   "source": [
    "s_matrix(model1)\n",
    "list1"
   ]
  },
  {
   "cell_type": "code",
   "execution_count": 58,
   "metadata": {
    "ExecuteTime": {
     "end_time": "2019-07-18T06:33:20.887380Z",
     "start_time": "2019-07-18T06:33:20.882500Z"
    }
   },
   "outputs": [],
   "source": [
    "def entropy(labels):\n",
    "    \"\"\" Computes entropy of 0-1 vector. \"\"\"\n",
    "    n_labels = len(labels)\n",
    "\n",
    "    if n_labels <= 1:\n",
    "        return 0\n",
    "\n",
    "    counts = np.bincount(labels)\n",
    "    probs = counts[np.nonzero(counts)] / n_labels\n",
    "    n_classes = len(probs)\n",
    "\n",
    "    if n_classes <= 1:\n",
    "        return 0\n",
    "    return - np.sum(probs * np.log(probs)) / np.log(n_classes)"
   ]
  },
  {
   "cell_type": "code",
   "execution_count": 59,
   "metadata": {
    "ExecuteTime": {
     "end_time": "2019-07-18T06:33:21.012632Z",
     "start_time": "2019-07-18T06:33:21.006221Z"
    }
   },
   "outputs": [
    {
     "data": {
      "text/plain": [
       "0.9182958340544894"
      ]
     },
     "execution_count": 59,
     "metadata": {},
     "output_type": "execute_result"
    }
   ],
   "source": [
    "entropy(model1.labels_)"
   ]
  }
 ],
 "metadata": {
  "kernelspec": {
   "display_name": "Python 3",
   "language": "python",
   "name": "python3"
  },
  "language_info": {
   "codemirror_mode": {
    "name": "ipython",
    "version": 3
   },
   "file_extension": ".py",
   "mimetype": "text/x-python",
   "name": "python",
   "nbconvert_exporter": "python",
   "pygments_lexer": "ipython3",
   "version": "3.6.8"
  },
  "toc": {
   "base_numbering": 1,
   "nav_menu": {},
   "number_sections": true,
   "sideBar": true,
   "skip_h1_title": true,
   "title_cell": "Table of Contents",
   "title_sidebar": "Contents",
   "toc_cell": false,
   "toc_position": {},
   "toc_section_display": true,
   "toc_window_display": false
  }
 },
 "nbformat": 4,
 "nbformat_minor": 2
}
