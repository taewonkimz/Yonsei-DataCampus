{
 "cells": [
  {
   "cell_type": "markdown",
   "metadata": {},
   "source": [
    "# 실습3 군집평가"
   ]
  },
  {
   "cell_type": "markdown",
   "metadata": {},
   "source": [
    "## 필요한 라이브러리 준비"
   ]
  },
  {
   "cell_type": "code",
   "execution_count": 1,
   "metadata": {
    "ExecuteTime": {
     "end_time": "2019-07-18T07:44:01.578001Z",
     "start_time": "2019-07-18T07:43:58.687222Z"
    }
   },
   "outputs": [],
   "source": [
    "from __future__ import print_function\n",
    "from sklearn.datasets import make_blobs\n",
    "from sklearn.cluster import KMeans\n",
    "from sklearn.metrics import silhouette_samples, silhouette_score\n",
    "from pandas import DataFrame\n",
    "from scipy.stats import entropy\n",
    "from math import log, e\n",
    "import matplotlib.pyplot as plt\n",
    "import matplotlib.cm as cm\n",
    "import numpy as np\n",
    "import pandas as pd\n",
    "import math\n",
    "import timeit"
   ]
  },
  {
   "cell_type": "markdown",
   "metadata": {},
   "source": [
    "## 필요한 데이터 준비"
   ]
  },
  {
   "cell_type": "code",
   "execution_count": 2,
   "metadata": {
    "ExecuteTime": {
     "end_time": "2019-07-18T07:44:01.725423Z",
     "start_time": "2019-07-18T07:44:01.580058Z"
    }
   },
   "outputs": [
    {
     "data": {
      "image/png": "[encoded data removed]",
      "text/plain": [
       "<Figure size 432x288 with 1 Axes>"
      ]
     },
     "metadata": {
      "needs_background": "light"
     },
     "output_type": "display_data"
    }
   ],
   "source": [
    "X = np.array([[2, 0], [3, 0], [4, 0], [10, 0], [11, 0], [12, 0],\n",
    "              [20, 0], [25, 0], [30, 0]])\n",
    "plt.scatter(X[:, 0], X[:, 1], s=100)\n",
    "plt.show()"
   ]
  },
  {
   "cell_type": "markdown",
   "metadata": {},
   "source": [
    "## K-means 클러스터링"
   ]
  },
  {
   "cell_type": "code",
   "execution_count": 3,
   "metadata": {
    "ExecuteTime": {
     "end_time": "2019-07-18T07:45:08.929374Z",
     "start_time": "2019-07-18T07:45:08.920772Z"
    }
   },
   "outputs": [
    {
     "data": {
      "text/plain": [
       "(array([2.5, 0. ]), array([16.,  0.]))"
      ]
     },
     "execution_count": 3,
     "metadata": {},
     "output_type": "execute_result"
    }
   ],
   "source": [
    "# 1회차\n",
    "model1 = KMeans(n_clusters=2, init=np.array([[3,0],[4,0]]), n_init=1,\n",
    "               max_iter=1, random_state=1).fit(X)\n",
    "c0, c1 = model1.cluster_centers_\n",
    "c0, c1"
   ]
  },
  {
   "cell_type": "code",
   "execution_count": 4,
   "metadata": {
    "ExecuteTime": {
     "end_time": "2019-07-18T07:45:11.062073Z",
     "start_time": "2019-07-18T07:45:11.052748Z"
    }
   },
   "outputs": [
    {
     "data": {
      "text/plain": [
       "(array([7., 0.]), array([25.,  0.]))"
      ]
     },
     "execution_count": 4,
     "metadata": {},
     "output_type": "execute_result"
    }
   ],
   "source": [
    "# 10회차\n",
    "model10 = KMeans(n_clusters=2, init=np.array([[3,0],[4,0]]), n_init=1,\n",
    "               max_iter=10, random_state=1).fit(X)\n",
    "c0, c1 = model10.cluster_centers_\n",
    "c0, c1"
   ]
  },
  {
   "cell_type": "code",
   "execution_count": 9,
   "metadata": {},
   "outputs": [
    {
     "data": {
      "text/plain": [
       "(-372.75, -150.0)"
      ]
     },
     "execution_count": 9,
     "metadata": {},
     "output_type": "execute_result"
    }
   ],
   "source": [
    "# 1. SSE 측정\n",
    "model1.score(X), model10.score(X)"
   ]
  },
  {
   "cell_type": "code",
   "execution_count": 12,
   "metadata": {},
   "outputs": [
    {
     "data": {
      "text/plain": [
       "array([2, 2, 2, 3, 3, 3, 3, 3, 3])"
      ]
     },
     "execution_count": 12,
     "metadata": {},
     "output_type": "execute_result"
    }
   ],
   "source": [
    "X[model1.labels_,0]"
   ]
  },
  {
   "cell_type": "code",
   "execution_count": 13,
   "metadata": {},
   "outputs": [
    {
     "data": {
      "text/plain": [
       "(13.0, 3.0, 3, 3.0)"
      ]
     },
     "execution_count": 13,
     "metadata": {},
     "output_type": "execute_result"
    }
   ],
   "source": [
    "np.mean(X[:, 0]), np.mean(X[model1.labels_ == 0, 0]), np.count_nonzero(X[model1.labels_,0]== 2), np.mean(X[model1.labels_==0,0])"
   ]
  },
  {
   "cell_type": "code",
   "execution_count": 14,
   "metadata": {},
   "outputs": [
    {
     "data": {
      "text/plain": [
       "(13.0, 18.0, 6, 18.0)"
      ]
     },
     "execution_count": 14,
     "metadata": {},
     "output_type": "execute_result"
    }
   ],
   "source": [
    "np.mean(X[:, 0]), np.mean(X[model1.labels_ == 1, 0]), np.count_nonzero(X[model1.labels_,0]== 3), np.mean(X[model1.labels_==1,0])"
   ]
  },
  {
   "cell_type": "code",
   "execution_count": 16,
   "metadata": {},
   "outputs": [],
   "source": [
    "def k_cohesion(model1, c0, c1):\n",
    "    total_mean=np.mean(X[:,0])\n",
    "    m1=np.mean(X[model1.labels_==0,0])\n",
    "    m2=np.mean(X[model1.labels_==1,0])\n",
    "    count1=np.count_nonzero(X[model1.labels_,0]== 2)\n",
    "    count2=np.count_nonzero(X[model1.labels_,0]== 3)\n",
    "    separation=count1*(total_mean-m1)**2+count2*(m2-total_mean)**2\n",
    "    print(separation)"
   ]
  },
  {
   "cell_type": "code",
   "execution_count": 17,
   "metadata": {},
   "outputs": [
    {
     "name": "stdout",
     "output_type": "stream",
     "text": [
      "450.0\n"
     ]
    }
   ],
   "source": [
    "# 2. Cohesion 측정\n",
    "k_cohesion(model1,c0,c1)"
   ]
  },
  {
   "cell_type": "code",
   "execution_count": 18,
   "metadata": {},
   "outputs": [
    {
     "data": {
      "text/plain": [
       "array([2, 2, 2, 2, 2, 2, 3, 3, 3])"
      ]
     },
     "execution_count": 18,
     "metadata": {},
     "output_type": "execute_result"
    }
   ],
   "source": [
    "X[model10.labels_,0]"
   ]
  },
  {
   "cell_type": "code",
   "execution_count": 19,
   "metadata": {},
   "outputs": [
    {
     "data": {
      "text/plain": [
       "(13.0, 7.0, 6, 7.0)"
      ]
     },
     "execution_count": 19,
     "metadata": {},
     "output_type": "execute_result"
    }
   ],
   "source": [
    "np.mean(X[:, 0]), np.mean(X[model10.labels_ == 0, 0]), np.count_nonzero(X[model10.labels_,0]== 2), np.mean(X[model10.labels_==0,0])"
   ]
  },
  {
   "cell_type": "code",
   "execution_count": 20,
   "metadata": {},
   "outputs": [
    {
     "data": {
      "text/plain": [
       "(13.0, 25.0, 3, 25.0)"
      ]
     },
     "execution_count": 20,
     "metadata": {},
     "output_type": "execute_result"
    }
   ],
   "source": [
    "np.mean(X[:, 0]), np.mean(X[model10.labels_ == 1, 0]), np.count_nonzero(X[model10.labels_,0]== 3), np.mean(X[model10.labels_==1,0])"
   ]
  },
  {
   "cell_type": "code",
   "execution_count": 21,
   "metadata": {},
   "outputs": [
    {
     "name": "stdout",
     "output_type": "stream",
     "text": [
      "648.0\n"
     ]
    }
   ],
   "source": [
    "# 2. Cohesion 측정\n",
    "k_cohesion(model10,c0,c1)"
   ]
  },
  {
   "cell_type": "code",
   "execution_count": 35,
   "metadata": {},
   "outputs": [
    {
     "data": {
      "text/plain": [
       "(array([11.,  0.]), array([25.,  0.]), array([3., 0.]))"
      ]
     },
     "execution_count": 35,
     "metadata": {},
     "output_type": "execute_result"
    }
   ],
   "source": [
    "# 비교군집 10회차 - 3클러스터\n",
    "model3 = KMeans(n_clusters=3, init='random', n_init=100,\n",
    "               max_iter=100, random_state=1).fit(X)\n",
    "c30, c31, c32 = model3.cluster_centers_\n",
    "c30, c31, c32"
   ]
  },
  {
   "cell_type": "code",
   "execution_count": 36,
   "metadata": {},
   "outputs": [
    {
     "data": {
      "text/plain": [
       "9"
      ]
     },
     "execution_count": 36,
     "metadata": {},
     "output_type": "execute_result"
    }
   ],
   "source": [
    "list1=[]\n",
    "list1.clear()\n",
    "np.count_nonzero(X)"
   ]
  },
  {
   "cell_type": "code",
   "execution_count": 40,
   "metadata": {},
   "outputs": [],
   "source": [
    "def s_matrix(model1):\n",
    "    for i in range(0,np.count_nonzero(X)):\n",
    "        list1.append([])\n",
    "        for j in range(0,np.count_nonzero(X)):\n",
    "            if model1.labels_[i]==model1.labels_[j]:\n",
    "                list1[i].append(1)\n",
    "            else :\n",
    "                list1[i].append(0)"
   ]
  },
  {
   "cell_type": "code",
   "execution_count": 41,
   "metadata": {},
   "outputs": [],
   "source": [
    "s_matrix(model1)"
   ]
  },
  {
   "cell_type": "code",
   "execution_count": 42,
   "metadata": {},
   "outputs": [
    {
     "data": {
      "text/plain": [
       "[[1, 1, 1, 0, 0, 0, 0, 0, 0],\n",
       " [1, 1, 1, 0, 0, 0, 0, 0, 0],\n",
       " [1, 1, 1, 0, 0, 0, 0, 0, 0],\n",
       " [0, 0, 0, 1, 1, 1, 1, 1, 1],\n",
       " [0, 0, 0, 1, 1, 1, 1, 1, 1],\n",
       " [0, 0, 0, 1, 1, 1, 1, 1, 1],\n",
       " [0, 0, 0, 1, 1, 1, 1, 1, 1],\n",
       " [0, 0, 0, 1, 1, 1, 1, 1, 1],\n",
       " [0, 0, 0, 1, 1, 1, 1, 1, 1]]"
      ]
     },
     "execution_count": 42,
     "metadata": {},
     "output_type": "execute_result"
    }
   ],
   "source": [
    "#3. 유사성 매트릭스 평가\n",
    "list1"
   ]
  },
  {
   "cell_type": "code",
   "execution_count": 45,
   "metadata": {},
   "outputs": [
    {
     "data": {
      "text/plain": [
       "[[1, 1, 1, 0, 0, 0, 0, 0, 0],\n",
       " [1, 1, 1, 0, 0, 0, 0, 0, 0],\n",
       " [1, 1, 1, 0, 0, 0, 0, 0, 0],\n",
       " [0, 0, 0, 1, 1, 1, 0, 0, 0],\n",
       " [0, 0, 0, 1, 1, 1, 0, 0, 0],\n",
       " [0, 0, 0, 1, 1, 1, 0, 0, 0],\n",
       " [0, 0, 0, 0, 0, 0, 1, 1, 1],\n",
       " [0, 0, 0, 0, 0, 0, 1, 1, 1],\n",
       " [0, 0, 0, 0, 0, 0, 1, 1, 1]]"
      ]
     },
     "execution_count": 45,
     "metadata": {},
     "output_type": "execute_result"
    }
   ],
   "source": [
    "#3. 유사성 매트릭스 평가\n",
    "list1.clear()\n",
    "s_matrix(model3)\n",
    "list1"
   ]
  },
  {
   "cell_type": "code",
   "execution_count": 46,
   "metadata": {},
   "outputs": [],
   "source": [
    "def entropy(labels):\n",
    "    \"\"\" Computes entropy of 0-1 vector. \"\"\"\n",
    "    n_labels = len(labels)\n",
    "\n",
    "    if n_labels <= 1:\n",
    "        return 0\n",
    "\n",
    "    counts = np.bincount(labels)\n",
    "    probs = counts[np.nonzero(counts)] / n_labels\n",
    "    n_classes = len(probs)\n",
    "\n",
    "    if n_classes <= 1:\n",
    "        return 0\n",
    "    return - np.sum(probs * np.log(probs)) / np.log(n_classes)"
   ]
  },
  {
   "cell_type": "code",
   "execution_count": 71,
   "metadata": {},
   "outputs": [
    {
     "data": {
      "text/plain": [
       "(array([3., 0.]), array([18.,  0.]))"
      ]
     },
     "execution_count": 71,
     "metadata": {},
     "output_type": "execute_result"
    }
   ],
   "source": [
    "# 2회차 비교군집\n",
    "model2 = KMeans(n_clusters=2, init=np.array([[3,0],[4,0]]), n_init=1,\n",
    "               max_iter=2, random_state=1).fit(X)\n",
    "c20, c21 = model2.cluster_centers_\n",
    "c20, c21"
   ]
  },
  {
   "cell_type": "code",
   "execution_count": 72,
   "metadata": {},
   "outputs": [],
   "source": [
    "def plot_cluster(model, c0, c1):\n",
    "    plt.scatter(X[model.labels_ == 0, 0],\n",
    "                X[model.labels_ == 0, 1], s=100, marker='v', c='r')\n",
    "    plt.scatter(X[model.labels_ == 1, 0],\n",
    "                X[model.labels_ == 1, 1], s=100, marker='^', c='b')\n",
    "    plt.scatter(c0[0], c0[1], s=200, c=\"r\")\n",
    "    plt.scatter(c1[0], c1[1], s=200, c=\"b\")\n",
    "    plt.show()"
   ]
  },
  {
   "cell_type": "code",
   "execution_count": 73,
   "metadata": {},
   "outputs": [
    {
     "data": {
      "image/png": "[encoded data removed]",
      "text/plain": [
       "<Figure size 432x288 with 1 Axes>"
      ]
     },
     "metadata": {},
     "output_type": "display_data"
    }
   ],
   "source": [
    "plot_cluster(model2, c20, c21)"
   ]
  },
  {
   "cell_type": "code",
   "execution_count": 74,
   "metadata": {},
   "outputs": [
    {
     "data": {
      "text/plain": [
       "0.9182958340544894"
      ]
     },
     "execution_count": 74,
     "metadata": {},
     "output_type": "execute_result"
    }
   ],
   "source": [
    "entropy(model1.labels_)"
   ]
  },
  {
   "cell_type": "code",
   "execution_count": 75,
   "metadata": {},
   "outputs": [
    {
     "data": {
      "text/plain": [
       "0.9910760598382222"
      ]
     },
     "execution_count": 75,
     "metadata": {},
     "output_type": "execute_result"
    }
   ],
   "source": [
    "entropy(model2.labels_)"
   ]
  },
  {
   "cell_type": "code",
   "execution_count": 76,
   "metadata": {},
   "outputs": [
    {
     "data": {
      "text/plain": [
       "0.9999999999999998"
      ]
     },
     "execution_count": 76,
     "metadata": {},
     "output_type": "execute_result"
    }
   ],
   "source": [
    "entropy(model3.labels_)"
   ]
  }
 ],
 "metadata": {
  "kernelspec": {
   "display_name": "Python 3",
   "language": "python",
   "name": "python3"
  },
  "language_info": {
   "codemirror_mode": {
    "name": "ipython",
    "version": 3
   },
   "file_extension": ".py",
   "mimetype": "text/x-python",
   "name": "python",
   "nbconvert_exporter": "python",
   "pygments_lexer": "ipython3",
   "version": "3.6.8"
  },
  "toc": {
   "base_numbering": 1,
   "nav_menu": {},
   "number_sections": true,
   "sideBar": true,
   "skip_h1_title": true,
   "title_cell": "Table of Contents",
   "title_sidebar": "Contents",
   "toc_cell": false,
   "toc_position": {},
   "toc_section_display": true,
   "toc_window_display": true
  }
 },
 "nbformat": 4,
 "nbformat_minor": 2
}
