{
 "cells": [
  {
   "cell_type": "markdown",
   "metadata": {},
   "source": [
    "# 실습3 군집평가"
   ]
  },
  {
   "cell_type": "markdown",
   "metadata": {},
   "source": [
    "## 필요한 라이브러리 준비"
   ]
  },
  {
   "cell_type": "code",
   "execution_count": 9,
   "metadata": {
    "ExecuteTime": {
     "end_time": "2019-07-19T01:07:43.959107Z",
     "start_time": "2019-07-19T01:07:43.935796Z"
    }
   },
   "outputs": [],
   "source": [
    "from __future__ import print_function\n",
    "from sklearn.datasets import make_blobs\n",
    "from sklearn.cluster import KMeans\n",
    "from sklearn.metrics import silhouette_samples, silhouette_score\n",
    "from pandas import DataFrame\n",
    "from scipy.stats import entropy\n",
    "from math import log, e\n",
    "import matplotlib.pyplot as plt\n",
    "import matplotlib.cm as cm\n",
    "import numpy as np\n",
    "import pandas as pd\n",
    "import math\n",
    "import timeit"
   ]
  },
  {
   "cell_type": "markdown",
   "metadata": {},
   "source": [
    "## 필요한 데이터 준비"
   ]
  },
  {
   "cell_type": "code",
   "execution_count": 10,
   "metadata": {
    "ExecuteTime": {
     "end_time": "2019-07-19T01:07:45.542830Z",
     "start_time": "2019-07-19T01:07:45.318769Z"
    }
   },
   "outputs": [
    {
     "data": {
      "image/png": "[encoded data removed]",
      "text/plain": [
       "<Figure size 432x288 with 1 Axes>"
      ]
     },
     "metadata": {
      "needs_background": "light"
     },
     "output_type": "display_data"
    }
   ],
   "source": [
    "X = np.array([[2, 0], [3, 0], [4, 0], [10, 0], [11, 0], [12, 0],\n",
    "              [20, 0], [25, 0], [30, 0]])\n",
    "plt.scatter(X[:, 0], X[:, 1], s=100)\n",
    "plt.show()"
   ]
  },
  {
   "cell_type": "markdown",
   "metadata": {},
   "source": [
    "## K-means 클러스터링"
   ]
  },
  {
   "cell_type": "code",
   "execution_count": 11,
   "metadata": {
    "ExecuteTime": {
     "end_time": "2019-07-19T01:08:11.266008Z",
     "start_time": "2019-07-19T01:08:11.083341Z"
    }
   },
   "outputs": [
    {
     "name": "stdout",
     "output_type": "stream",
     "text": [
      "[[13.  0.]]\n",
      "[[ 7.  0.]\n",
      " [25.  0.]]\n",
      "[[11.  0.]\n",
      " [25.  0.]\n",
      " [ 3.  0.]]\n",
      "[[22.5  0. ]\n",
      " [ 3.   0. ]\n",
      " [11.   0. ]\n",
      " [30.   0. ]]\n",
      "[[25.  0.]\n",
      " [11.  0.]\n",
      " [ 3.  0.]\n",
      " [30.  0.]\n",
      " [20.  0.]]\n",
      "[[ 2.5  0. ]\n",
      " [25.   0. ]\n",
      " [11.   0. ]\n",
      " [20.   0. ]\n",
      " [30.   0. ]\n",
      " [ 4.   0. ]]\n",
      "[[ 4.   0. ]\n",
      " [20.   0. ]\n",
      " [11.5  0. ]\n",
      " [30.   0. ]\n",
      " [25.   0. ]\n",
      " [ 2.5  0. ]\n",
      " [10.   0. ]]\n",
      "[[ 4.   0. ]\n",
      " [25.   0. ]\n",
      " [11.5  0. ]\n",
      " [20.   0. ]\n",
      " [30.   0. ]\n",
      " [ 2.   0. ]\n",
      " [10.   0. ]\n",
      " [ 3.   0. ]]\n",
      "[[ 2.  0.]\n",
      " [25.  0.]\n",
      " [11.  0.]\n",
      " [20.  0.]\n",
      " [30.  0.]\n",
      " [ 4.  0.]\n",
      " [12.  0.]\n",
      " [10.  0.]\n",
      " [ 3.  0.]]\n"
     ]
    },
    {
     "data": {
      "text/plain": [
       "[798.0, 150.0, 54.0, 16.5, 4.0, 2.5, 1.0, 0.5, 0.0]"
      ]
     },
     "execution_count": 11,
     "metadata": {},
     "output_type": "execute_result"
    }
   ],
   "source": [
    "ks = range(1,10)\n",
    "inertias = list()\n",
    "\n",
    "for k in ks:\n",
    "    model = KMeans(n_clusters=k)\n",
    "    model.fit(X)\n",
    "    inertias.append(model.inertia_)\n",
    "\n",
    "inertias # 응집도 모아둔 리스트"
   ]
  },
  {
   "cell_type": "code",
   "execution_count": 8,
   "metadata": {
    "ExecuteTime": {
     "end_time": "2019-07-18T08:13:11.549387Z",
     "start_time": "2019-07-18T08:13:11.405986Z"
    }
   },
   "outputs": [
    {
     "data": {
      "image/png": "[encoded data removed]",
      "text/plain": [
       "<Figure size 432x288 with 1 Axes>"
      ]
     },
     "metadata": {
      "needs_background": "light"
     },
     "output_type": "display_data"
    }
   ],
   "source": [
    "# plot ks vs inertia\n",
    "plt.plot(ks,inertias,'-o')\n",
    "plt.xlabel('number of clusters, k')\n",
    "plt.ylabel('SSE')\n",
    "plt.xticks(ks)\n",
    "plt.show()"
   ]
  }
 ],
 "metadata": {
  "kernelspec": {
   "display_name": "Python 3",
   "language": "python",
   "name": "python3"
  },
  "language_info": {
   "codemirror_mode": {
    "name": "ipython",
    "version": 3
   },
   "file_extension": ".py",
   "mimetype": "text/x-python",
   "name": "python",
   "nbconvert_exporter": "python",
   "pygments_lexer": "ipython3",
   "version": "3.6.8"
  },
  "toc": {
   "base_numbering": 1,
   "nav_menu": {},
   "number_sections": true,
   "sideBar": true,
   "skip_h1_title": true,
   "title_cell": "Table of Contents",
   "title_sidebar": "Contents",
   "toc_cell": false,
   "toc_position": {},
   "toc_section_display": true,
   "toc_window_display": true
  }
 },
 "nbformat": 4,
 "nbformat_minor": 2
}
