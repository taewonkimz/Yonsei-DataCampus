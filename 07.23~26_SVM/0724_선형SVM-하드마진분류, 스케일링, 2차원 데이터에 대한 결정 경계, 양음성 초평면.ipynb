{
 "cells": [
  {
   "cell_type": "code",
   "execution_count": 2,
   "metadata": {},
   "outputs": [
    {
     "name": "stdout",
     "output_type": "stream",
     "text": [
      "[0 1 1]\n"
     ]
    }
   ],
   "source": [
    "import sklearn.svm as svm\n",
    "\n",
    "# 선형 SVM 객체 생성. clf : classifier의 약자\n",
    "svm_clf = svm.LinearSVC()\n",
    "\n",
    "# 연습용 학습 데이터 준비\n",
    "X_train = [[1, 2], [5, 6], [2, 3], [6, 7], [3, 1], [7, 5]]\n",
    "y_train = [0, 1, 0, 1, 0, 1]\n",
    "\n",
    "# 선형 SVM 객체를 훈련시킴\n",
    "clf = svm_clf.fit(X_train, y_train)\n",
    "\n",
    "# 검증 데이터 준비\n",
    "X_test = [[1.5, 3.1], [4, 4.5], [6.7, 4.7]]\n",
    "y_test = [0, 0, 1]\n",
    "\n",
    "# 예측\n",
    "y_pred = clf.predict(X_test)\n",
    "\n",
    "print(y_pred)"
   ]
  },
  {
   "cell_type": "code",
   "execution_count": 3,
   "metadata": {},
   "outputs": [
    {
     "name": "stdout",
     "output_type": "stream",
     "text": [
      "정확도 : 0.667\n"
     ]
    }
   ],
   "source": [
    "# 분석 결과의 정확도 평가\n",
    "import sklearn.metrics as mt\n",
    "\n",
    "score = mt.accuracy_score(y_test, y_pred)\n",
    "print(\"정확도 : {:.3f}\".format(score))"
   ]
  },
  {
   "cell_type": "code",
   "execution_count": 4,
   "metadata": {},
   "outputs": [
    {
     "name": "stdout",
     "output_type": "stream",
     "text": [
      "정확도 : 0.667\n"
     ]
    }
   ],
   "source": [
    "# 실행 객체 또는 분류 모형의 정확도 평가\n",
    "score = clf.score(X_test, y_test)\n",
    "print(\"정확도 : {:.3f}\".format(score))"
   ]
  },
  {
   "cell_type": "code",
   "execution_count": 5,
   "metadata": {},
   "outputs": [],
   "source": [
    "# 두 번째 방법"
   ]
  },
  {
   "cell_type": "code",
   "execution_count": 6,
   "metadata": {},
   "outputs": [
    {
     "name": "stdout",
     "output_type": "stream",
     "text": [
      "[0 1 1]\n"
     ]
    }
   ],
   "source": [
    "import sklearn.svm as svm\n",
    "\n",
    "# kernel = \"linear\" : 선형으로 분류 결정 경계를 구함\n",
    "svm_clf = svm.SVC(kernel = \"linear\")\n",
    "\n",
    "# 연습용 학습 데이터 준비\n",
    "X_train = [[1, 2], [5, 6], [2, 3], [6, 7], [3, 1], [7, 5]]\n",
    "y_train = [0, 1, 0, 1, 0, 1]\n",
    "\n",
    "# 선형 SVM 객체를 훈련시킴\n",
    "clf = svm_clf.fit(X_train, y_train)\n",
    "\n",
    "# 검증 데이터 준비\n",
    "X_test = [[1.5, 3.1], [4, 4.5], [6.7, 4.7]]\n",
    "y_test = [0, 0, 1]\n",
    "\n",
    "# 예측\n",
    "y_pred = clf.predict(X_test)\n",
    "\n",
    "print(y_pred)"
   ]
  },
  {
   "cell_type": "code",
   "execution_count": 7,
   "metadata": {},
   "outputs": [
    {
     "name": "stdout",
     "output_type": "stream",
     "text": [
      "정확도 : 0.667\n"
     ]
    }
   ],
   "source": [
    "# 분석 결과의 정확도 평가\n",
    "import sklearn.metrics as mt\n",
    "\n",
    "score = mt.accuracy_score(y_test, y_pred)\n",
    "print(\"정확도 : {:.3f}\".format(score))"
   ]
  },
  {
   "cell_type": "code",
   "execution_count": 8,
   "metadata": {},
   "outputs": [
    {
     "name": "stdout",
     "output_type": "stream",
     "text": [
      "정확도 : 0.667\n"
     ]
    }
   ],
   "source": [
    "# 실행 객체 또는 분류 모형의 정확도 평가\n",
    "score = clf.score(X_test, y_test)\n",
    "print(\"정확도 : {:.3f}\".format(score))"
   ]
  },
  {
   "cell_type": "code",
   "execution_count": null,
   "metadata": {},
   "outputs": [],
   "source": [
    "# 손실함수 = 비용함수"
   ]
  },
  {
   "cell_type": "code",
   "execution_count": 9,
   "metadata": {},
   "outputs": [],
   "source": [
    "import sklearn.svm as svm\n",
    "\n",
    "# 원래 X_train = [[1, 2], [5, 6], [2, 3], [6, 7], [3, 1], [7, 5]] 인데,\n",
    "# y축에 10을 곱해줌\n",
    "X_train = [[item[0], item[1] * 10] for item in X_train]\n",
    "y_train = [0, 1, 0, 1, 0, 1]\n",
    "\n",
    "svm_clf = svm.SVC(kernel = \"linear\")\n",
    "\n",
    "clf = svm_clf.fit(X_train, y_train)\n",
    "\n",
    "# 그림 그리면 결정 경계가 거의 수평선이 됨 : SVM은 데이터 특성의 스케일에 민감"
   ]
  },
  {
   "cell_type": "code",
   "execution_count": 10,
   "metadata": {},
   "outputs": [],
   "source": [
    "import sklearn.preprocessing as pp\n",
    "import sklearn.svm as svm\n",
    "\n",
    "# 원래 X_train = [[1, 2], [5, 6], [2, 3], [6, 7], [3, 1], [7, 5]] 인데,\n",
    "# y축에 10을 곱해줌\n",
    "X_train = [[item[0], item[1] * 10] for item in X_train]\n",
    "y_train = [0, 1, 0, 1, 0, 1]\n",
    "\n",
    "svm_clf = svm.SVC(kernel = \"linear\")\n",
    "\n",
    "# 스케일링 객체 생성\n",
    "scl = pp.StandardScaler()\n",
    "\n",
    "# X_train에 대해 스케일링 실행\n",
    "X_train = scl.fit_transform(X_train)\n",
    "\n",
    "clf = svm_clf.fit(X_train, y_train)"
   ]
  },
  {
   "cell_type": "code",
   "execution_count": 11,
   "metadata": {},
   "outputs": [],
   "source": [
    "# coef_ => [w1, w2]\n",
    "# intercept_ => [w0]"
   ]
  },
  {
   "cell_type": "code",
   "execution_count": 13,
   "metadata": {},
   "outputs": [],
   "source": [
    "import numpy as np\n",
    "\n",
    "# np.linspace(a, b) : a부터 b까지 균일한 간격으로 50개\n",
    "xx = np.linspace(1, 7)\n",
    "\n",
    "# coef_[0][0] : w1, coef_[0][0] : w2\n",
    "yy = -(clf.coef_[0][0] / clf.coef_[0][1]) * xx - clf.intercept_ / clf.coef_[0][1]"
   ]
  },
  {
   "cell_type": "markdown",
   "metadata": {},
   "source": [
    "# 그림그리기"
   ]
  },
  {
   "cell_type": "code",
   "execution_count": 14,
   "metadata": {},
   "outputs": [],
   "source": [
    "from sklearn import svm\n",
    "\n",
    "# 연습용 학습 데이터 준비\n",
    "X_train = [[1, 2], [5, 6], [2, 3], [6, 7], [3, 1], [7, 5]]\n",
    "y_train = [0, 1, 0, 1, 0, 1]\n",
    "\n",
    "# svm.SVC(kernel = \"linear\")\n",
    "svm_clf = svm.LinearSVC()\n",
    "clf = svm_clf.fit(X_train, y_train)\n",
    "\n",
    "# 검증 데이터 준비\n",
    "X_test = [[1.5, 3.1], [4, 4.5], [6.7, 4.7]]\n",
    "y_test = [0, 0, 1]\n",
    "\n",
    "y_pred = clf.predict(X_test)"
   ]
  },
  {
   "cell_type": "code",
   "execution_count": 32,
   "metadata": {},
   "outputs": [],
   "source": [
    "import numpy as np\n",
    "\n",
    "xx = np.linspace(0, 8)  # 결정 경계선을 그림 안에 꽉 채우기 위해 기존 x좌표 (1, 7)에 -1, +1 해줌\n",
    "yy = -(clf.coef_[0][0] / clf.coef_[0][1]) * xx - clf.intercept_ / clf.coef_[0][1]"
   ]
  },
  {
   "cell_type": "code",
   "execution_count": 33,
   "metadata": {
    "scrolled": true
   },
   "outputs": [
    {
     "data": {
      "image/png": "[encoded data removed]",
      "text/plain": [
       "<Figure size 432x288 with 1 Axes>"
      ]
     },
     "metadata": {},
     "output_type": "display_data"
    }
   ],
   "source": [
    "import matplotlib.pyplot as plt\n",
    "\n",
    "# 훈련데이터 그리기\n",
    "\n",
    "# 색깔, 마커형식, 레이블명 지정\n",
    "c1 = ['blue', 'red']\n",
    "m1 = ['o', 'D']\n",
    "l1 = ['Class0 (train)', 'Class1 (train)']\n",
    "\n",
    "for t in set(y_train) :\n",
    "    # x, y좌표 값을 가져옴. pts : points의 약자\n",
    "    X_pts = [X_train[i][0] for i in range(6) if y_train[i] == t]\n",
    "    y_pts = [X_train[i][1] for i in range(6) if y_train[i] == t]\n",
    "    # t = 0이면 blue, 동그라미,  1이면 red, 마름모\n",
    "    plt.scatter(X_pts, y_pts, color = c1[t], marker = m1[t], label = l1[t])\n",
    "\n",
    "\n",
    "# 검증데이터 그리기\n",
    "\n",
    "l2 = ['Class0 (test)', 'Class1 (test)']\n",
    "\n",
    "for t in set(y_test) :\n",
    "    # x, y좌표 값을 가져옴\n",
    "    X_pts = [X_test[i][0] for i in range(3) if y_test[i] == t]\n",
    "    y_pts = [X_test[i][1] for i in range(3) if y_test[i] == t]\n",
    "    # egdecolors : 테두리 색, facecolors = 'none' : 내부 색 안채움\n",
    "    plt.scatter(X_pts, y_pts, marker = m1[t], label = l2[t], edgecolors = c1[t], facecolors = 'none')\n",
    "\n",
    "\n",
    "# 예측데이터 그리기\n",
    "\n",
    "l3 = ['Class0 (predicted)', 'Class1 (predicted)']\n",
    "\n",
    "for t in set(y_pred) :\n",
    "    # x, y좌표 값을 가져옴\n",
    "    X_pts = [X_test[i][0] for i in range(3) if y_pred[i] == t]\n",
    "    y_pts = [X_test[i][1] for i in range(3) if y_pred[i] == t]\n",
    "    plt.scatter(X_pts, y_pts, marker = m1[t], label = l3[t], \\\n",
    "                edgecolors = 'black', facecolors = 'none', s = 150)  # s : 크기\n",
    "\n",
    "\n",
    "plt.xlabel(\"X-axis\", fontsize = 15)\n",
    "plt.ylabel(\"Y-axis\", fontsize = 15)\n",
    "plt.title(\"Linear SVM (Hard Margin)\", fontsize = 20)\n",
    "plt.legend(fontsize = 14, loc = 'lower right', bbox_to_anchor = (1.6, 0))  # bbox_to_ancher = (좌표)\n",
    "\n",
    "\n",
    "# 결정 경계선 그리기\n",
    "plt.plot(xx, yy, color = 'green', linestyle = '--')\n",
    "plt.xlim(0.5, 7.5)  # 결정 경계선을 꽉채우기 위해 x축의 그림 출력 범위를 줄임\n",
    "\n",
    "plt.show()"
   ]
  },
  {
   "cell_type": "code",
   "execution_count": 2,
   "metadata": {},
   "outputs": [],
   "source": [
    "import numpy as np"
   ]
  },
  {
   "cell_type": "markdown",
   "metadata": {},
   "source": [
    "## 실습 : 붓꽃 데이터 iris로 선형 SVM(하드 마진) 분류를 수행하시오.\n",
    "\n",
    "### 1. 특성은 꽃잎의 길이와 너비임\n",
    "\n",
    "### 2. 레이블은\n",
    "#### (1) virginica 인지, 아닌지\n",
    "#### (2) setosa 인지, 아닌지\n",
    "\n",
    "### 3. 위의 레이블들로 각각 분류를 수행한다.\n",
    "#### (즉, 총 2회의 학습을 개별적으로 함)\n",
    "\n",
    "### 4. 플롯, 산점도로 표시한다.(데이터들과 결정경계)\n",
    "\n",
    "### 5. 학습/검증 데이터로 분리하지 않는다.(150개 모두 훈련데이터)"
   ]
  },
  {
   "cell_type": "code",
   "execution_count": 122,
   "metadata": {},
   "outputs": [
    {
     "data": {
      "text/plain": [
       "[3, 6, 1, 3]"
      ]
     },
     "execution_count": 122,
     "metadata": {},
     "output_type": "execute_result"
    },
    {
     "data": {
      "image/png": "[encoded data removed]",
      "text/plain": [
       "<Figure size 432x288 with 1 Axes>"
      ]
     },
     "metadata": {},
     "output_type": "display_data"
    }
   ],
   "source": [
    "import sklearn.datasets as d\n",
    "\n",
    "iris = d.load_iris()\n",
    "\n",
    "# iris.data에서 2,3번째 열만 가져옴\n",
    "X = iris.data[:, 2:4]\n",
    "\n",
    "# virginica(2)가 맞으면 1, 아니면(0, 1) 0\n",
    "# (iris.target == 2) : [False, False, ..., False, True, True, True, ..., True]\n",
    "# .astype(np.int) : numpy 형식으로, 정수형으로 변환 ==> [0, 0, 0, .., 1, 1]\n",
    "y = (iris.target == 2).astype(np.int)\n",
    "\n",
    "from sklearn import svm\n",
    "clf = svm.SVC(kernel = \"linear\").fit(X, y)\n",
    "\n",
    "\n",
    "import matplotlib.pyplot as plt\n",
    "cset = ['blue', 'red']\n",
    "mset = ['s', '^']\n",
    "lset = ['Is not virginica', 'Is virginica']  # [음성, 양성]\n",
    "\n",
    "for t in set(y) :  # y는 0 또는 1의 배열\n",
    "    X_pts = [X[i][0] for i in range(len(y)) if y[i] == t]\n",
    "    y_pts = [X[i][1] for i in range(len(y)) if y[i] == t]\n",
    "    plt.scatter(X_pts, y_pts, color = cset[t], marker = mset[t], label = lset[t])\n",
    "\n",
    "# x, y 좌표 생성\n",
    "import numpy\n",
    "xx = np.linspace(1, 7)\n",
    "yy = -(clf.coef_[0][0] / clf.coef_[0][1]) * xx - clf.intercept_ / clf.coef_[0][1]\n",
    "\n",
    "plt.plot(xx, yy, color = 'green', linestyle = '--')\n",
    "plt.legend(loc = 'upper left', fontsize = 14)\n",
    "# x좌표, y좌표 한계점 설정 : plt.axis([x좌표 범위, y좌표 범위])\n",
    "plt.axis([3, 6, 1, 3])  # x : 3~6, y : 1~3\n",
    "\n",
    "# 하드마진 실패!"
   ]
  },
  {
   "cell_type": "code",
   "execution_count": 6,
   "metadata": {},
   "outputs": [
    {
     "data": {
      "text/plain": [
       "[1, 4, 0, 3]"
      ]
     },
     "execution_count": 6,
     "metadata": {},
     "output_type": "execute_result"
    },
    {
     "data": {
      "image/png": "[encoded data removed]",
      "text/plain": [
       "<Figure size 432x288 with 1 Axes>"
      ]
     },
     "metadata": {},
     "output_type": "display_data"
    }
   ],
   "source": [
    "import sklearn.datasets as d\n",
    "\n",
    "iris = d.load_iris()\n",
    "\n",
    "# iris.data에서 2,3번째 열만 가져옴\n",
    "X = iris.data[:, 2:4]\n",
    "\n",
    "# setosa(0)가 맞으면 1, 아니면(0, 1) 0\n",
    "# .astype(np.int) : numpy 형식으로, 정수형으로 변환\n",
    "y = (iris.target == 0).astype(np.int)\n",
    "\n",
    "from sklearn import svm\n",
    "clf = svm.SVC(kernel = \"linear\").fit(X, y)\n",
    "\n",
    "\n",
    "import matplotlib.pyplot as plt\n",
    "cset = ['blue', 'red']\n",
    "mset = ['s', '^']\n",
    "lset = ['Is not setosa', 'Is setosa']  # [음성, 양성]\n",
    "\n",
    "for t in set(y) :  # y는 0 또는 1의 배열\n",
    "    X_pts = [X[i][0] for i in range(len(y)) if y[i] == t]\n",
    "    y_pts = [X[i][1] for i in range(len(y)) if y[i] == t]\n",
    "    plt.scatter(X_pts, y_pts, color = cset[t], marker = mset[t], label = lset[t])\n",
    "\n",
    "# x, y 좌표 생성\n",
    "import numpy\n",
    "xx = np.linspace(1, 7)\n",
    "yy = -(clf.coef_[0][0] / clf.coef_[0][1]) * xx - clf.intercept_ / clf.coef_[0][1]\n",
    "\n",
    "# 초평면\n",
    "margin = 1 / clf.coef_[0][1]\n",
    "yy_up = yy + margin\n",
    "yy_down = yy - margin\n",
    "\n",
    "plt.plot(xx, yy, color = 'black', linestyle = '-')\n",
    "plt.plot(xx, yy_up, color = 'black', linestyle = '--')\n",
    "plt.plot(xx, yy_down, color = 'black', linestyle = '--')\n",
    "\n",
    "plt.legend(loc = 'upper left', fontsize = 14)\n",
    "\n",
    "# x좌표, y좌표 한계점 설정 : plt.axis([x좌표 범위, y좌표 범위])\n",
    "plt.axis([1, 4, 0, 3])\n",
    "\n",
    "# 하드마진 성공인 줄 알았지만, 양성 초평면과 음성 초평면을 그려보니 실패임...\n",
    "# 하드마진은 매우 어려움. 따라서 이를 해결하기 위한 것이 소프트 마진."
   ]
  },
  {
   "cell_type": "code",
   "execution_count": null,
   "metadata": {},
   "outputs": [],
   "source": []
  }
 ],
 "metadata": {
  "kernelspec": {
   "display_name": "Python 3",
   "language": "python",
   "name": "python3"
  },
  "language_info": {
   "codemirror_mode": {
    "name": "ipython",
    "version": 3
   },
   "file_extension": ".py",
   "mimetype": "text/x-python",
   "name": "python",
   "nbconvert_exporter": "python",
   "pygments_lexer": "ipython3",
   "version": "3.6.5"
  }
 },
 "nbformat": 4,
 "nbformat_minor": 2
}
