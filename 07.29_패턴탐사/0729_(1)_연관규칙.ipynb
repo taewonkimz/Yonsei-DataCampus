{
 "cells": [
  {
   "cell_type": "code",
   "execution_count": 14,
   "metadata": {},
   "outputs": [],
   "source": [
    "import apyori as ap"
   ]
  },
  {
   "cell_type": "code",
   "execution_count": 15,
   "metadata": {},
   "outputs": [],
   "source": [
    "tr = [['우유', '계란', '커피'],\n",
    "      ['빵', '우유', '버터', '휴지', '라면'],\n",
    "      ['맥주', '땅콩'],\n",
    "      ['계란', '빵', '우유', '생수'],\n",
    "      ['햇반', '커피','간장', '계란']]"
   ]
  },
  {
   "cell_type": "code",
   "execution_count": 23,
   "metadata": {},
   "outputs": [],
   "source": [
    "rules = ap.apriori(tr, min_support = 0.3, min_confidenct = 0.6)"
   ]
  },
  {
   "cell_type": "code",
   "execution_count": 24,
   "metadata": {
    "scrolled": true
   },
   "outputs": [
    {
     "name": "stdout",
     "output_type": "stream",
     "text": [
      "RelationRecord(items=frozenset({'계란'}), support=0.6, ordered_statistics=[OrderedStatistic(items_base=frozenset(), items_add=frozenset({'계란'}), confidence=0.6, lift=1.0)])\n",
      "RelationRecord(items=frozenset({'빵'}), support=0.4, ordered_statistics=[OrderedStatistic(items_base=frozenset(), items_add=frozenset({'빵'}), confidence=0.4, lift=1.0)])\n",
      "RelationRecord(items=frozenset({'우유'}), support=0.6, ordered_statistics=[OrderedStatistic(items_base=frozenset(), items_add=frozenset({'우유'}), confidence=0.6, lift=1.0)])\n",
      "RelationRecord(items=frozenset({'커피'}), support=0.4, ordered_statistics=[OrderedStatistic(items_base=frozenset(), items_add=frozenset({'커피'}), confidence=0.4, lift=1.0)])\n",
      "RelationRecord(items=frozenset({'우유', '계란'}), support=0.4, ordered_statistics=[OrderedStatistic(items_base=frozenset({'계란'}), items_add=frozenset({'우유'}), confidence=0.6666666666666667, lift=1.1111111111111114), OrderedStatistic(items_base=frozenset({'우유'}), items_add=frozenset({'계란'}), confidence=0.6666666666666667, lift=1.1111111111111114)])\n",
      "RelationRecord(items=frozenset({'계란', '커피'}), support=0.4, ordered_statistics=[OrderedStatistic(items_base=frozenset({'계란'}), items_add=frozenset({'커피'}), confidence=0.6666666666666667, lift=1.6666666666666667), OrderedStatistic(items_base=frozenset({'커피'}), items_add=frozenset({'계란'}), confidence=1.0, lift=1.6666666666666667)])\n",
      "RelationRecord(items=frozenset({'우유', '빵'}), support=0.4, ordered_statistics=[OrderedStatistic(items_base=frozenset({'빵'}), items_add=frozenset({'우유'}), confidence=1.0, lift=1.6666666666666667), OrderedStatistic(items_base=frozenset({'우유'}), items_add=frozenset({'빵'}), confidence=0.6666666666666667, lift=1.6666666666666667)])\n"
     ]
    }
   ],
   "source": [
    "for r in rules :\n",
    "    print(r)"
   ]
  },
  {
   "cell_type": "code",
   "execution_count": 25,
   "metadata": {},
   "outputs": [],
   "source": [
    "for rule in list(rules) :\n",
    "    support = rule[1]\n",
    "    infor = list(rule[2])\n",
    "    if len(infor) > 1 :\n",
    "        for i in infor :\n",
    "            print(set(i[0]), \"==>\", set(i[1]), support, i[2], i[3])"
   ]
  },
  {
   "cell_type": "code",
   "execution_count": 28,
   "metadata": {},
   "outputs": [],
   "source": [
    "import apyori as ap\n",
    "\n",
    "f = open(r\"C:\\Users\\김태원\\Desktop\\market.csv\")\n",
    "\n",
    "tr = list(ap.load_transactions(f, delimiter = ','))\n",
    "\n",
    "f.close()"
   ]
  },
  {
   "cell_type": "code",
   "execution_count": 29,
   "metadata": {},
   "outputs": [
    {
     "name": "stdout",
     "output_type": "stream",
     "text": [
      "{'other vegetables'} ==> {'whole milk'} 0.07483477376715811 0.38675775091960063 1.5136340948246207\n",
      "{'whole milk'} ==> {'other vegetables'} 0.07483477376715811 0.2928770393951452 1.5136340948246205\n",
      "{'rolls/buns'} ==> {'whole milk'} 0.05663446873411286 0.30790491984521834 1.2050317893663836\n",
      "{'whole milk'} ==> {'rolls/buns'} 0.05663446873411286 0.22164743334659767 1.2050317893663836\n",
      "{'whole milk'} ==> {'yogurt'} 0.05602440264361973 0.21925984878631116 1.5717351405345263\n",
      "{'yogurt'} ==> {'whole milk'} 0.05602440264361973 0.40160349854227406 1.5717351405345266\n"
     ]
    }
   ],
   "source": [
    "rules = ap.apriori(tr, min_support = 0.05, min_confidence = 0.1)\n",
    "for rule in list(rules) :\n",
    "    support = rule[1]\n",
    "    infor = list(rule[2])\n",
    "    \n",
    "    if len(infor) > 1 :\n",
    "        for i in infor :\n",
    "            print(set(i[0]), \"==>\", set(i[1]), support, i[2], i[3])"
   ]
  }
 ],
 "metadata": {
  "kernelspec": {
   "display_name": "Python 3",
   "language": "python",
   "name": "python3"
  },
  "language_info": {
   "codemirror_mode": {
    "name": "ipython",
    "version": 3
   },
   "file_extension": ".py",
   "mimetype": "text/x-python",
   "name": "python",
   "nbconvert_exporter": "python",
   "pygments_lexer": "ipython3",
   "version": "3.7.4"
  }
 },
 "nbformat": 4,
 "nbformat_minor": 2
}
